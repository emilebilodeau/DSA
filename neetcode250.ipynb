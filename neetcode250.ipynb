{
 "cells": [
  {
   "cell_type": "code",
   "execution_count": 1,
   "id": "d02f3485-1d59-4aab-b034-2922460fa125",
   "metadata": {},
   "outputs": [],
   "source": [
    "import collections\n",
    "from typing import Optional, List\n",
    "import heapq"
   ]
  },
  {
   "cell_type": "markdown",
   "id": "71987ecf-63cf-4b2c-beed-0e095eaa6f50",
   "metadata": {},
   "source": [
    "# NOTES"
   ]
  },
  {
   "cell_type": "markdown",
   "id": "66f106d9-01aa-467e-90d3-d30c431ec2ca",
   "metadata": {},
   "source": [
    "### general notes\n",
    "1. problems denoted by * proved to be quite challenging for me upon first attempt\n",
    "2. problems denoted by ** are exceedingly challenging and will require a lot of revision\n",
    "3. problems denoted by @ remain incomplete\n",
    "4. in leetcode, problems with notes in green are first attempts/solutions or reworks after failure. those with notes in blue are review\n",
    "\n",
    "### study notes\n",
    "1. these are an extension of the orginal 150 roadmap, with a focus on topics i felt i struggled with a bit more"
   ]
  },
  {
   "cell_type": "markdown",
   "id": "349695d6-a2d4-4980-a3eb-d46d3b5370ef",
   "metadata": {},
   "source": [
    "# 2b. Stack"
   ]
  },
  {
   "cell_type": "markdown",
   "id": "87a37df4-7547-4aaa-9609-1bcd1f6a4c01",
   "metadata": {
    "jp-MarkdownHeadingCollapsed": true,
    "tags": []
   },
   "source": [
    "### 682. Baseball game (easy)"
   ]
  },
  {
   "cell_type": "markdown",
   "id": "897b1c20-3d2f-4bc0-99ec-8e73e5c2695f",
   "metadata": {},
   "source": [
    "You are keeping the scores for a baseball game with strange rules. At the beginning of the game, you start with an empty record.\n",
    "\n",
    "You are given a list of strings operations, where operations[i] is the ith operation you must apply to the record and is one of the following:\n",
    "\n",
    "* An integer x.\n",
    "    * Record a new score of x.\n",
    "* '+'.\n",
    "    * Record a new score that is the sum of the previous two scores.\n",
    "* 'D'.\n",
    "    * Record a new score that is the double of the previous score.\n",
    "* 'C'.\n",
    "    * Invalidate the previous score, removing it from the record.\n",
    "    \n",
    "Return the sum of all the scores on the record after applying all the operations.\n",
    "\n",
    "The test cases are generated such that the answer and all intermediate calculations fit in a 32-bit integer and that all operations are valid."
   ]
  },
  {
   "cell_type": "code",
   "execution_count": 10,
   "id": "3effaa63-4a43-4761-a3ab-1d17297bb921",
   "metadata": {},
   "outputs": [],
   "source": [
    "# attempt\n",
    "# time complexity: O(n)\n",
    "# space complexity: O(n)\n",
    "\n",
    "class Solution:\n",
    "    def calPoints(self, operations: List[str]) -> int:\n",
    "        # keeps track of records\n",
    "        stack = []\n",
    "\n",
    "        for op in operations:\n",
    "            if op == '+':\n",
    "                n1, n2 = stack[-1], stack[-2]\n",
    "                stack.append(n1+n2)\n",
    "            elif op == 'D':\n",
    "                num = stack[-1]\n",
    "                stack.append(num*2)\n",
    "            elif op == 'C':\n",
    "                stack.pop()\n",
    "            else:\n",
    "                stack.append(int(op))\n",
    "\n",
    "        return sum(stack)\n",
    "    \n",
    "# status = success"
   ]
  },
  {
   "cell_type": "code",
   "execution_count": 8,
   "id": "18da2607-39d1-41c7-947b-bbe8799f9395",
   "metadata": {},
   "outputs": [],
   "source": [
    "# attempt 2\n",
    "# time complexity: O(n)\n",
    "# space complexity: O(n)\n",
    "\n",
    "class Solution:\n",
    "    def calPoints(self, operations: List[str]) -> int:\n",
    "        # keeps track of records\n",
    "        stack = []\n",
    "        record = 0\n",
    "\n",
    "        for op in operations:\n",
    "            if op == '+':\n",
    "                n1, n2 = stack[-1], stack[-2]\n",
    "                stack.append(n1 + n2)\n",
    "                record += n1 + n2\n",
    "            elif op == 'D':\n",
    "                num = stack[-1] * 2\n",
    "                stack.append(num)\n",
    "                record += num\n",
    "            elif op == 'C':\n",
    "                d = stack.pop()\n",
    "                record -= d\n",
    "            else:\n",
    "                stack.append(int(op))\n",
    "                record += int(op)\n",
    "\n",
    "        return record\n",
    "    \n",
    "# NOTE: improved time complexity. even though overall time complexity is the same, since sum() has a time complexity O(n) itself, by getting rid of it operation is slightly faster"
   ]
  },
  {
   "cell_type": "code",
   "execution_count": 9,
   "id": "9da8ee65-9ca9-4958-9ce8-eb0156048608",
   "metadata": {},
   "outputs": [],
   "source": [
    "# solution\n",
    "# time complexity: O(n)\n",
    "# space complexity: O(n)\n",
    "\n",
    "class Solution:\n",
    "    def calPoints(self, operations: List[str]) -> int:\n",
    "        stack, res = [], 0\n",
    "        for op in operations:\n",
    "            if op == \"+\":\n",
    "                res += stack[-1] + stack[-2]\n",
    "                stack.append(stack[-1] + stack[-2])\n",
    "            elif op == \"D\":\n",
    "                res += (2 * stack[-1])\n",
    "                stack.append(2 * stack[-1])\n",
    "            elif op == \"C\":\n",
    "                res -= stack.pop()\n",
    "            else:\n",
    "                res += int(op)\n",
    "                stack.append(int(op))\n",
    "        return res"
   ]
  },
  {
   "cell_type": "markdown",
   "id": "534d6ee3-ade0-4e04-9920-3479cf3f47d7",
   "metadata": {},
   "source": [
    "#### explanation\n",
    "\n",
    "my own: this problem is very straighforward but is made easy because the input is guaranteed to be valid. the neetcode solution is the same as my improved solution (his is less verbose)"
   ]
  },
  {
   "cell_type": "markdown",
   "id": "9d67af70-2abe-4294-b235-7a73c604208e",
   "metadata": {
    "jp-MarkdownHeadingCollapsed": true,
    "tags": []
   },
   "source": [
    "### 225. Implement Stack Using Queues (easy)"
   ]
  },
  {
   "cell_type": "markdown",
   "id": "0e1f59b1-56e6-458e-8f47-8783e71b502f",
   "metadata": {},
   "source": [
    "Implement a last-in-first-out (LIFO) stack using only two queues. The implemented stack should support all the functions of a normal stack (push, top, pop, and empty).\n",
    "\n",
    "Implement the MyStack class:\n",
    "\n",
    "* void push(int x) Pushes element x to the top of the stack.\n",
    "* int pop() Removes the element on the top of the stack and returns it.\n",
    "* int top() Returns the element on the top of the stack.\n",
    "* boolean empty() Returns true if the stack is empty, false otherwise.\n",
    "\n",
    "Notes:\n",
    "\n",
    "* You must use only standard operations of a queue, which means that only push to back, peek/pop from front, size and is empty operations are valid.\n",
    "* Depending on your language, the queue may not be supported natively. You may simulate a queue using a list or deque (double-ended queue) as long as you use only a queue's standard operations."
   ]
  },
  {
   "cell_type": "code",
   "execution_count": 5,
   "id": "1c0c02e5-5847-4763-bc4d-ac4ecefa8e81",
   "metadata": {},
   "outputs": [],
   "source": [
    "# attempt\n",
    "\n",
    "class MyStack:\n",
    "\n",
    "    def __init__(self):\n",
    "        self.stack = []\n",
    "\n",
    "    def push(self, x: int) -> None:\n",
    "        self.stack.append(x)\n",
    "\n",
    "    def pop(self) -> int:\n",
    "        element = self.stack.pop()\n",
    "        return element\n",
    "\n",
    "    def top(self) -> int:\n",
    "        if self.stack:\n",
    "            element = self.stack[-1]\n",
    "            return element\n",
    "        else:\n",
    "            return []\n",
    "\n",
    "    def empty(self) -> bool:\n",
    "        if len(self.stack) == 0:\n",
    "            return True\n",
    "        return False\n",
    "    \n",
    "# status = success\n",
    "# NOTE: not sure what they meant by only using two queues? also didn't learn much with this"
   ]
  },
  {
   "cell_type": "code",
   "execution_count": 7,
   "id": "fd99fb9e-954c-42e1-bc82-66a29834e140",
   "metadata": {},
   "outputs": [],
   "source": [
    "# solution\n",
    "# time complexity: O(1) for init and pop, O(n) for push\n",
    "# space complexity: O(n)\n",
    "\n",
    "class MyStack:\n",
    "\n",
    "    def __init__(self):\n",
    "        # double ended queue, but not using advanced features for this\n",
    "        self.q = deque()\n",
    "\n",
    "    def push(self, x: int) -> None:\n",
    "        self.q.append(x)\n",
    "        for _ in range(len(self.q) - 1):\n",
    "            self.q.append(self.q.popleft())\n",
    "\n",
    "    def pop(self) -> int:\n",
    "        return self.q.popleft()\n",
    "\n",
    "    def top(self) -> int:\n",
    "        return self.q[0]\n",
    "\n",
    "    def empty(self) -> bool:\n",
    "        return len(self.q) == 0"
   ]
  },
  {
   "cell_type": "markdown",
   "id": "11a1687b-39bc-43b2-99c4-770ebc1f6dcb",
   "metadata": {},
   "source": [
    "#### explanation\n",
    "\n",
    "my own: this problem is looking at LIFO queues (last in first out), as opposed to FIFO queues (first in first out) which i'm sure more used to. this neetcode solution is also quite different from the video... i'm not sure why.\n",
    "\n",
    "in this solution we're using a double ended queue (deque()) but because of the problem description we aren't going to use all of its feature. this queue looks like it's meant to hold the last added number at index 0, aka we're supposed to append left. \n",
    "\n",
    "* pop(self)\n",
    "\n",
    "very straighforward, we can use popleft() which will pop the element at the beginning of the stack, which will be the last number added\n",
    "\n",
    "* top(self)\n",
    "\n",
    "also very straightforward. as mentionned, the last element added will be at the beginning of the stack, so we return the element at index 0\n",
    "\n",
    "* empty(self)\n",
    "\n",
    "super easy as well... just check the length of the queue\n",
    "\n",
    "* push(self, x)\n",
    "\n",
    "the only one with a bit more to it. we begin by adding the new number at the end of the stack using append. then we need to switch it's position to be the first element. we do that using a simple for loop, which iterates for the range of the queue -1 because we don't want to pop the last element we added. pop from the left and use the popped value and append it the queue. the result will be your stack is reorganized to have the elements added last at the beginning of the stack and older elements at the end of the stack"
   ]
  }
 ],
 "metadata": {
  "kernelspec": {
   "display_name": "Python 3",
   "language": "python",
   "name": "python3"
  },
  "language_info": {
   "codemirror_mode": {
    "name": "ipython",
    "version": 3
   },
   "file_extension": ".py",
   "mimetype": "text/x-python",
   "name": "python",
   "nbconvert_exporter": "python",
   "pygments_lexer": "ipython3",
   "version": "3.8.5"
  }
 },
 "nbformat": 4,
 "nbformat_minor": 5
}
