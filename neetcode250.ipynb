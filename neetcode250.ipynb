{
 "cells": [
  {
   "cell_type": "code",
   "execution_count": 1,
   "id": "d02f3485-1d59-4aab-b034-2922460fa125",
   "metadata": {},
   "outputs": [],
   "source": [
    "import collections\n",
    "from typing import Optional, List\n",
    "import heapq"
   ]
  },
  {
   "cell_type": "markdown",
   "id": "71987ecf-63cf-4b2c-beed-0e095eaa6f50",
   "metadata": {},
   "source": [
    "# NOTES"
   ]
  },
  {
   "cell_type": "markdown",
   "id": "66f106d9-01aa-467e-90d3-d30c431ec2ca",
   "metadata": {},
   "source": [
    "### general notes\n",
    "1. problems denoted by * proved to be quite challenging for me upon first attempt\n",
    "2. problems denoted by ** are exceedingly challenging and will require a lot of revision\n",
    "3. problems denoted by @ remain incomplete\n",
    "4. in leetcode, problems with notes in green are first attempts/solutions or reworks after failure. those with notes in blue are review\n",
    "\n",
    "### study notes\n",
    "1. these are an extension of the orginal 150 roadmap, with a focus on topics i felt i struggled with a bit more"
   ]
  },
  {
   "cell_type": "markdown",
   "id": "349695d6-a2d4-4980-a3eb-d46d3b5370ef",
   "metadata": {},
   "source": [
    "# 2b. Stack"
   ]
  },
  {
   "cell_type": "markdown",
   "id": "87a37df4-7547-4aaa-9609-1bcd1f6a4c01",
   "metadata": {},
   "source": [
    "### 682. Baseball game (easy)"
   ]
  },
  {
   "cell_type": "markdown",
   "id": "897b1c20-3d2f-4bc0-99ec-8e73e5c2695f",
   "metadata": {},
   "source": [
    "You are keeping the scores for a baseball game with strange rules. At the beginning of the game, you start with an empty record.\n",
    "\n",
    "You are given a list of strings operations, where operations[i] is the ith operation you must apply to the record and is one of the following:\n",
    "\n",
    "* An integer x.\n",
    "    * Record a new score of x.\n",
    "* '+'.\n",
    "    * Record a new score that is the sum of the previous two scores.\n",
    "* 'D'.\n",
    "    * Record a new score that is the double of the previous score.\n",
    "* 'C'.\n",
    "    * Invalidate the previous score, removing it from the record.\n",
    "    \n",
    "Return the sum of all the scores on the record after applying all the operations.\n",
    "\n",
    "The test cases are generated such that the answer and all intermediate calculations fit in a 32-bit integer and that all operations are valid."
   ]
  },
  {
   "cell_type": "code",
   "execution_count": 10,
   "id": "3effaa63-4a43-4761-a3ab-1d17297bb921",
   "metadata": {},
   "outputs": [],
   "source": [
    "# attempt\n",
    "# time complexity: O(n)\n",
    "# space complexity: O(n)\n",
    "\n",
    "class Solution:\n",
    "    def calPoints(self, operations: List[str]) -> int:\n",
    "        # keeps track of records\n",
    "        stack = []\n",
    "\n",
    "        for op in operations:\n",
    "            if op == '+':\n",
    "                n1, n2 = stack[-1], stack[-2]\n",
    "                stack.append(n1+n2)\n",
    "            elif op == 'D':\n",
    "                num = stack[-1]\n",
    "                stack.append(num*2)\n",
    "            elif op == 'C':\n",
    "                stack.pop()\n",
    "            else:\n",
    "                stack.append(int(op))\n",
    "\n",
    "        return sum(stack)\n",
    "    \n",
    "# status = success"
   ]
  },
  {
   "cell_type": "code",
   "execution_count": 8,
   "id": "18da2607-39d1-41c7-947b-bbe8799f9395",
   "metadata": {},
   "outputs": [],
   "source": [
    "# attempt 2\n",
    "# time complexity: O(n)\n",
    "# space complexity: O(n)\n",
    "\n",
    "class Solution:\n",
    "    def calPoints(self, operations: List[str]) -> int:\n",
    "        # keeps track of records\n",
    "        stack = []\n",
    "        record = 0\n",
    "\n",
    "        for op in operations:\n",
    "            if op == '+':\n",
    "                n1, n2 = stack[-1], stack[-2]\n",
    "                stack.append(n1 + n2)\n",
    "                record += n1 + n2\n",
    "            elif op == 'D':\n",
    "                num = stack[-1] * 2\n",
    "                stack.append(num)\n",
    "                record += num\n",
    "            elif op == 'C':\n",
    "                d = stack.pop()\n",
    "                record -= d\n",
    "            else:\n",
    "                stack.append(int(op))\n",
    "                record += int(op)\n",
    "\n",
    "        return record\n",
    "    \n",
    "# NOTE: improved time complexity. even though overall time complexity is the same, since sum() has a time complexity O(n) itself, by getting rid of it operation is slightly faster"
   ]
  },
  {
   "cell_type": "code",
   "execution_count": 9,
   "id": "9da8ee65-9ca9-4958-9ce8-eb0156048608",
   "metadata": {},
   "outputs": [],
   "source": [
    "# solution\n",
    "# time complexity: O(n)\n",
    "# space complexity: O(n)\n",
    "\n",
    "class Solution:\n",
    "    def calPoints(self, operations: List[str]) -> int:\n",
    "        stack, res = [], 0\n",
    "        for op in operations:\n",
    "            if op == \"+\":\n",
    "                res += stack[-1] + stack[-2]\n",
    "                stack.append(stack[-1] + stack[-2])\n",
    "            elif op == \"D\":\n",
    "                res += (2 * stack[-1])\n",
    "                stack.append(2 * stack[-1])\n",
    "            elif op == \"C\":\n",
    "                res -= stack.pop()\n",
    "            else:\n",
    "                res += int(op)\n",
    "                stack.append(int(op))\n",
    "        return res"
   ]
  },
  {
   "cell_type": "markdown",
   "id": "534d6ee3-ade0-4e04-9920-3479cf3f47d7",
   "metadata": {},
   "source": [
    "#### explanation\n",
    "\n",
    "my own: this problem is very straighforward but is made easy because the input is guaranteed to be valid. the neetcode solution is the same as my improved solution (his is less verbose)"
   ]
  }
 ],
 "metadata": {
  "kernelspec": {
   "display_name": "Python 3",
   "language": "python",
   "name": "python3"
  },
  "language_info": {
   "codemirror_mode": {
    "name": "ipython",
    "version": 3
   },
   "file_extension": ".py",
   "mimetype": "text/x-python",
   "name": "python",
   "nbconvert_exporter": "python",
   "pygments_lexer": "ipython3",
   "version": "3.8.5"
  }
 },
 "nbformat": 4,
 "nbformat_minor": 5
}
