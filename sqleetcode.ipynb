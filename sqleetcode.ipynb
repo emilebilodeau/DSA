{
 "cells": [
  {
   "cell_type": "markdown",
   "id": "73a0321c-edb6-4bd6-910e-27fe6f75b729",
   "metadata": {
    "tags": []
   },
   "source": [
    "# SQL Leetcode \n",
    "\n",
    "this notebook is intended to be used to practice SQL (MySQL) through individual questions, as well as gather notes on common topics, best practices, and any information that is new to me. studying SQL courses does not seem to be very effective for various reasons (slow, repetitive but information doesn't seem to stick, boring); trying this approach instead. will attempt to implement what is learned in projects further down the line. \n",
    "\n",
    "have not currently found a way to format this notebook nicely, so mostly only using markdown cells. doesn't look great but will do for now"
   ]
  },
  {
   "cell_type": "markdown",
   "id": "fc3b43ab-ebc7-4515-a103-913ec9f1284c",
   "metadata": {
    "tags": []
   },
   "source": [
    "## Easy Problems"
   ]
  },
  {
   "cell_type": "markdown",
   "id": "fd6d3bed-a20a-4eba-bca6-41af6d5b606e",
   "metadata": {
    "jp-MarkdownHeadingCollapsed": true,
    "tags": []
   },
   "source": [
    "### 175. Combine Two Tables"
   ]
  },
  {
   "cell_type": "markdown",
   "id": "e4e1a673-abf6-4b9a-89d0-918432cd77db",
   "metadata": {
    "tags": []
   },
   "source": [
    "#### <u>description</u>"
   ]
  },
  {
   "cell_type": "markdown",
   "id": "8ab537fc-cc64-4ae5-940a-3b0a8865b8e1",
   "metadata": {
    "tags": []
   },
   "source": [
    "Table: Person\n",
    "\n",
    "    +-------------+---------+\n",
    "    | Column Name | Type    |\n",
    "    +-------------+---------+\n",
    "    | personId    | int     |\n",
    "    | lastName    | varchar |\n",
    "    | firstName   | varchar |\n",
    "    +-------------+---------+\n",
    "\n",
    "personId is the primary key (column with unique values) for this table.\n",
    "This table contains information about the ID of some persons and their first and last names.\n",
    "\n",
    "Table: Address\n",
    "\n",
    "    +-------------+---------+\n",
    "    | Column Name | Type    |\n",
    "    +-------------+---------+\n",
    "    | addressId   | int     |\n",
    "    | personId    | int     |\n",
    "    | city        | varchar |\n",
    "    | state       | varchar |\n",
    "    +-------------+---------+\n",
    "\n",
    "addressId is the primary key (column with unique values) for this table.\n",
    "Each row of this table contains information about the city and state of one person with ID = PersonId.\n",
    "\n",
    "Write a solution to report the first name, last name, city, and state of each person in the Person table. If the address of a personId is not present in the Address table, report null instead.\n",
    "\n",
    "Return the result table in any order."
   ]
  },
  {
   "cell_type": "markdown",
   "id": "8410e138-ef08-407d-ab62-d486e8030695",
   "metadata": {
    "tags": []
   },
   "source": [
    "#### <u>attempts</u>"
   ]
  },
  {
   "cell_type": "markdown",
   "id": "2024f15c-1622-4de1-b137-4b973f82d9c0",
   "metadata": {
    "tags": []
   },
   "source": [
    "NOTE: need a left join\n",
    "\n",
    "    SELECT person.firstName, person.LastName, address.city, address.state\n",
    "    FROM Person person\n",
    "    LEFT JOIN Address address ON person.personId = address.personId "
   ]
  },
  {
   "cell_type": "markdown",
   "id": "b5440ae1-b28c-4810-921b-788beaf5c0c7",
   "metadata": {},
   "source": [
    "#### <u>solutions</u>"
   ]
  },
  {
   "cell_type": "markdown",
   "id": "cd1d0b65-0b92-42ab-88cc-d7e19b36e855",
   "metadata": {},
   "source": [
    "from someone on leetcode, haven't seen this before\n",
    "\n",
    "    SELECT firstname, lastname, city, state FROM person\n",
    "    LEFT JOIN address USING(personid)"
   ]
  },
  {
   "cell_type": "markdown",
   "id": "4db2cc9d-6d6b-4c68-8cd5-42d6453f637e",
   "metadata": {
    "tags": []
   },
   "source": [
    "#### <u>notes</u>"
   ]
  },
  {
   "cell_type": "markdown",
   "id": "63bbb820-f59c-4118-9d9d-e45ffa1fdb74",
   "metadata": {
    "jp-MarkdownHeadingCollapsed": true,
    "tags": []
   },
   "source": [
    "on joins: To combine two SQL tables based on a common ID, you typically use a JOIN operation. The most common types of joins are INNER JOIN, LEFT JOIN (or LEFT OUTER JOIN), RIGHT JOIN (or RIGHT OUTER JOIN), and FULL JOIN (or FULL OUTER JOIN). Here's a brief explanation of each:\n",
    "\n",
    "1. INNER JOIN: Combines rows from both tables only when there is a match on the specified column (common ID). Rows without matching values in either table are excluded.\n",
    "\n",
    "2. LEFT JOIN (LEFT OUTER JOIN): Combines all rows from the left table and the matched rows from the right table. If there is no match, NULL values are returned for columns from the right table.\n",
    "\n",
    "3. RIGHT JOIN (RIGHT OUTER JOIN): Combines all rows from the right table and the matched rows from the left table. If there is no match, NULL values are returned for columns from the left table.\n",
    "\n",
    "4. FULL JOIN (FULL OUTER JOIN): Combines rows when there is a match in one of the tables. Rows without matching values in either table will also be included, with NULL values for columns from the table that lacks a match.\n",
    "\n",
    "Example of LEFT JOIN:\n",
    "\n",
    "    SELECT a.id, a.column1, a.column2, b.column3, b.column4\n",
    "    FROM table1 a\n",
    "    LEFT JOIN table2 b ON a.id = b.id;\n",
    "    \n",
    "In this query:\n",
    "\n",
    "* table1 and table2 are the tables you want to combine.\n",
    "* a and b are aliases for table1 and table2, respectively.\n",
    "* id is the common column in both tables.\n",
    "\n",
    "Example of FULL JOIN:\n",
    "\n",
    "Some databases like MySQL do not support FULL JOIN. You might need to use a combination of LEFT JOIN and RIGHT JOIN with a UNION in such cases. If you need to ensure compatibility across different SQL databases, you can use a UNION to simulate a FULL JOIN:\n",
    "\n",
    "    SELECT a.id, a.column1, a.column2, b.column3, b.column4\n",
    "    FROM table1 a\n",
    "    LEFT JOIN table2 b ON a.id = b.id\n",
    "    UNION\n",
    "    SELECT a.id, a.column1, a.column2, b.column3, b.column4\n",
    "    FROM table1 a\n",
    "    RIGHT JOIN table2 b ON a.id = b.id;\n",
    "   \n",
    "**the above code on the FULL JOIN is from GPT and has not been tested... take with a grain of salt**"
   ]
  },
  {
   "cell_type": "markdown",
   "id": "f84c539e-2eae-49aa-9ad0-b3bf5c7cc43d",
   "metadata": {
    "jp-MarkdownHeadingCollapsed": true,
    "tags": []
   },
   "source": [
    "### 181. Employees Earning More Than Their Managers"
   ]
  },
  {
   "cell_type": "markdown",
   "id": "f2dc2c3a-ce29-423a-a7ca-cfcc648dbd6f",
   "metadata": {},
   "source": [
    "#### <u>description</u>"
   ]
  },
  {
   "cell_type": "markdown",
   "id": "85fb0468-738a-4107-aa66-dcd17265667b",
   "metadata": {},
   "source": [
    "Table: Employee\n",
    "\n",
    "    +-------------+---------+\n",
    "    | Column Name | Type    |\n",
    "    +-------------+---------+\n",
    "    | id          | int     |\n",
    "    | name        | varchar |\n",
    "    | salary      | int     |\n",
    "    | managerId   | int     |\n",
    "    +-------------+---------+\n",
    "\n",
    "id is the primary key (column with unique values) for this table.\n",
    "Each row of this table indicates the ID of an employee, their name, salary, and the ID of their manager.\n",
    " \n",
    "\n",
    "Write a solution to find the employees who earn more than their managers.\n",
    "\n",
    "Return the result table in any order"
   ]
  },
  {
   "cell_type": "markdown",
   "id": "0749e073-6ed5-45d9-8195-385d2844fc43",
   "metadata": {},
   "source": [
    "#### <u>attempts</u>"
   ]
  },
  {
   "cell_type": "markdown",
   "id": "c14546d8-14dc-4153-ba2e-1139e3b7e827",
   "metadata": {},
   "source": [
    "NOTE: aliases didn't seem necessary in problem 175, but this problem seems to highlight their importance\n",
    "\n",
    "    SELECT \n",
    "        e1.name AS Employee\n",
    "    FROM \n",
    "        Employee e1\n",
    "    JOIN \n",
    "        Employee e2 ON e1.managerId = e2.id\n",
    "    WHERE \n",
    "        e1.salary > e2.salary;"
   ]
  },
  {
   "cell_type": "markdown",
   "id": "0bba314f-bd9b-4f99-bdcc-9e12f6e95183",
   "metadata": {},
   "source": [
    "#### <u>solutions</u>"
   ]
  },
  {
   "cell_type": "markdown",
   "id": "56a52eac-f55a-4de2-a1ee-c666e4e82d78",
   "metadata": {},
   "source": [
    "from leetcode, slightly different approach - no joins seem necessary\n",
    "\n",
    "    SELECT e1.name AS Employee\n",
    "    FROM Employee e1, Employee e2\n",
    "    WHERE e1.managerId = e2.id AND e1.salary > e2.salary;"
   ]
  },
  {
   "cell_type": "markdown",
   "id": "48a48067-81a6-442c-8a51-f31676589cd3",
   "metadata": {},
   "source": [
    "#### <u>notes</u>"
   ]
  },
  {
   "cell_type": "markdown",
   "id": "f111cf49-0a43-4d09-b7c8-94131a87a8b2",
   "metadata": {},
   "source": [
    "explanation of the attempt: To solve this problem, you can use a self-join on the Employee table to compare each employee's salary with their manager's salary.\n",
    "\n",
    "* Employee e1 is an alias for the employee table to represent the employees.\n",
    "* Employee e2 is an alias for the employee table to represent the managers.\n",
    "* The JOIN clause matches each employee (e1) with their manager (e2) by comparing e1.managerId with e2.id.\n",
    "* The WHERE clause filters the results to include only those employees whose salary (e1.salary) is greater than their manager's salary (e2.salary).\n",
    "* The SELECT clause returns the names of the employees who meet the condition.\n",
    "\n",
    "This query will return the employees who earn more than their managers, as specified in the problem statement"
   ]
  },
  {
   "cell_type": "markdown",
   "id": "7d01b4a7-355f-4546-97b3-78fbdd7d2992",
   "metadata": {
    "jp-MarkdownHeadingCollapsed": true,
    "tags": []
   },
   "source": [
    "## Medium Problems"
   ]
  },
  {
   "cell_type": "code",
   "execution_count": null,
   "id": "31951f16-3c0d-4273-a11f-a399021234da",
   "metadata": {},
   "outputs": [],
   "source": []
  },
  {
   "cell_type": "markdown",
   "id": "d01b7845-8bf1-4e01-9964-c5cc40dd9c5f",
   "metadata": {
    "jp-MarkdownHeadingCollapsed": true,
    "tags": []
   },
   "source": [
    "## Hard Problems"
   ]
  },
  {
   "cell_type": "code",
   "execution_count": null,
   "id": "5b9541e7-24e7-4031-9eac-2374dcc6ad6d",
   "metadata": {},
   "outputs": [],
   "source": []
  }
 ],
 "metadata": {
  "kernelspec": {
   "display_name": "Python 3",
   "language": "python",
   "name": "python3"
  },
  "language_info": {
   "codemirror_mode": {
    "name": "ipython",
    "version": 3
   },
   "file_extension": ".py",
   "mimetype": "text/x-python",
   "name": "python",
   "nbconvert_exporter": "python",
   "pygments_lexer": "ipython3",
   "version": "3.8.5"
  }
 },
 "nbformat": 4,
 "nbformat_minor": 5
}
