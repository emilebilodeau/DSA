{
 "cells": [
  {
   "cell_type": "markdown",
   "id": "791c1366-c5d5-428a-9709-b212203a6ecb",
   "metadata": {
    "tags": []
   },
   "source": [
    "# NOTES"
   ]
  },
  {
   "cell_type": "markdown",
   "id": "d1651f93-4f43-474c-8cf6-9068966077f1",
   "metadata": {
    "tags": []
   },
   "source": [
    "### general notes\n",
    "\n",
    "this notebook is intended to be used to practice SQL (MySQL) through individual questions, as well as gather notes on common topics, best practices, and any information that is new to me. studying SQL courses does not seem to be very effective for various reasons (slow, repetitive but information doesn't seem to stick, boring); trying this approach instead. will attempt to implement what is learned in projects further down the line. \n",
    "\n",
    "have not currently found a way to format this notebook nicely, so mostly only using markdown cells. doesn't look great but will do for now\n",
    "\n",
    "1. problems denoted by * proved to be quite challenging for me upon first attempt\n",
    "2. problems denoted by ** are exceedingly challenging and will require a lot of revision\n",
    "3. problems denoted by @ remain incomplete\n",
    "4. in leetcode, problems with notes in green are first attempts/solutions or reworks after failure. those with notes in blue are review\n",
    "\n",
    "### study notes\n",
    "\n",
    "getting to a point where i may have practiced enough, and it would now be useful to delve more into concepts/theory so i better understand what am i doing and why it works. might be useful to go over a number of built in functions & other tools in SQL in order to actually be able to solve medium problems\n",
    "\n",
    "1. study in more depth aggregations functions (COUNT(), SUM(), MAX(), AVG(), etc.) and their impact on GROUP BY and ORDER BY clauses:\n",
    "    1. COUNT(), SUM(), etc. before the grouping\n",
    "    2. GROUP BY itself\n",
    "    3. aggregations performed after the grouping - HAVING COUNT(), SUM(), etc.\n",
    "2. study order of operations (which clauses come first, and which statements are performed first and why - are they all executed purely in sequence, or is that syntax?)\n",
    "3. difference between a derived table and subquery? \n",
    "4. **maybe go over every problem and add some concept keywords in the title in order to make it easier to review certain topics (this should be done soon, as many concepts have been encountered so far, and some of them not very clear. understanding them would help solidify the foundation)**\n",
    "5. need to look into how partitions work in more detail"
   ]
  },
  {
   "cell_type": "markdown",
   "id": "fc3b43ab-ebc7-4515-a103-913ec9f1284c",
   "metadata": {
    "jp-MarkdownHeadingCollapsed": true,
    "tags": []
   },
   "source": [
    "## Easy Problems"
   ]
  },
  {
   "cell_type": "markdown",
   "id": "fd6d3bed-a20a-4eba-bca6-41af6d5b606e",
   "metadata": {
    "jp-MarkdownHeadingCollapsed": true,
    "tags": []
   },
   "source": [
    "### 175. Combine Two Tables"
   ]
  },
  {
   "cell_type": "markdown",
   "id": "e4e1a673-abf6-4b9a-89d0-918432cd77db",
   "metadata": {
    "tags": []
   },
   "source": [
    "#### <u>description</u>"
   ]
  },
  {
   "cell_type": "markdown",
   "id": "8ab537fc-cc64-4ae5-940a-3b0a8865b8e1",
   "metadata": {
    "tags": []
   },
   "source": [
    "Table: Person\n",
    "\n",
    "    +-------------+---------+\n",
    "    | Column Name | Type    |\n",
    "    +-------------+---------+\n",
    "    | personId    | int     |\n",
    "    | lastName    | varchar |\n",
    "    | firstName   | varchar |\n",
    "    +-------------+---------+\n",
    "\n",
    "personId is the primary key (column with unique values) for this table.\n",
    "This table contains information about the ID of some persons and their first and last names.\n",
    "\n",
    "Table: Address\n",
    "\n",
    "    +-------------+---------+\n",
    "    | Column Name | Type    |\n",
    "    +-------------+---------+\n",
    "    | addressId   | int     |\n",
    "    | personId    | int     |\n",
    "    | city        | varchar |\n",
    "    | state       | varchar |\n",
    "    +-------------+---------+\n",
    "\n",
    "addressId is the primary key (column with unique values) for this table.\n",
    "Each row of this table contains information about the city and state of one person with ID = PersonId.\n",
    "\n",
    "Write a solution to report the first name, last name, city, and state of each person in the Person table. If the address of a personId is not present in the Address table, report null instead.\n",
    "\n",
    "Return the result table in any order."
   ]
  },
  {
   "cell_type": "markdown",
   "id": "8410e138-ef08-407d-ab62-d486e8030695",
   "metadata": {
    "tags": []
   },
   "source": [
    "#### <u>attempts</u>"
   ]
  },
  {
   "cell_type": "markdown",
   "id": "2024f15c-1622-4de1-b137-4b973f82d9c0",
   "metadata": {
    "tags": []
   },
   "source": [
    "NOTE: need a left join\n",
    "\n",
    "    SELECT person.firstName, person.LastName, address.city, address.state\n",
    "    FROM Person person\n",
    "    LEFT JOIN Address address ON person.personId = address.personId \n",
    "    \n",
    "status = success"
   ]
  },
  {
   "cell_type": "markdown",
   "id": "b5440ae1-b28c-4810-921b-788beaf5c0c7",
   "metadata": {},
   "source": [
    "#### <u>solutions</u>"
   ]
  },
  {
   "cell_type": "markdown",
   "id": "cd1d0b65-0b92-42ab-88cc-d7e19b36e855",
   "metadata": {},
   "source": [
    "from someone on leetcode, haven't seen this before\n",
    "\n",
    "    SELECT firstname, lastname, city, state FROM person\n",
    "    LEFT JOIN address USING(personid)"
   ]
  },
  {
   "cell_type": "markdown",
   "id": "4db2cc9d-6d6b-4c68-8cd5-42d6453f637e",
   "metadata": {
    "tags": []
   },
   "source": [
    "#### <u>notes</u>"
   ]
  },
  {
   "cell_type": "markdown",
   "id": "63bbb820-f59c-4118-9d9d-e45ffa1fdb74",
   "metadata": {
    "jp-MarkdownHeadingCollapsed": true,
    "tags": []
   },
   "source": [
    "on joins: To combine two SQL tables based on a common ID, you typically use a JOIN operation. The most common types of joins are INNER JOIN, LEFT JOIN (or LEFT OUTER JOIN), RIGHT JOIN (or RIGHT OUTER JOIN), and FULL JOIN (or FULL OUTER JOIN). Here's a brief explanation of each:\n",
    "\n",
    "1. INNER JOIN: Combines rows from both tables only when there is a match on the specified column (common ID). Rows without matching values in either table are excluded.\n",
    "\n",
    "2. LEFT JOIN (LEFT OUTER JOIN): Combines all rows from the left table and the matched rows from the right table. If there is no match, NULL values are returned for columns from the right table.\n",
    "\n",
    "3. RIGHT JOIN (RIGHT OUTER JOIN): Combines all rows from the right table and the matched rows from the left table. If there is no match, NULL values are returned for columns from the left table.\n",
    "\n",
    "4. FULL JOIN (FULL OUTER JOIN): Combines rows when there is a match in one of the tables. Rows without matching values in either table will also be included, with NULL values for columns from the table that lacks a match.\n",
    "\n",
    "Example of LEFT JOIN:\n",
    "\n",
    "    SELECT a.id, a.column1, a.column2, b.column3, b.column4\n",
    "    FROM table1 a\n",
    "    LEFT JOIN table2 b ON a.id = b.id;\n",
    "    \n",
    "In this query:\n",
    "\n",
    "* table1 and table2 are the tables you want to combine.\n",
    "* a and b are aliases for table1 and table2, respectively.\n",
    "* id is the common column in both tables.\n",
    "\n",
    "Example of FULL JOIN:\n",
    "\n",
    "Some databases like MySQL do not support FULL JOIN. You might need to use a combination of LEFT JOIN and RIGHT JOIN with a UNION in such cases. If you need to ensure compatibility across different SQL databases, you can use a UNION to simulate a FULL JOIN:\n",
    "\n",
    "    SELECT a.id, a.column1, a.column2, b.column3, b.column4\n",
    "    FROM table1 a\n",
    "    LEFT JOIN table2 b ON a.id = b.id\n",
    "    UNION\n",
    "    SELECT a.id, a.column1, a.column2, b.column3, b.column4\n",
    "    FROM table1 a\n",
    "    RIGHT JOIN table2 b ON a.id = b.id;\n",
    "   \n",
    "**the above code on the FULL JOIN is from GPT and has not been tested... take with a grain of salt**"
   ]
  },
  {
   "cell_type": "markdown",
   "id": "f84c539e-2eae-49aa-9ad0-b3bf5c7cc43d",
   "metadata": {
    "jp-MarkdownHeadingCollapsed": true,
    "tags": []
   },
   "source": [
    "### 181. Employees Earning More Than Their Managers"
   ]
  },
  {
   "cell_type": "markdown",
   "id": "f2dc2c3a-ce29-423a-a7ca-cfcc648dbd6f",
   "metadata": {},
   "source": [
    "#### <u>description</u>"
   ]
  },
  {
   "cell_type": "markdown",
   "id": "85fb0468-738a-4107-aa66-dcd17265667b",
   "metadata": {},
   "source": [
    "Table: Employee\n",
    "\n",
    "    +-------------+---------+\n",
    "    | Column Name | Type    |\n",
    "    +-------------+---------+\n",
    "    | id          | int     |\n",
    "    | name        | varchar |\n",
    "    | salary      | int     |\n",
    "    | managerId   | int     |\n",
    "    +-------------+---------+\n",
    "\n",
    "id is the primary key (column with unique values) for this table.\n",
    "Each row of this table indicates the ID of an employee, their name, salary, and the ID of their manager.\n",
    " \n",
    "\n",
    "Write a solution to find the employees who earn more than their managers.\n",
    "\n",
    "Return the result table in any order"
   ]
  },
  {
   "cell_type": "markdown",
   "id": "0749e073-6ed5-45d9-8195-385d2844fc43",
   "metadata": {},
   "source": [
    "#### <u>attempts</u>"
   ]
  },
  {
   "cell_type": "markdown",
   "id": "c14546d8-14dc-4153-ba2e-1139e3b7e827",
   "metadata": {},
   "source": [
    "NOTE: aliases didn't seem necessary in problem 175, but this problem seems to highlight their importance\n",
    "\n",
    "    SELECT \n",
    "        e1.name AS Employee\n",
    "    FROM \n",
    "        Employee e1\n",
    "    JOIN \n",
    "        Employee e2 ON e1.managerId = e2.id\n",
    "    WHERE \n",
    "        e1.salary > e2.salary;\n",
    "        \n",
    "status = success"
   ]
  },
  {
   "cell_type": "markdown",
   "id": "0bba314f-bd9b-4f99-bdcc-9e12f6e95183",
   "metadata": {},
   "source": [
    "#### <u>solutions</u>"
   ]
  },
  {
   "cell_type": "markdown",
   "id": "56a52eac-f55a-4de2-a1ee-c666e4e82d78",
   "metadata": {},
   "source": [
    "from leetcode, slightly different approach - no joins seem necessary\n",
    "\n",
    "    SELECT e1.name AS Employee\n",
    "    FROM Employee e1, Employee e2\n",
    "    WHERE e1.managerId = e2.id AND e1.salary > e2.salary;"
   ]
  },
  {
   "cell_type": "markdown",
   "id": "48a48067-81a6-442c-8a51-f31676589cd3",
   "metadata": {},
   "source": [
    "#### <u>notes</u>"
   ]
  },
  {
   "cell_type": "markdown",
   "id": "f111cf49-0a43-4d09-b7c8-94131a87a8b2",
   "metadata": {},
   "source": [
    "explanation of the attempt: To solve this problem, you can use a self-join on the Employee table to compare each employee's salary with their manager's salary.\n",
    "\n",
    "* Employee e1 is an alias for the employee table to represent the employees.\n",
    "* Employee e2 is an alias for the employee table to represent the managers.\n",
    "* The JOIN clause matches each employee (e1) with their manager (e2) by comparing e1.managerId with e2.id.\n",
    "* The WHERE clause filters the results to include only those employees whose salary (e1.salary) is greater than their manager's salary (e2.salary).\n",
    "* The SELECT clause returns the names of the employees who meet the condition.\n",
    "\n",
    "This query will return the employees who earn more than their managers, as specified in the problem statement"
   ]
  },
  {
   "cell_type": "markdown",
   "id": "9e092163-a06c-435e-9dc8-46d4867b9225",
   "metadata": {
    "jp-MarkdownHeadingCollapsed": true,
    "tags": []
   },
   "source": [
    "### 182. Duplicate Emails"
   ]
  },
  {
   "cell_type": "markdown",
   "id": "af1977fd-36dd-4157-ad2b-2462853b2627",
   "metadata": {},
   "source": [
    "#### <u>description</u>"
   ]
  },
  {
   "cell_type": "markdown",
   "id": "d3bc0d16-d954-49b3-bbcf-11673b168913",
   "metadata": {},
   "source": [
    "Table: Person\n",
    "\n",
    "    +-------------+---------+\n",
    "    | Column Name | Type    |\n",
    "    +-------------+---------+\n",
    "    | id          | int     |\n",
    "    | email       | varchar |\n",
    "    +-------------+---------+\n",
    "\n",
    "id is the primary key (column with unique values) for this table.\n",
    "Each row of this table contains an email. The emails will not contain uppercase letters.\n",
    " \n",
    "\n",
    "Write a solution to report all the duplicate emails. Note that it's guaranteed that the email field is not NULL.\n",
    "\n"
   ]
  },
  {
   "cell_type": "markdown",
   "id": "e94a6afe-205d-43de-bba7-79ebe0ffa5aa",
   "metadata": {},
   "source": [
    "#### <u>attempts</u>"
   ]
  },
  {
   "cell_type": "markdown",
   "id": "fed2055e-0a3e-4ff4-bb34-771df231af21",
   "metadata": {},
   "source": [
    "NOTE: haven't used the HAVING keyword before\n",
    "\n",
    "    SELECT email FROM Person\n",
    "    GROUP BY email\n",
    "    HAVING COUNT(email) > 1\n",
    "    \n",
    "status = success"
   ]
  },
  {
   "cell_type": "markdown",
   "id": "81dc610a-3e94-4a3e-b65d-a062ffa2749f",
   "metadata": {},
   "source": [
    "#### <u>solutions</u>"
   ]
  },
  {
   "cell_type": "markdown",
   "id": "074dc97b-9857-4fd3-886c-ca5aef148cb8",
   "metadata": {},
   "source": [
    "this seemed like another popular solution, but doesn't make a whole lot of sense to me...\n",
    "\n",
    "    SELECT DISTINCT P1.Email FROM Person P1,Person P2 \n",
    "    WHERE P1.id <> P2.id AND P1.Email=P2.Email\n",
    "    \n",
    "here's a breakdown:\n",
    "1. FROM Person P1, Person P2:\n",
    "\n",
    "    * This creates two references to the Person table, named P1 and P2. This technique is known as a self-join, where the table is joined with itself.\n",
    "\n",
    "2. WHERE P1.id <> P2.id:\n",
    "\n",
    "    * This condition ensures that the join is not comparing the same row with itself by checking that the id of P1 is different from the id of P2.\n",
    "\n",
    "3. AND P1.Email = P2.Email:\n",
    "\n",
    "    * This condition ensures that the email addresses in the two rows being compared are the same. This means we are finding pairs of rows where the email is the same but the IDs are different.\n",
    "\n",
    "4. SELECT DISTINCT P1.Email:\n",
    "\n",
    "    * SELECT DISTINCT is used to ensure that the result contains unique email addresses. Even if an email appears multiple times as a duplicate in different pairs, it will only be listed once in the result."
   ]
  },
  {
   "cell_type": "markdown",
   "id": "46b85d52-bbbd-44a6-93d6-4b692d1ff352",
   "metadata": {},
   "source": [
    "#### <u>notes</u>"
   ]
  },
  {
   "cell_type": "markdown",
   "id": "fc416d3c-5054-4d17-a116-0b367dccae26",
   "metadata": {},
   "source": [
    "difference between HAVING and WHERE: The HAVING and WHERE clauses in SQL are both used to filter data, but they are used in different contexts and for different purposes. Here are the key differences:\n",
    "\n",
    "1. Usage Context:\n",
    "\n",
    "    * WHERE Clause: The WHERE clause is used to filter rows before any grouping operations are performed. It is applied to individual rows in a table.\n",
    "    * HAVING Clause: The HAVING clause is used to filter groups after the GROUP BY operation has been performed. It is applied to aggregated data.\n",
    "    \n",
    "2. Filtering Rows vs. Filtering Groups\n",
    "     * WHERE Clause: Filters individual rows based on specified conditions. It cannot be used with aggregate functions (like COUNT, SUM, AVG, etc.) directly. But a WHERE clause can be used before a GROUP BY \n",
    "     * HAVING Clause: Filters groups of rows created by the GROUP BY clause based on aggregate function conditions.\n",
    "     \n",
    "3. Execution Order:\n",
    "\n",
    "    * WHERE Clause: Applied early in the execution process, right after the FROM clause.\n",
    "    * HAVING Clause: Applied later in the execution process, after the GROUP BY clause and any aggregate functions.\n",
    "    \n",
    "example\n",
    "\n",
    "-- Using WHERE clause to filter rows\n",
    "\n",
    "    SELECT product, amount\n",
    "    FROM Sales\n",
    "    WHERE amount > 100;\n",
    "\n",
    "-- Using HAVING clause to filter groups\n",
    "\n",
    "    SELECT region, SUM(amount) AS total_sales\n",
    "    FROM Sales\n",
    "    GROUP BY region\n",
    "    HAVING total_sales > 500;\n",
    "\n",
    "* The first query uses the WHERE clause to filter individual sales records where the amount is greater than 100.\n",
    "* The second query uses the HAVING clause to filter regions where the total sales (SUM(amount)) exceed 500."
   ]
  },
  {
   "cell_type": "markdown",
   "id": "23891029-ea98-4160-b40d-2bece22ed4f3",
   "metadata": {
    "jp-MarkdownHeadingCollapsed": true,
    "tags": []
   },
   "source": [
    "### 183. Customers Who Never Order"
   ]
  },
  {
   "cell_type": "markdown",
   "id": "e25bfc6e-7c2d-4828-aaae-41141def3895",
   "metadata": {},
   "source": [
    "#### <u>descriptions</u> "
   ]
  },
  {
   "cell_type": "markdown",
   "id": "602ad271-e65a-461f-bf56-6b9ac2a88889",
   "metadata": {},
   "source": [
    "Table: Customers\n",
    "\n",
    "    +-------------+---------+\n",
    "    | Column Name | Type    |\n",
    "    +-------------+---------+\n",
    "    | id          | int     |\n",
    "    | name        | varchar |\n",
    "    +-------------+---------+\n",
    "    \n",
    "id is the primary key (column with unique values) for this table.\n",
    "Each row of this table indicates the ID and name of a customer.\n",
    " \n",
    "\n",
    "Table: Orders\n",
    "\n",
    "    +-------------+------+\n",
    "    | Column Name | Type |\n",
    "    +-------------+------+\n",
    "    | id          | int  |\n",
    "    | customerId  | int  |\n",
    "    +-------------+------+\n",
    "    \n",
    "id is the primary key (column with unique values) for this table.\n",
    "customerId is a foreign key (reference columns) of the ID from the Customers table.\n",
    "Each row of this table indicates the ID of an order and the ID of the customer who ordered it.\n",
    " \n",
    "\n",
    "Write a solution to find all customers who never order anything.\n",
    "\n",
    "Return the result table in any order."
   ]
  },
  {
   "cell_type": "markdown",
   "id": "9a047729-192f-445d-be50-34fc788bd9ae",
   "metadata": {},
   "source": [
    "#### <u>attempts</u>"
   ]
  },
  {
   "cell_type": "markdown",
   "id": "3dfa84de-26e2-40f6-b4b1-120c9aa94578",
   "metadata": {},
   "source": [
    "NOTE: did a right join initially but that didn't make sense because that causes me to lose the names, so have to do left join again\n",
    "\n",
    "    SELECT name AS Customers\n",
    "    FROM Customers table1\n",
    "    LEFT JOIN Orders table2 ON table1.id = table2.customerId\n",
    "    WHERE table2.id IS NULL\n",
    "    \n",
    "status = success"
   ]
  },
  {
   "cell_type": "markdown",
   "id": "cded4a74-4887-4c0d-ab3c-bd6a1bc6dbd5",
   "metadata": {},
   "source": [
    "#### <u>solutions</u>"
   ]
  },
  {
   "cell_type": "markdown",
   "id": "115a63a4-5eca-42ed-99f9-6bcfce9fbb07",
   "metadata": {},
   "source": [
    "from someone on leetcode, more concise and even eaiser to read\n",
    "\n",
    "    SELECT name as Customers FROM Customers\n",
    "    WHERE id NOT IN (SELECT customerid FROM orders)"
   ]
  },
  {
   "cell_type": "markdown",
   "id": "34afcef8-089b-4bc4-ac4e-e5f9440172dd",
   "metadata": {},
   "source": [
    "#### <u>notes</u>"
   ]
  },
  {
   "cell_type": "markdown",
   "id": "834c5f8a-6151-40bb-869c-69f449328504",
   "metadata": {},
   "source": [
    "no notes as this time - this problem is fairly straightforward"
   ]
  },
  {
   "cell_type": "markdown",
   "id": "81b1c505-d82a-4d21-857d-73a33e95428c",
   "metadata": {
    "jp-MarkdownHeadingCollapsed": true,
    "tags": []
   },
   "source": [
    "### 196. Delete Duplicate Emails"
   ]
  },
  {
   "cell_type": "markdown",
   "id": "24a9e1ab-23d4-4bf5-b5f5-62d1a4260888",
   "metadata": {},
   "source": [
    "#### <u>description</u>"
   ]
  },
  {
   "cell_type": "markdown",
   "id": "6ffb3e2f-6482-4e0e-b2de-3bc0fdb2f010",
   "metadata": {},
   "source": [
    "Table: Person\n",
    "\n",
    "    +-------------+---------+\n",
    "    | Column Name | Type    |\n",
    "    +-------------+---------+\n",
    "    | id          | int     |\n",
    "    | email       | varchar |\n",
    "    +-------------+---------+\n",
    "    \n",
    "id is the primary key (column with unique values) for this table.\n",
    "Each row of this table contains an email. The emails will not contain uppercase letters.\n",
    " \n",
    "\n",
    "Write a solution to delete all duplicate emails, keeping only one unique email with the smallest id.\n",
    "\n",
    "For SQL users, please note that you are supposed to write a DELETE statement and not a SELECT one.\n",
    "\n",
    "For Pandas users, please note that you are supposed to modify Person in place.\n",
    "\n",
    "After running your script, the answer shown is the Person table. The driver will first compile and run your piece of code and then show the Person table. The final order of the Person table does not matter."
   ]
  },
  {
   "cell_type": "markdown",
   "id": "791c46b4-eca1-4682-aab1-4d210c1d369f",
   "metadata": {},
   "source": [
    "#### <u>attempts</u>"
   ]
  },
  {
   "cell_type": "markdown",
   "id": "f0b5861e-24a3-4aee-8042-91698b104aa8",
   "metadata": {},
   "source": [
    "NOTE: a bit confused about the WHERE statement; was sure that the condition was t1.id < t2.id since you want to keep the smallest id. same logic for id in the solutions... there's something about the table layout that i don't get from the join\n",
    "\n",
    "    DELETE t1 FROM Person t1 \n",
    "    INNER JOIN Person t2 \n",
    "    WHERE t1.id > t2.id AND t1.email = t2.email\n",
    "    \n",
    "status = success"
   ]
  },
  {
   "cell_type": "markdown",
   "id": "c218816d-92a3-4290-8e31-e4450e6961f5",
   "metadata": {},
   "source": [
    "#### <u>solutions</u>"
   ]
  },
  {
   "cell_type": "markdown",
   "id": "2469fc5c-5898-412c-8874-275e709003cd",
   "metadata": {},
   "source": [
    "tried to write this but kept failing; need to review syntax\n",
    "\n",
    "    DELETE p1 FROM Person p1,Person p2 \n",
    "    WHERE p1.email=p2.email AND p1.id>p2.id"
   ]
  },
  {
   "cell_type": "markdown",
   "id": "ac5a192f-284c-437b-99fb-090b4df217a2",
   "metadata": {},
   "source": [
    "#### <u>notes</u>"
   ]
  },
  {
   "cell_type": "markdown",
   "id": "b2b072d6-0d68-4c31-95b9-05d0bc5e500c",
   "metadata": {},
   "source": [
    "would be useful to have a visual view of the table after the inner join so i can understand why that where clause work. explanation:\n",
    "\n",
    "\n",
    "**Why t1.id > t2.id?**\n",
    "\n",
    "When there are duplicate rows in the table, we need to choose one of the duplicates to delete. The WHERE t1.id > t2.id condition is used to ensure that we always delete the record with the higher id value and keep the record with the lower id value. This is a consistent and deterministic way to remove duplicates because:\n",
    "\n",
    "1. Consistency: By always deleting the record with the higher id, we ensure that only one of the duplicates remains. If we used t1.id < t2.id, it would still remove duplicates, but the specific record being deleted would be different (it would be the one with the lower id), which is less intuitive in terms of preserving the original order of insertion.\n",
    "\n",
    "2. Efficiency: Deleting the record with the higher id can be seen as preserving the \"first\" instance of each duplicate (assuming id is an auto-incrementing primary key). This is often desirable because it maintains the earliest inserted record.\n",
    "\n"
   ]
  },
  {
   "cell_type": "markdown",
   "id": "e74e2b84-4c5e-40a9-a1b4-8cadcbe3d6fb",
   "metadata": {
    "jp-MarkdownHeadingCollapsed": true,
    "tags": []
   },
   "source": [
    "### 197. Rising Temperature"
   ]
  },
  {
   "cell_type": "markdown",
   "id": "bd0fb48b-1bb5-4bc6-bc36-aa161aaa9fa1",
   "metadata": {},
   "source": [
    "#### <u>description</u>"
   ]
  },
  {
   "cell_type": "markdown",
   "id": "52440e87-cad3-466b-8201-cdbb22352504",
   "metadata": {},
   "source": [
    "Table: Weather\n",
    "\n",
    "    +---------------+---------+\n",
    "    | Column Name   | Type    |\n",
    "    +---------------+---------+\n",
    "    | id            | int     |\n",
    "    | recordDate    | date    |\n",
    "    | temperature   | int     |\n",
    "    +---------------+---------+\n",
    "    \n",
    "id is the column with unique values for this table.\n",
    "There are no different rows with the same recordDate.\n",
    "This table contains information about the temperature on a certain day.\n",
    " \n",
    "\n",
    "Write a solution to find all dates' Id with higher temperatures compared to its previous dates (yesterday).\n",
    "\n",
    "Return the result table in any order."
   ]
  },
  {
   "cell_type": "markdown",
   "id": "699296d2-4bc1-427c-a48b-5e80a8662b82",
   "metadata": {},
   "source": [
    "#### <u>attempts</u>"
   ]
  },
  {
   "cell_type": "markdown",
   "id": "0319499e-43cc-47fe-a75e-3d356fccba19",
   "metadata": {},
   "source": [
    "NOTE: this almost works, but fails if there are gaps between dates...\n",
    "\n",
    "    SELECT t2.id FROM (\n",
    "        SELECT *,\n",
    "        LAG (temperature, 1)\n",
    "        OVER (ORDER BY recordDate ASC) AS previous_temp\n",
    "        FROM Weather\n",
    "    ) AS t2\n",
    "    WHERE temperature > previous_temp\n",
    "    \n",
    "status = failure"
   ]
  },
  {
   "cell_type": "markdown",
   "id": "aacbd4e4-938e-4150-97a2-a0c2e024855c",
   "metadata": {},
   "source": [
    "NOTE: the idea here was create 2 lagged columns, one for temperature and one for recordDate. in order for an id to be selected, the current temperature had to be greater than the previous one, and the interval between the current day and the previous day had to be exactly 1 day (to ensure the previous record was indeed yesterday). also beats 99.50% of users apparently\n",
    "\n",
    "    SELECT t2.id FROM (\n",
    "        SELECT *,\n",
    "        LAG (temperature, 1)\n",
    "        OVER (ORDER BY recordDate ASC) AS previous_temp,\n",
    "        LAG (recordDate, 1)\n",
    "        OVER (ORDER BY recordDate ASC) AS previous_date\n",
    "        FROM Weather\n",
    "    ) AS t2\n",
    "    WHERE temperature > previous_temp AND DATE_SUB(recordDate, INTERVAL 1 DAY) = previous_date\n",
    "\n",
    "status = success"
   ]
  },
  {
   "cell_type": "markdown",
   "id": "723653de-f47b-413b-af6f-458e6533ee5f",
   "metadata": {},
   "source": [
    "#### <u>solutions</u>"
   ]
  },
  {
   "cell_type": "markdown",
   "id": "4b70e6ea-92b3-4311-8bef-f3a58c5a8d6c",
   "metadata": {},
   "source": [
    "solution from someone on leetcode, a lot more straightforward, but not as fast as mine apparently\n",
    "\n",
    "    SELECT w1.id\n",
    "    FROM Weather w1, Weather w2\n",
    "    WHERE DATEDIFF(w1.recordDate, w2.recordDate) = 1 AND w1.temperature > w2.temperature;"
   ]
  },
  {
   "cell_type": "markdown",
   "id": "fdde4e91-e889-4348-be3e-37141cf6725a",
   "metadata": {},
   "source": [
    "#### <u>notes</u>"
   ]
  },
  {
   "cell_type": "markdown",
   "id": "572e7716-2144-42eb-8181-b5cc1f1b1d34",
   "metadata": {},
   "source": [
    "using 2 new functions in my successful attempt: LAG() and DATE_SUB()\n",
    "\n",
    "LAG():\n",
    "\n",
    "The LAG() window function facilitates access to previous rows based on the offset argument. It can be particularly useful when a comparison of a previous value is necessary without the use of a self join. There is a similarity to the LEAD() function with the difference being the accessible rows. LEAD() accesses subsequent rows while LAG() accesses previous rows.\n",
    "\n",
    "    LAG (expression [, offset] [, default])\n",
    "    OVER ( [ partition_by ] order_by )\n",
    "\n",
    "    1. expression - The column value which will be referenced.\n",
    "    2. offset - A positive numeric indicator of the previous row to access that is relative to the current row. If not specified the default is 1.\n",
    "    3. default - The value that will be returned if the offset is out of range. This is an optional argument, if not specified NULL will be returned.\n",
    "\n",
    "    1. partition_by - Allows the result set to be grouped based on a column. This is an optional argument, if not specified the result set will be treated as a single group.\n",
    "    2. order_by - Determines the order of the result set. If partition_by is specified, it will order the grouped data instead.\n",
    "    \n",
    "DATE_SUB():\n",
    "\n",
    "The DATE_SUB() function subtracts a time/date interval from a date and then returns the date.\n",
    "\n",
    "    DATE_SUB(date, INTERVAL value interval)\n",
    "     \n",
    "    1. date - Required. The date to be modified\n",
    "    2. value - Required. The value of the time/date interval to subtract. Both positive and negative values are allowed\n",
    "    3. interval - Required. The type of interval to subtract. Can be one of the following values"
   ]
  },
  {
   "cell_type": "markdown",
   "id": "8c3499e7-86d5-44df-be75-11be65ef1b1b",
   "metadata": {
    "jp-MarkdownHeadingCollapsed": true,
    "tags": []
   },
   "source": [
    "### 511. Game Play Analysis I"
   ]
  },
  {
   "cell_type": "markdown",
   "id": "18b767f8-ea4d-4fcb-a0ad-4096d8f89e84",
   "metadata": {},
   "source": [
    "#### <u>description</u>"
   ]
  },
  {
   "cell_type": "markdown",
   "id": "2a617c43-bc19-4d31-9717-314359fc9171",
   "metadata": {},
   "source": [
    "Table: Activity\n",
    "\n",
    "    +--------------+---------+\n",
    "    | Column Name  | Type    |\n",
    "    +--------------+---------+\n",
    "    | player_id    | int     |\n",
    "    | device_id    | int     |\n",
    "    | event_date   | date    |\n",
    "    | games_played | int     |\n",
    "    +--------------+---------+\n",
    "\n",
    "(player_id, event_date) is the primary key (combination of columns with unique values) of this table.\n",
    "This table shows the activity of players of some games.\n",
    "Each row is a record of a player who logged in and played a number of games (possibly 0) before logging out on someday using some device.\n",
    " \n",
    "\n",
    "Write a solution to find the first login date for each player.\n",
    "\n",
    "Return the result table in any order."
   ]
  },
  {
   "cell_type": "markdown",
   "id": "8f260d8a-0502-4c1a-b97f-322504c10c41",
   "metadata": {},
   "source": [
    "#### <u>attempts</u>"
   ]
  },
  {
   "cell_type": "markdown",
   "id": "b8ba046d-a0e7-493d-92ec-c44fbac76685",
   "metadata": {},
   "source": [
    "NOTE: not entirely sure why this works. without the GROUP BY, it only returns a single row which contains the minimum date from the event_date column. possible i fail to really understand what a group by actually does at this stage\n",
    "\n",
    "    SELECT player_id, MIN(event_date) as first_login\n",
    "    FROM Activity\n",
    "    GROUP BY player_id\n",
    "\n",
    "status = success"
   ]
  },
  {
   "cell_type": "markdown",
   "id": "1c5735f5-929d-482b-a1a4-818ebb2f2129",
   "metadata": {},
   "source": [
    "#### <u>solutions</u>"
   ]
  },
  {
   "cell_type": "markdown",
   "id": "a2b9f061-88b6-40c7-b3af-fcc995520895",
   "metadata": {},
   "source": [
    "there doesn't seem to be much else to this problem. simple problem but worth keeping in mind"
   ]
  },
  {
   "cell_type": "markdown",
   "id": "29ad7011-5c8f-45ea-ac12-67fa3bcd3b80",
   "metadata": {},
   "source": [
    "#### <u>notes</u>"
   ]
  },
  {
   "cell_type": "markdown",
   "id": "02b7d6b0-07dd-45af-aeab-7d95ad3a22a7",
   "metadata": {},
   "source": [
    "this is the explanation from GPT concerning the GROUP BY: \n",
    "* GROUP BY player_id: This groups the result by player_id, ensuring that the MIN(event_date) is calculated for each player individually."
   ]
  },
  {
   "cell_type": "markdown",
   "id": "f611a81c-210a-4626-bbb6-c544fbf9afde",
   "metadata": {
    "jp-MarkdownHeadingCollapsed": true,
    "tags": []
   },
   "source": [
    "### 577. Employee Bonus"
   ]
  },
  {
   "cell_type": "markdown",
   "id": "4e3b7f2c-b571-4062-bd0a-ef0f37c7467b",
   "metadata": {},
   "source": [
    "#### <u>description</u>"
   ]
  },
  {
   "cell_type": "markdown",
   "id": "be586db4-4c16-4e82-bc5f-83fed00e1309",
   "metadata": {},
   "source": [
    "Table: Employee\n",
    "\n",
    "    +-------------+---------+\n",
    "    | Column Name | Type    |\n",
    "    +-------------+---------+\n",
    "    | empId       | int     |\n",
    "    | name        | varchar |\n",
    "    | supervisor  | int     |\n",
    "    | salary      | int     |\n",
    "    +-------------+---------+\n",
    "\n",
    "empId is the column with unique values for this table.\n",
    "Each row of this table indicates the name and the ID of an employee in addition to their salary and the id of their manager.\n",
    " \n",
    "\n",
    "Table: Bonus\n",
    "\n",
    "    +-------------+------+\n",
    "    | Column Name | Type |\n",
    "    +-------------+------+\n",
    "    | empId       | int  |\n",
    "    | bonus       | int  |\n",
    "    +-------------+------+\n",
    "\n",
    "empId is the column of unique values for this table.\n",
    "empId is a foreign key (reference column) to empId from the Employee table.\n",
    "Each row of this table contains the id of an employee and their respective bonus.\n",
    " \n",
    "\n",
    "Write a solution to report the name and bonus amount of each employee with a bonus less than 1000."
   ]
  },
  {
   "cell_type": "markdown",
   "id": "598f8047-47ae-4bbc-a40b-e0136e50045c",
   "metadata": {},
   "source": [
    "#### <u>attempts</u>"
   ]
  },
  {
   "cell_type": "markdown",
   "id": "6a8ce347-ccf7-4694-b528-9af802ba0645",
   "metadata": {},
   "source": [
    "NOTE: didn't feel like i learned much from this one\n",
    "\n",
    "    SELECT t1.name, t2.bonus\n",
    "    FROM Employee t1\n",
    "    LEFT JOIN Bonus t2 ON t1.empId = t2.empId\n",
    "    WHERE t2.bonus < 1000 OR t2.bonus IS NULL\n",
    "\n",
    "status = success"
   ]
  },
  {
   "cell_type": "markdown",
   "id": "870981db-7482-43e0-8ac0-0eeeea4ce865",
   "metadata": {},
   "source": [
    "#### <u>solution</u>"
   ]
  },
  {
   "cell_type": "markdown",
   "id": "c0b64877-07aa-43c2-8ca2-600b12913233",
   "metadata": {},
   "source": [
    "a solution from leetcode\n",
    "\n",
    "    SELECT name, bonus FROM employee\n",
    "    LEFT JOIN bonus USING(empid)\n",
    "    WHERE bonus <1000 OR bonus IS NULL"
   ]
  },
  {
   "cell_type": "markdown",
   "id": "dc9da5b6-7bc1-4486-9f59-043d93a3c94e",
   "metadata": {},
   "source": [
    "#### <u>notes</u>"
   ]
  },
  {
   "cell_type": "markdown",
   "id": "d27e9943-829b-4e3f-95b2-0c5e7c78129d",
   "metadata": {},
   "source": [
    "difference between ON and USING when joining tables:\n",
    "\n",
    "1. ON Clause\n",
    "\n",
    "The ON clause is used to specify the condition on which two tables should be joined. It is flexible and allows you to join tables on columns that have different names, or even use more complex expressions.\n",
    "    \n",
    "syntax:\n",
    "\n",
    "    SELECT columns\n",
    "    FROM table1\n",
    "    JOIN table2\n",
    "    ON table1.column = table2.column;\n",
    "    \n",
    "2. USING Clause\n",
    "\n",
    "The USING clause is used when the columns that are being joined have the same name in both tables. It is a simpler syntax for this specific case.\n",
    "\n",
    "syntax:\n",
    "\n",
    "    SELECT columns\n",
    "    FROM table1\n",
    "    JOIN table2\n",
    "    USING (column_name);\n",
    "    \n",
    "Key Differences:\n",
    "1. Column Names:\n",
    "\n",
    "    * ON can join columns with different names or use more complex conditions.\n",
    "    * USING requires that the columns being joined have the same name in both tables.\n",
    "2. Flexibility:\n",
    "\n",
    "    * ON is more flexible and can handle complex join conditions, including multiple conditions.\n",
    "    * USING is simpler but limited to cases where the column names are identical. \n",
    "3. Resulting Column Names:\n",
    "\n",
    "    * When using ON, both joined columns will appear in the result set, typically qualified with their table names.\n",
    "    * When using USING, the resulting table will only include one instance of the joined column, eliminating redundancy."
   ]
  },
  {
   "cell_type": "markdown",
   "id": "a5a588ca-93fa-4880-9b89-2a9ec1023594",
   "metadata": {
    "jp-MarkdownHeadingCollapsed": true,
    "tags": []
   },
   "source": [
    "### 584. Find Customer Referee"
   ]
  },
  {
   "cell_type": "markdown",
   "id": "8b24c955-1bc9-4a79-b06b-63ca60f2de9b",
   "metadata": {},
   "source": [
    "#### <u>description</u>"
   ]
  },
  {
   "cell_type": "markdown",
   "id": "6f44b7d2-2932-4db6-8856-3458861c0fa9",
   "metadata": {},
   "source": [
    "Table: Customer\n",
    "\n",
    "    +-------------+---------+\n",
    "    | Column Name | Type    |\n",
    "    +-------------+---------+\n",
    "    | id          | int     |\n",
    "    | name        | varchar |\n",
    "    | referee_id  | int     |\n",
    "    +-------------+---------+\n",
    "In SQL, id is the primary key column for this table.\n",
    "Each row of this table indicates the id of a customer, their name, and the id of the customer who referred them.\n",
    " \n",
    "\n",
    "Find the names of the customer that are not referred by the customer with id = 2.\n",
    "\n",
    "Return the result table in any order."
   ]
  },
  {
   "cell_type": "markdown",
   "id": "30199579-1fe2-4305-81dd-33a03199aa46",
   "metadata": {},
   "source": [
    "#### <u>attempts</u>"
   ]
  },
  {
   "cell_type": "markdown",
   "id": "0b2144f8-3649-4f78-adff-c52046a54898",
   "metadata": {},
   "source": [
    "    SELECT name FROM Customer\n",
    "    WHERE referee_id <> 2 OR referee_id IS NULL\n",
    "\n",
    "status = success"
   ]
  },
  {
   "cell_type": "markdown",
   "id": "8d0a9f86-46c8-41de-af15-415f37f64a11",
   "metadata": {},
   "source": [
    "#### <u>solutions</u>"
   ]
  },
  {
   "cell_type": "markdown",
   "id": "4d768f89-d10a-42b2-ac56-f156054bde37",
   "metadata": {},
   "source": [
    "a solution from leetcode\n",
    "\n",
    "    SELECT name\n",
    "    FROM Customer\n",
    "    WHERE COALESCE(referee_id,0) <> 2;"
   ]
  },
  {
   "cell_type": "markdown",
   "id": "ad30f26e-fbc5-4dbb-9cd2-2c4ba4ffc64f",
   "metadata": {},
   "source": [
    "#### <u>notes</u>"
   ]
  },
  {
   "cell_type": "markdown",
   "id": "08b61d2e-6df9-4486-bd6a-c031c3919a97",
   "metadata": {},
   "source": [
    "1. Not Equal Operators\n",
    "\n",
    "!= and <> can both act as a \"not equal\" operator\n",
    "\n",
    "2. COALESCE\n",
    "\n",
    "The COALESCE function in MySQL is used to get the first non-null value from a list of expressions.\n",
    "\n",
    "If all the values in the list are evaluated to NULL, then the COALESCE() function returns NULL. The COALESCE() function accepts one parameter, which is the list, which can contain various values\n",
    "\n",
    "syntax:\n",
    "\n",
    "    COALESCE(value_1, value_2, …., value_n)\n",
    "    \n",
    "* COALESCE() can be used to substitute NULL values in table columns with a default value or an expression.\n",
    "* COALESCE() is more flexible than IFNULL() as it can handle any number of arguments, while IFNULL() only takes two arguments."
   ]
  },
  {
   "cell_type": "markdown",
   "id": "d663c8a6-b97a-4d90-940e-9d18a8b2eef7",
   "metadata": {
    "jp-MarkdownHeadingCollapsed": true,
    "tags": []
   },
   "source": [
    "### 586. Customer Placing the Largest Number of Orders"
   ]
  },
  {
   "cell_type": "markdown",
   "id": "f1ce6033-1ce2-4f72-a047-cd080b5f5c31",
   "metadata": {},
   "source": [
    "#### <u>description</u>"
   ]
  },
  {
   "cell_type": "markdown",
   "id": "f69ac9aa-6d9d-49d8-a06e-0e405d4dccfc",
   "metadata": {},
   "source": [
    "Table: Orders\n",
    "\n",
    "    +-----------------+----------+\n",
    "    | Column Name     | Type     |\n",
    "    +-----------------+----------+\n",
    "    | order_number    | int      |\n",
    "    | customer_number | int      |\n",
    "    +-----------------+----------+\n",
    "order_number is the primary key (column with unique values) for this table.\n",
    "This table contains information about the order ID and the customer ID.\n",
    " \n",
    "\n",
    "Write a solution to find the customer_number for the customer who has placed the largest number of orders.\n",
    "\n",
    "The test cases are generated so that exactly one customer will have placed more orders than any other customer."
   ]
  },
  {
   "cell_type": "markdown",
   "id": "072fb5dd-8168-4894-bfa2-549683726232",
   "metadata": {},
   "source": [
    "#### <u>attempts</u>"
   ]
  },
  {
   "cell_type": "markdown",
   "id": "318f5e6b-ab7b-43f5-b3ab-d4350a20a9b6",
   "metadata": {},
   "source": [
    "NOTE: this query gives the right customer_number but comes with an additional unwanted column \"c\", however i can visualize what's happening\n",
    "\n",
    "    SELECT customer_number, COUNT(order_number) as c\n",
    "    FROM Orders\n",
    "    GROUP BY customer_number\n",
    "    ORDER BY c DESC LIMIT 1\n",
    "\n",
    "status = failure"
   ]
  },
  {
   "cell_type": "markdown",
   "id": "2574f586-b796-4308-b72e-39f91e88341e",
   "metadata": {},
   "source": [
    "NOTE: really not entirely sure why this works i.e hard time visualizing what the GROUP BY and ORDER BY does (also didn't know i could use COUNT with the ORDER BY clause). it's also really efficient apparently\n",
    "\n",
    "    SELECT customer_number\n",
    "    FROM Orders\n",
    "    GROUP BY customer_number\n",
    "    ORDER BY COUNT(customer_number) DESC LIMIT 1\n",
    "\n",
    "status = success"
   ]
  },
  {
   "cell_type": "markdown",
   "id": "bc77437b-b751-40a6-924e-412bdb00e40a",
   "metadata": {},
   "source": [
    "#### <u>solutions</u>"
   ]
  },
  {
   "cell_type": "markdown",
   "id": "22517d61-26f6-4236-93f7-912ce2c2b937",
   "metadata": {},
   "source": [
    "from some leetcode solution; almost identical to mine bu the COUNT() is different\n",
    "\n",
    "    SELECT customer_number\n",
    "    FROM orders\n",
    "    GROUP BY customer_number\n",
    "    ORDER BY COUNT(*) DESC\n",
    "    LIMIT 1;"
   ]
  },
  {
   "cell_type": "markdown",
   "id": "20ba889c-97d2-4d58-aa4f-94cb77773b5c",
   "metadata": {},
   "source": [
    "#### <u>notes</u>"
   ]
  },
  {
   "cell_type": "markdown",
   "id": "606a2d45-6dfb-4acb-a765-3831f8fd78c0",
   "metadata": {},
   "source": [
    "most solutions has the same answer as me, this is the explanation from one of the solution:\n",
    "\n",
    "1. Grouping the orders by customer_number.\n",
    "2. Counting the number of orders for each customer_number.\n",
    "3. Ordering the results by the count of orders in descending order.\n",
    "4. Limiting the output to only the first row, which will contain the customer_number with the highest count of orders."
   ]
  },
  {
   "cell_type": "markdown",
   "id": "66218c08-424c-4f58-92af-243a229e6432",
   "metadata": {
    "jp-MarkdownHeadingCollapsed": true,
    "tags": []
   },
   "source": [
    "### 595. Big Countries"
   ]
  },
  {
   "cell_type": "markdown",
   "id": "523f3f6d-c265-4b87-a262-055427e854f7",
   "metadata": {},
   "source": [
    "#### <u>description</u>"
   ]
  },
  {
   "cell_type": "markdown",
   "id": "2703a537-1b10-491c-83ef-ea9f0ed0f82b",
   "metadata": {},
   "source": [
    "Table: World\n",
    "\n",
    "    +-------------+---------+\n",
    "    | Column Name | Type    |\n",
    "    +-------------+---------+\n",
    "    | name        | varchar |\n",
    "    | continent   | varchar |\n",
    "    | area        | int     |\n",
    "    | population  | int     |\n",
    "    | gdp         | bigint  |\n",
    "    +-------------+---------+\n",
    "    \n",
    "name is the primary key (column with unique values) for this table.\n",
    "Each row of this table gives information about the name of a country, the continent to which it belongs, its area, the population, and its GDP value.\n",
    " \n",
    "\n",
    "A country is big if:\n",
    "\n",
    "it has an area of at least three million (i.e., 3000000 km2), or\n",
    "it has a population of at least twenty-five million (i.e., 25000000).\n",
    "Write a solution to find the name, population, and area of the big countries.\n",
    "\n",
    "Return the result table in any order."
   ]
  },
  {
   "cell_type": "markdown",
   "id": "64dd11ae-0376-427b-a6a9-c0bf7351b036",
   "metadata": {},
   "source": [
    "#### <u>attempts</u>"
   ]
  },
  {
   "cell_type": "markdown",
   "id": "5687ec42-fbc5-406d-999b-eed6e8327fa8",
   "metadata": {},
   "source": [
    "    SELECT name, population, area FROM World\n",
    "    WHERE area >= 3000000 OR population >=  25000000\n",
    "\n",
    "status = success"
   ]
  },
  {
   "cell_type": "markdown",
   "id": "860c48d9-442d-40a4-929f-58e6158eeafc",
   "metadata": {},
   "source": [
    "#### <u>solutions</u>"
   ]
  },
  {
   "cell_type": "code",
   "execution_count": null,
   "id": "2b9830d7-1542-4c51-8192-ae6daf34864f",
   "metadata": {},
   "outputs": [],
   "source": []
  },
  {
   "cell_type": "markdown",
   "id": "88cc7b4a-228b-4e82-8c61-987c25dee8b9",
   "metadata": {},
   "source": [
    "#### <u>notes</u>"
   ]
  },
  {
   "cell_type": "markdown",
   "id": "5bf3c37b-5d2b-4934-9039-6f39ffa1916f",
   "metadata": {},
   "source": [
    "this problem is extremely straightforward"
   ]
  },
  {
   "cell_type": "markdown",
   "id": "ab88eafa-7374-4adb-9777-2bc5d8db205e",
   "metadata": {
    "jp-MarkdownHeadingCollapsed": true,
    "tags": []
   },
   "source": [
    "### 596. Classes More than 5 Students"
   ]
  },
  {
   "cell_type": "markdown",
   "id": "d85c5170-c4f6-448b-96c4-8bff281be20a",
   "metadata": {},
   "source": [
    "#### <u>description</u>"
   ]
  },
  {
   "cell_type": "markdown",
   "id": "09675afb-ee67-4d0a-92ef-65d16d7f35d5",
   "metadata": {},
   "source": [
    "Table: Courses\n",
    "\n",
    "    +-------------+---------+\n",
    "    | Column Name | Type    |\n",
    "    +-------------+---------+\n",
    "    | student     | varchar |\n",
    "    | class       | varchar |\n",
    "    +-------------+---------+\n",
    "(student, class) is the primary key (combination of columns with unique values) for this table.\n",
    "Each row of this table indicates the name of a student and the class in which they are enrolled.\n",
    " \n",
    "\n",
    "Write a solution to find all the classes that have at least five students.\n",
    "\n",
    "Return the result table in any order."
   ]
  },
  {
   "cell_type": "markdown",
   "id": "e94555e3-92ab-4487-9c01-7dd793dc2380",
   "metadata": {},
   "source": [
    "#### <u>attempts</u>"
   ]
  },
  {
   "cell_type": "markdown",
   "id": "c5992028-fc4b-4fce-bec6-2527c2028457",
   "metadata": {},
   "source": [
    "    SELECT class FROM Courses\n",
    "    GROUP BY class\n",
    "    HAVING COUNT(class) >= 5\n",
    "\n",
    "status = success"
   ]
  },
  {
   "cell_type": "markdown",
   "id": "80e58b46-e876-4eaa-9da3-9ba018fe82fa",
   "metadata": {},
   "source": [
    "#### <u>solutions</u>"
   ]
  },
  {
   "cell_type": "markdown",
   "id": "506f4b97-c8fa-4b9c-8089-db385289a82e",
   "metadata": {},
   "source": [
    "this also works, perhaps a bit more intuitive\n",
    "\n",
    "    SELECT class FROM Courses\n",
    "    GROUP BY class\n",
    "    HAVING COUNT(student) >= 5"
   ]
  },
  {
   "cell_type": "markdown",
   "id": "46afb362-653d-4ac2-9a1b-17222b82084a",
   "metadata": {},
   "source": [
    "#### <u>notes</u>"
   ]
  },
  {
   "cell_type": "markdown",
   "id": "9cdd2332-49d3-4954-a4cb-b8bcd8de9685",
   "metadata": {},
   "source": [
    "another extremely straightforward problem"
   ]
  },
  {
   "cell_type": "markdown",
   "id": "0a10aca5-05a2-4ed7-9e8d-46e040c9994a",
   "metadata": {
    "jp-MarkdownHeadingCollapsed": true,
    "tags": []
   },
   "source": [
    "### 607. Sales Person"
   ]
  },
  {
   "cell_type": "markdown",
   "id": "9689be42-1ff5-4699-b437-28fb20c51000",
   "metadata": {},
   "source": [
    "#### <u>description</u>"
   ]
  },
  {
   "cell_type": "markdown",
   "id": "fab142d7-86e3-4f40-b9d1-cf558cfbd9d7",
   "metadata": {},
   "source": [
    "Table: SalesPerson\n",
    "\n",
    "    +-----------------+---------+\n",
    "    | Column Name     | Type    |\n",
    "    +-----------------+---------+\n",
    "    | sales_id        | int     |\n",
    "    | name            | varchar |\n",
    "    | salary          | int     |\n",
    "    | commission_rate | int     |\n",
    "    | hire_date       | date    |\n",
    "    +-----------------+---------+\n",
    "sales_id is the primary key (column with unique values) for this table.\n",
    "Each row of this table indicates the name and the ID of a salesperson alongside their salary, commission rate, and hire date.\n",
    " \n",
    "\n",
    "Table: Company\n",
    "\n",
    "    +-------------+---------+\n",
    "    | Column Name | Type    |\n",
    "    +-------------+---------+\n",
    "    | com_id      | int     |\n",
    "    | name        | varchar |\n",
    "    | city        | varchar |\n",
    "    +-------------+---------+\n",
    "com_id is the primary key (column with unique values) for this table.\n",
    "Each row of this table indicates the name and the ID of a company and the city in which the company is located.\n",
    " \n",
    "\n",
    "Table: Orders\n",
    "\n",
    "    +-------------+------+\n",
    "    | Column Name | Type |\n",
    "    +-------------+------+\n",
    "    | order_id    | int  |\n",
    "    | order_date  | date |\n",
    "    | com_id      | int  |\n",
    "    | sales_id    | int  |\n",
    "    | amount      | int  |\n",
    "    +-------------+------+\n",
    "order_id is the primary key (column with unique values) for this table.\n",
    "com_id is a foreign key (reference column) to com_id from the Company table.\n",
    "sales_id is a foreign key (reference column) to sales_id from the SalesPerson table.\n",
    "Each row of this table contains information about one order. This includes the ID of the company, the ID of the salesperson, the date of the order, and the amount paid.\n",
    " \n",
    "\n",
    "Write a solution to find the names of all the salespersons who did not have any orders related to the company with the name \"RED\".\n",
    "\n",
    "Return the result table in any order."
   ]
  },
  {
   "cell_type": "markdown",
   "id": "afa01ed5-cddd-4a0a-8deb-84dfe0cf7a88",
   "metadata": {},
   "source": [
    "#### <u>attempts</u>"
   ]
  },
  {
   "cell_type": "markdown",
   "id": "e56b705f-e935-4e40-8fee-a93d42bb5d5a",
   "metadata": {},
   "source": [
    "NOTE: this really feels like it should work but the output is plain wrong\n",
    "\n",
    "    SELECT sales.name FROM SalesPerson sales\n",
    "    JOIN Orders orders ON orders.sales_id = sales.sales_id\n",
    "    JOIN Company company ON orders.com_id = company.com_id\n",
    "    WHERE company.name <> \"RED\"\n",
    "    \n",
    "status = failure"
   ]
  },
  {
   "cell_type": "markdown",
   "id": "3607b685-66d5-4bcf-abd6-8f12cbeec5cd",
   "metadata": {},
   "source": [
    "NOTE: above was definitely incorrect, below works\n",
    "\n",
    "    SELECT name FROM SalesPerson\n",
    "    WHERE sales_id NOT IN (\n",
    "        SELECT sales.sales_id FROM Orders orders\n",
    "        JOIN Company company ON orders.com_id = company.com_id\n",
    "        JOIN SalesPerson sales ON orders.sales_id = sales.sales_id\n",
    "        WHERE company.name = \"RED\"\n",
    "    )\n",
    "\n",
    "status = success"
   ]
  },
  {
   "cell_type": "markdown",
   "id": "433671fb-f03f-4e37-b47a-e67d3e977990",
   "metadata": {},
   "source": [
    "#### <u>solutions</u>"
   ]
  },
  {
   "cell_type": "code",
   "execution_count": null,
   "id": "e98b2673-c8f0-4513-b5b4-972d2f73c3a8",
   "metadata": {},
   "outputs": [],
   "source": []
  },
  {
   "cell_type": "markdown",
   "id": "3a409461-380d-4df5-954a-15689bd929e1",
   "metadata": {},
   "source": [
    "#### <u>notes</u>"
   ]
  },
  {
   "cell_type": "markdown",
   "id": "fa5d865c-37df-47a0-ba9d-5eafffc21798",
   "metadata": {},
   "source": [
    "the solutions are all some variation of what i wrote, so nothing new to add. however i struggled a bit with this problem; i still seem to have a hard time visualizing the output tables after performing operations on them"
   ]
  },
  {
   "cell_type": "markdown",
   "id": "7fe6b26b-5cc6-4235-952d-ce17311b807e",
   "metadata": {
    "jp-MarkdownHeadingCollapsed": true,
    "tags": []
   },
   "source": [
    "### 610. Triangle Judgement"
   ]
  },
  {
   "cell_type": "markdown",
   "id": "3c7550ac-34ce-4712-8033-cb03b7b77150",
   "metadata": {},
   "source": [
    "#### <u>description</u>"
   ]
  },
  {
   "cell_type": "markdown",
   "id": "0421b7f1-f346-44ff-b76e-763ee2ea1b6b",
   "metadata": {},
   "source": [
    "    +-------------+------+\n",
    "    | Column Name | Type |\n",
    "    +-------------+------+\n",
    "    | x           | int  |\n",
    "    | y           | int  |\n",
    "    | z           | int  |\n",
    "    +-------------+------+\n",
    "In SQL, (x, y, z) is the primary key column for this table.\n",
    "Each row of this table contains the lengths of three line segments.\n",
    "\n",
    "Report for every three line segments whether they can form a triangle.\n",
    "\n",
    "Return the result table in any order."
   ]
  },
  {
   "cell_type": "markdown",
   "id": "e490da1c-c300-4556-91f5-cc3ae3e67c99",
   "metadata": {},
   "source": [
    "#### <u>attempts</u>"
   ]
  },
  {
   "cell_type": "markdown",
   "id": "6db25b40-2151-4efa-a059-c1f1d432e940",
   "metadata": {},
   "source": [
    "didn't really bother with this one, didn't seem so much to be about SQL but rather geometry..."
   ]
  },
  {
   "cell_type": "markdown",
   "id": "03deec92-a28d-4f26-a9f0-caf92aa57dcf",
   "metadata": {},
   "source": [
    "#### <u>solutions</u>"
   ]
  },
  {
   "cell_type": "markdown",
   "id": "c4ff13af-aae2-41de-866d-a939757aba78",
   "metadata": {},
   "source": [
    "from some leetcode solution\n",
    "\n",
    "    SELECT *, IF(x+y>z AND y+z>x AND z+x>y, \"Yes\", \"No\") as triangle\n",
    "    FROM Triangle"
   ]
  },
  {
   "cell_type": "markdown",
   "id": "84d19b40-9c1d-4ec1-878c-0d3dea68aed9",
   "metadata": {},
   "source": [
    "#### <u>notes</u>"
   ]
  },
  {
   "cell_type": "markdown",
   "id": "df8128db-7083-48dc-a29c-3197e35f8174",
   "metadata": {},
   "source": [
    "new function used here, IF()\n",
    "\n",
    "1. IF\n",
    "\n",
    "The IF() function returns a value if a condition is TRUE, or another value if a condition is FALSE.\n",
    "\n",
    "syntax:\n",
    "\n",
    "    IF(condition, value_if_true, value_if_false)"
   ]
  },
  {
   "cell_type": "markdown",
   "id": "89c46bd8-d84a-4885-bf02-3a30c05faa44",
   "metadata": {
    "jp-MarkdownHeadingCollapsed": true,
    "tags": []
   },
   "source": [
    "### 619. Biggest Single Number"
   ]
  },
  {
   "cell_type": "markdown",
   "id": "7746e787-86d1-4ab7-a58a-a290cba8a798",
   "metadata": {},
   "source": [
    "#### <u>description</u>"
   ]
  },
  {
   "cell_type": "markdown",
   "id": "4992749c-345b-4091-96b5-e6ecbdc0ca66",
   "metadata": {},
   "source": [
    "Table: MyNumbers\n",
    "\n",
    "    +-------------+------+\n",
    "    | Column Name | Type |\n",
    "    +-------------+------+\n",
    "    | num         | int  |\n",
    "    +-------------+------+\n",
    "This table may contain duplicates (In other words, there is no primary key for this table in SQL).\n",
    "Each row of this table contains an integer.\n",
    " \n",
    "\n",
    "A single number is a number that appeared only once in the MyNumbers table.\n",
    "\n",
    "Find the largest single number. If there is no single number, report null."
   ]
  },
  {
   "cell_type": "markdown",
   "id": "08f1ef02-d329-4340-a932-f9120909fb3e",
   "metadata": {},
   "source": [
    "#### <u>attempts</u>"
   ]
  },
  {
   "cell_type": "markdown",
   "id": "519f7624-5409-43ab-8c59-73ef8a5899bf",
   "metadata": {},
   "source": [
    "    SELECT MAX(num) AS num FROM (\n",
    "        SELECT * FROM MyNumbers\n",
    "        GROUP BY num\n",
    "        HAVING COUNT(num) = 1\n",
    "    ) AS sub\n",
    "\n",
    "status = success"
   ]
  },
  {
   "cell_type": "markdown",
   "id": "06515bb2-0784-4ec1-a99f-30aeec1f824c",
   "metadata": {},
   "source": [
    "#### <u>solutions</u>"
   ]
  },
  {
   "cell_type": "markdown",
   "id": "d4d10617-54e8-4b85-a580-1258fa9f73cb",
   "metadata": {},
   "source": [
    "solution from a leetcode thread, uses sorting instead of subquery\n",
    "\n",
    "    SELECT IF(COUNT(num) =1, num, null) AS num          # if the number appears exactly once, it is returned, otherwise null is returned\n",
    "    FROM MyNumbers \n",
    "    GROUP BY num                                        # groups the rows by the 'num' column. each group contains all rows with the same 'num' value\n",
    "    ORDER BY COUNT(num), num DESC                       # this clause sorts results first by the count of each 'num' in asc order, then by 'num in desc order\n",
    "                                                        # ensures that 1. numbers that appear once are at the top, 2. among those, the largest numbers appears first\n",
    "    LIMIT 1;                                            # picks the top number \n",
    "    \n",
    "NOTE: not as fast apparently. also a bit confusing since the original column and the new one are both named num, i assume the group and order is done on the new column. also not entirely sure if GPT's explanation is correct or if there is something about sql's order of operation i still don't fundamentally understand...\n",
    "\n",
    "explanation: The query groups the table by each number, counts the occurrences, and uses the IF function to either select the number (if it appears exactly once) or null. It then sorts the results such that numbers that appear exactly once are prioritized and, among those, the largest number comes first. Finally, it selects the top result."
   ]
  },
  {
   "cell_type": "markdown",
   "id": "c30bb0fd-c6f5-4c61-afdc-69ea1b36af73",
   "metadata": {},
   "source": [
    "#### <u>notes</u>"
   ]
  },
  {
   "cell_type": "markdown",
   "id": "69c57358-e25b-4376-9fa7-b4b4e0e56c00",
   "metadata": {},
   "source": [
    "initially wrote \n",
    "\n",
    "    SELECT MAX(num) AS num FROM (\n",
    "        SELECT * FROM MyNumbers\n",
    "        GROUP BY num\n",
    "        HAVING COUNT(num) = 1\n",
    "    )\n",
    "\n",
    "but this query failed. the subquery (derived table) in this case must have a name, hence the AS sub (simply putting sub next to the ending paranthesis also works)\n",
    "\n",
    "i also initialy though that my corrected query wouldn't work, that i had to write a condition in the event that there were no single numbers but that is not the case. SELECT will return null if the subquery is empty due to there being no single numbers"
   ]
  },
  {
   "cell_type": "markdown",
   "id": "e7429022-34b6-4de2-8e34-87b8030ae805",
   "metadata": {
    "jp-MarkdownHeadingCollapsed": true,
    "tags": []
   },
   "source": [
    "### 620. Not Boring Movies"
   ]
  },
  {
   "cell_type": "markdown",
   "id": "8bdb70bf-6934-40cc-8ce7-c77afdae14f2",
   "metadata": {},
   "source": [
    "#### <u>description</u>"
   ]
  },
  {
   "cell_type": "markdown",
   "id": "77c33d19-bf33-4555-bc65-7c3e1dedfe1c",
   "metadata": {},
   "source": [
    "Table: Cinema\n",
    "\n",
    "    +----------------+----------+\n",
    "    | Column Name    | Type     |\n",
    "    +----------------+----------+\n",
    "    | id             | int      |\n",
    "    | movie          | varchar  |\n",
    "    | description    | varchar  |\n",
    "    | rating         | float    |\n",
    "    +----------------+----------+\n",
    "id is the primary key (column with unique values) for this table.\n",
    "Each row contains information about the name of a movie, its genre, and its rating.\n",
    "rating is a 2 decimal places float in the range [0, 10]\n",
    " \n",
    "\n",
    "Write a solution to report the movies with an odd-numbered ID and a description that is not \"boring\".\n",
    "\n",
    "Return the result table ordered by rating in descending order."
   ]
  },
  {
   "cell_type": "markdown",
   "id": "f3b785ed-4988-4715-a46f-451bb28f40f1",
   "metadata": {},
   "source": [
    "#### <u>attempts</u>"
   ]
  },
  {
   "cell_type": "markdown",
   "id": "577973aa-421f-41eb-a5c1-7f346fcd5db9",
   "metadata": {},
   "source": [
    "    SELECT * FROM Cinema\n",
    "    WHERE MOD(id,2)=1 AND description <> 'boring'\n",
    "    ORDER BY rating DESC\n",
    "\n",
    "status = success"
   ]
  },
  {
   "cell_type": "markdown",
   "id": "a3004329-0256-4cc1-af05-4ed546e84918",
   "metadata": {},
   "source": [
    "#### <u>solutions</u>"
   ]
  },
  {
   "cell_type": "markdown",
   "id": "ed0ebbae-68fd-46e5-a893-e5e96c8e5ae8",
   "metadata": {},
   "source": [
    "just about every top solutions are the exact same as my query"
   ]
  },
  {
   "cell_type": "markdown",
   "id": "89820766-a305-4362-aded-f07592850fcf",
   "metadata": {},
   "source": [
    "#### <u>notes</u>"
   ]
  },
  {
   "cell_type": "markdown",
   "id": "bfc0a33c-c59a-4244-9872-aa6a03e6321e",
   "metadata": {},
   "source": [
    "in the WHERE clause in my attempt, it is possible to use the modulus operator instead of the function as well. so writing this also works:\n",
    "\n",
    "    WHERE id % 2 = 1 AND description <> 'boring'"
   ]
  },
  {
   "cell_type": "markdown",
   "id": "b1fbc9d0-5ab9-4b05-bd39-b872d22cd3f8",
   "metadata": {
    "jp-MarkdownHeadingCollapsed": true,
    "tags": []
   },
   "source": [
    "### 627. Swap Salary"
   ]
  },
  {
   "cell_type": "markdown",
   "id": "7e7316ac-a3f5-4bc6-be75-d5614ba3f511",
   "metadata": {},
   "source": [
    "#### <u>description</u>"
   ]
  },
  {
   "cell_type": "markdown",
   "id": "39a896d6-a035-4555-beea-bb411bf830fa",
   "metadata": {},
   "source": [
    "Table: Salary\n",
    "\n",
    "    +-------------+----------+\n",
    "    | Column Name | Type     |\n",
    "    +-------------+----------+\n",
    "    | id          | int      |\n",
    "    | name        | varchar  |\n",
    "    | sex         | ENUM     |\n",
    "    | salary      | int      |\n",
    "    +-------------+----------+\n",
    "id is the primary key (column with unique values) for this table.\n",
    "The sex column is ENUM (category) value of type ('m', 'f').\n",
    "The table contains information about an employee.\n",
    " \n",
    "\n",
    "Write a solution to swap all 'f' and 'm' values (i.e., change all 'f' values to 'm' and vice versa) with a single update statement and no intermediate temporary tables.\n",
    "\n",
    "Note that you must write a single update statement, do not write any select statement for this problem."
   ]
  },
  {
   "cell_type": "markdown",
   "id": "0d49508a-d75f-4467-bed7-849e5f98efaf",
   "metadata": {},
   "source": [
    "#### <u>attempts</u>"
   ]
  },
  {
   "cell_type": "markdown",
   "id": "44c703b4-9fd0-4fe0-b287-b11278d98b59",
   "metadata": {},
   "source": [
    "NOTE: slow solution\n",
    "\n",
    "    UPDATE Salary\n",
    "    SET sex = CASE WHEN sex = 'm' THEN 'f' ELSE 'm' END;\n",
    "    \n",
    "status = success"
   ]
  },
  {
   "cell_type": "markdown",
   "id": "d192ecc2-bc13-4543-9936-b501df745c88",
   "metadata": {},
   "source": [
    "#### <u>solutions</u>"
   ]
  },
  {
   "cell_type": "markdown",
   "id": "dc813de0-9fd0-4f3f-bc02-704a2f775242",
   "metadata": {},
   "source": [
    "some solution from leetcode. similar to mine but appears faster and more 'precise'. all the others were very similar to mine. there is a slight change in the syntax that would be worth looking into\n",
    "\n",
    "    Update Salary\n",
    "    SET sex= CASE sex\n",
    "    WHEN 'm' THEN 'f'\n",
    "    WHEN 'f' THEN 'm'\n",
    "    ELSE sex\n",
    "    END"
   ]
  },
  {
   "cell_type": "markdown",
   "id": "eda65ae7-b974-4ca0-a155-944a3383befc",
   "metadata": {},
   "source": [
    "#### <u>notes</u>"
   ]
  },
  {
   "cell_type": "markdown",
   "id": "d1eed5ad-b6a4-4c2c-8c09-6d3555a7b14e",
   "metadata": {},
   "source": [
    "this is the template i used to create my solution, it's possible to update multiple columns at once:\n",
    "\n",
    "    UPDATE myTable\n",
    "    SET \n",
    "    col1 = CASE WHEN col1 = 1 THEN 5 ELSE 1 END,\n",
    "    col2 = CASE WHEN col2 = 2 THEN 6 ELSE 2 END,\n",
    "    col3 = CASE WHEN col3 = 3 THEN 7 ELSE 3 END "
   ]
  },
  {
   "cell_type": "markdown",
   "id": "e3395317-91e4-4071-84fe-644fa869c314",
   "metadata": {
    "jp-MarkdownHeadingCollapsed": true,
    "tags": []
   },
   "source": [
    "### 1050. Actors and Directors Who Cooperated At Least Three Times"
   ]
  },
  {
   "cell_type": "markdown",
   "id": "840dded7-51f2-44a8-bf97-193e4011c2aa",
   "metadata": {},
   "source": [
    "#### <u>description</u>"
   ]
  },
  {
   "cell_type": "markdown",
   "id": "72d687f1-c24a-4abf-8156-5c540152817f",
   "metadata": {},
   "source": [
    "Table: ActorDirector\n",
    "\n",
    "    +-------------+---------+\n",
    "    | Column Name | Type    |\n",
    "    +-------------+---------+\n",
    "    | actor_id    | int     |\n",
    "    | director_id | int     |\n",
    "    | timestamp   | int     |\n",
    "    +-------------+---------+\n",
    "timestamp is the primary key (column with unique values) for this table.\n",
    " \n",
    "\n",
    "Write a solution to find all the pairs (actor_id, director_id) where the actor has cooperated with the director at least three times.\n",
    "\n",
    "Return the result table in any order."
   ]
  },
  {
   "cell_type": "markdown",
   "id": "9a64ca82-a826-44ec-8f92-04a27ece04fd",
   "metadata": {},
   "source": [
    "#### <u>attempts</u>"
   ]
  },
  {
   "cell_type": "markdown",
   "id": "84b2c3fc-644e-42b5-a87f-ce8c7c5ab820",
   "metadata": {},
   "source": [
    "NOTE: this won't work because every time actor_id >=3 the second condition will be met too, logical flaw  \n",
    "  \n",
    "    SELECT actor_id, director_id\n",
    "    FROM ActorDirector\n",
    "    GROUP BY actor_id\n",
    "    HAVING COUNT(actor_id) >= 3 AND COUNT(director_id) >= 3\n",
    "    \n",
    "status = failure"
   ]
  },
  {
   "cell_type": "markdown",
   "id": "c0393e94-8673-4ffe-82ff-2084b11ca072",
   "metadata": {},
   "source": [
    "NOTE: the AND condition here isn't necessary, and simply HAVING COUNT(actor_id) >= 3 would suffice\n",
    "\n",
    "    SELECT actor_id, director_id\n",
    "    FROM ActorDirector\n",
    "    GROUP BY actor_id, director_id\n",
    "    HAVING COUNT(actor_id) >= 3 AND COUNT(director_id) >= 3\n",
    "    \n",
    "status = success"
   ]
  },
  {
   "cell_type": "markdown",
   "id": "f8588f64-6db9-42d4-88fe-b236c44c060f",
   "metadata": {},
   "source": [
    "#### <u>solutions</u>"
   ]
  },
  {
   "cell_type": "markdown",
   "id": "82c120eb-efb4-4142-81cf-2e84d6696851",
   "metadata": {},
   "source": [
    "a leetcode solution\n",
    "\n",
    "    SELECT actor_id, director_id \n",
    "    FROM (\n",
    "    SELECT actor_id,director_id, \n",
    "    COUNT(timestamp) AS cooperated \n",
    "    FROM ActorDirector \n",
    "    GROUP BY actor_id,director_id) \n",
    "    table1\n",
    "    WHERE cooperated>=3;"
   ]
  },
  {
   "cell_type": "markdown",
   "id": "1fd32cc1-2403-47f4-8ef2-35e6632d20b1",
   "metadata": {},
   "source": [
    "#### <u>notes</u>"
   ]
  },
  {
   "cell_type": "markdown",
   "id": "2c44497e-80b9-411a-ac2c-275865fa7c18",
   "metadata": {},
   "source": [
    "there is still something about aggregations i still don't fundamentally understanding:\n",
    "1. COUNT(), SUM(), etc. before the grouping\n",
    "2. GROUP BY itself\n",
    "3. aggregations performed after the grouping - HAVING COUNT(), SUM(), etc.\n",
    "\n",
    "explanation of the leetcode solution:\n",
    "the inner query here is the bulk of the solution. here's a breakdown\n",
    "1. SELECT actor_id, director_id, COUNT(timestamp) AS cooperated\n",
    "   * this part selects actor_id and director_id and counts the number of rows for each combination of actor_id and director_id. this count is given the alias 'cooperated'\n",
    "2. GROUP BY actor_id, director_id\n",
    "    * this groups the results by actor_id and director_id. for each unique combination of actor_id and director_id, it aggregates (counts) the number of timestamps (cooperations)\n",
    "3. this is what the output would look like\n",
    "\n",
    "        +-------------+-------------+------------+\n",
    "        | actor_id    | director_id | cooperated |\n",
    "        +-------------+-------------+------------+\n",
    "        | 1           | 101         | 3          |\n",
    "        | 1           | 102         | 2          |\n",
    "        | 2           | 101         | 3          |\n",
    "        +-------------+-------------+------------+\n",
    "4. from there it is easy to see what the outer query does\n"
   ]
  },
  {
   "cell_type": "markdown",
   "id": "c5a9c8cc-34ea-43a0-9636-31fa167656d6",
   "metadata": {
    "jp-MarkdownHeadingCollapsed": true,
    "tags": []
   },
   "source": [
    "### 1068. Product Sales Analysis I"
   ]
  },
  {
   "cell_type": "markdown",
   "id": "be888d89-60f6-4aa1-a086-dd0b3513e5e8",
   "metadata": {},
   "source": [
    "#### <u>description</u>"
   ]
  },
  {
   "cell_type": "markdown",
   "id": "d5d9e279-e569-4a7c-9901-5014ce801b31",
   "metadata": {},
   "source": [
    "Table: Sales\n",
    "\n",
    "    +-------------+-------+\n",
    "    | Column Name | Type  |\n",
    "    +-------------+-------+\n",
    "    | sale_id     | int   |\n",
    "    | product_id  | int   |\n",
    "    | year        | int   |\n",
    "    | quantity    | int   |\n",
    "    | price       | int   |\n",
    "    +-------------+-------+\n",
    "(sale_id, year) is the primary key (combination of columns with unique values) of this table.\n",
    "product_id is a foreign key (reference column) to Product table.\n",
    "Each row of this table shows a sale on the product product_id in a certain year.\n",
    "Note that the price is per unit.\n",
    " \n",
    "\n",
    "Table: Product\n",
    "\n",
    "    +--------------+---------+\n",
    "    | Column Name  | Type    |\n",
    "    +--------------+---------+\n",
    "    | product_id   | int     |\n",
    "    | product_name | varchar |\n",
    "    +--------------+---------+\n",
    "product_id is the primary key (column with unique values) of this table.\n",
    "Each row of this table indicates the product name of each product.\n",
    " \n",
    "\n",
    "Write a solution to report the product_name, year, and price for each sale_id in the Sales table.\n",
    "\n",
    "Return the resulting table in any order."
   ]
  },
  {
   "cell_type": "markdown",
   "id": "b91dc5a5-0aee-4f26-9516-e9c22947a86a",
   "metadata": {},
   "source": [
    "#### <u>attempts</u>"
   ]
  },
  {
   "cell_type": "markdown",
   "id": "cbabd094-4adf-4c67-9dfd-6491468e61eb",
   "metadata": {},
   "source": [
    "    SELECT p.product_name, s.year, s.price FROM Sales s\n",
    "    JOIN Product p ON s.product_id = p.product_id\n",
    "    \n",
    "status = success"
   ]
  },
  {
   "cell_type": "markdown",
   "id": "56f6382f-3f70-432e-87ae-378f5a5ff401",
   "metadata": {},
   "source": [
    "NOTE: also works since both tables have the same column for product_id\n",
    "\n",
    "    SELECT product_name, year, price FROM Sales \n",
    "    JOIN Product USING(product_id)\n",
    "    \n",
    "status = success"
   ]
  },
  {
   "cell_type": "markdown",
   "id": "954c149b-44bf-4d44-9fb1-6576eb706d78",
   "metadata": {},
   "source": [
    "#### <u>solutions</u>"
   ]
  },
  {
   "cell_type": "markdown",
   "id": "94df5566-539d-4476-b1c3-f32a40514c62",
   "metadata": {},
   "source": [
    "very simple problem, solutions are all the same"
   ]
  },
  {
   "cell_type": "markdown",
   "id": "933e8490-c063-4d52-be08-dbb80d17edb9",
   "metadata": {},
   "source": [
    "#### <u>notes</u>"
   ]
  },
  {
   "cell_type": "markdown",
   "id": "8ca2099e-fff8-4930-b170-51473e0c975b",
   "metadata": {},
   "source": [
    "nothing to add"
   ]
  },
  {
   "cell_type": "markdown",
   "id": "b0bc1341-5853-4e36-a6dd-56d50107732b",
   "metadata": {
    "jp-MarkdownHeadingCollapsed": true,
    "tags": []
   },
   "source": [
    "### 1075. Project Employees I"
   ]
  },
  {
   "cell_type": "markdown",
   "id": "5512dc8d-d76d-4eed-94a4-43e8e4f1ec88",
   "metadata": {},
   "source": [
    "#### <u>description</u>"
   ]
  },
  {
   "cell_type": "markdown",
   "id": "76e9050d-1a52-434d-89d1-d4c23c07daa3",
   "metadata": {},
   "source": [
    "Table: Project\n",
    "\n",
    "    +-------------+---------+\n",
    "    | Column Name | Type    |\n",
    "    +-------------+---------+\n",
    "    | project_id  | int     |\n",
    "    | employee_id | int     |\n",
    "    +-------------+---------+\n",
    "(project_id, employee_id) is the primary key of this table.\n",
    "employee_id is a foreign key to Employee table.\n",
    "Each row of this table indicates that the employee with employee_id is working on the project with project_id.\n",
    " \n",
    "\n",
    "Table: Employee\n",
    "\n",
    "    +------------------+---------+\n",
    "    | Column Name      | Type    |\n",
    "    +------------------+---------+\n",
    "    | employee_id      | int     |\n",
    "    | name             | varchar |\n",
    "    | experience_years | int     |\n",
    "    +------------------+---------+\n",
    "employee_id is the primary key of this table. It's guaranteed that experience_years is not NULL.\n",
    "Each row of this table contains information about one employee.\n",
    " \n",
    "\n",
    "Write an SQL query that reports the average experience years of all the employees for each project, rounded to 2 digits.\n",
    "\n",
    "Return the result table in any order."
   ]
  },
  {
   "cell_type": "markdown",
   "id": "0b84f76a-d008-4ab4-b589-806f7943a208",
   "metadata": {},
   "source": [
    "#### <u>attempts</u>"
   ]
  },
  {
   "cell_type": "markdown",
   "id": "b0dc6674-e043-483c-b90d-65251ec0d781",
   "metadata": {},
   "source": [
    "    SELECT project_id, ROUND(AVG(experience_years), 2) AS average_years\n",
    "    FROM Project\n",
    "    JOIN Employee USING(employee_id)\n",
    "    GROUP BY project_id\n",
    "\n",
    "status = success"
   ]
  },
  {
   "cell_type": "markdown",
   "id": "712bb384-b2ee-4440-b9a3-13b1a0b29577",
   "metadata": {},
   "source": [
    "#### <u>solutions</u>"
   ]
  },
  {
   "cell_type": "markdown",
   "id": "bc05203e-1ed8-4344-bcb3-7b3ded4add24",
   "metadata": {},
   "source": [
    "another simple problem, solutions are all a variation of the same thing"
   ]
  },
  {
   "cell_type": "markdown",
   "id": "825a57b4-91fc-43dd-9246-8df5aeb236c8",
   "metadata": {},
   "source": [
    "#### <u>notes</u>"
   ]
  },
  {
   "cell_type": "markdown",
   "id": "ea5a6fe9-a6d1-4e6a-b9ed-3cb3c2a9a3ea",
   "metadata": {},
   "source": [
    "nothing to add"
   ]
  },
  {
   "cell_type": "markdown",
   "id": "6ee220b2-a244-444c-992e-a625f80e7fe2",
   "metadata": {
    "jp-MarkdownHeadingCollapsed": true,
    "tags": []
   },
   "source": [
    "### 1084. Sales Analysis III"
   ]
  },
  {
   "cell_type": "markdown",
   "id": "37782d7b-abb3-4244-9840-6578c773a870",
   "metadata": {},
   "source": [
    "#### <u>description</u>"
   ]
  },
  {
   "cell_type": "markdown",
   "id": "db7b0175-7ef7-43b6-8308-99d7ee086550",
   "metadata": {},
   "source": [
    "Table: Product\n",
    "\n",
    "    +--------------+---------+\n",
    "    | Column Name  | Type    |\n",
    "    +--------------+---------+\n",
    "    | product_id   | int     |\n",
    "    | product_name | varchar |\n",
    "    | unit_price   | int     |\n",
    "    +--------------+---------+\n",
    "product_id is the primary key (column with unique values) of this table.\n",
    "Each row of this table indicates the name and the price of each product.\n",
    "Table: Sales\n",
    "\n",
    "    +-------------+---------+\n",
    "    | Column Name | Type    |\n",
    "    +-------------+---------+\n",
    "    | seller_id   | int     |\n",
    "    | product_id  | int     |\n",
    "    | buyer_id    | int     |\n",
    "    | sale_date   | date    |\n",
    "    | quantity    | int     |\n",
    "    | price       | int     |\n",
    "    +-------------+---------+\n",
    "This table can have duplicate rows.\n",
    "product_id is a foreign key (reference column) to the Product table.\n",
    "Each row of this table contains some information about one sale.\n",
    " \n",
    "\n",
    "Write a solution to report the products that were only sold in the first quarter of 2019. That is, between 2019-01-01 and 2019-03-31 inclusive.\n",
    "\n",
    "Return the result table in any order."
   ]
  },
  {
   "cell_type": "markdown",
   "id": "9f95aa4d-9ec0-4c5d-af26-84d3cca8ea98",
   "metadata": {},
   "source": [
    "#### <u>attempts</u>"
   ]
  },
  {
   "cell_type": "markdown",
   "id": "0186ce6f-4c72-4a2b-9562-a1f255022e39",
   "metadata": {},
   "source": [
    "NOTE: this will not exclude products that are sold outside of this range as well. they need to be sold ONLY within this range\n",
    "\n",
    "    SELECT product_id, product_name FROM Product\n",
    "    JOIN Sales USING(product_id)\n",
    "    WHERE sale_date BETWEEN '2019-01-01' AND '2019-03-31'\n",
    "\n",
    "status = failure"
   ]
  },
  {
   "cell_type": "markdown",
   "id": "1573fa12-d793-4a9a-a900-88f1718063a4",
   "metadata": {},
   "source": [
    "NOTE: if a product_id exists in the Product table but not the Sales table, the output will not be correct\n",
    "\n",
    "    SELECT product_id, product_name FROM Product\n",
    "    WHERE product_id NOT IN\n",
    "    (\n",
    "        SELECT product_id FROM Product\n",
    "        JOIN Sales USING(product_id)\n",
    "        WHERE sale_date NOT BETWEEN '2019-01-01' AND '2019-03-31'\n",
    "    ) \n",
    "    \n",
    "status = failure"
   ]
  },
  {
   "cell_type": "markdown",
   "id": "c4100810-2a07-45ba-9a77-2288b65479bc",
   "metadata": {},
   "source": [
    "NOTE: using LEFT JOIN as opposed to RIGHT JOIN made the difference between success and failure. still having bit of a hard time to visualize left vs right join (although \n",
    "straightforward...). i believe the 'left' table is the first one mentioned (right after the FROM clause) and the right on is the one being joined. makes sense for this example\n",
    "\n",
    "NOTE: also for whatever reason, putting the NOT BETWEEN statement in parantheses caused a syntax error -> s.sale_date (NOT BETWEEN '2019-01-01' AND '2019-03-31') <- doesn't work\n",
    "\n",
    "    SELECT product_id, product_name FROM Product\n",
    "    WHERE product_id NOT IN\n",
    "    (\n",
    "        SELECT p.product_id FROM Product p\n",
    "        LEFT JOIN Sales s ON s.product_id = p.product_id\n",
    "        WHERE s.sale_date IS NULL \n",
    "        OR s.sale_date NOT BETWEEN '2019-01-01' AND '2019-03-31'\n",
    "    ) \n",
    "    \n",
    "this also works\n",
    "\n",
    "    SELECT product_id, product_name FROM Product\n",
    "    WHERE product_id NOT IN\n",
    "    (\n",
    "        SELECT product_id FROM Product \n",
    "        LEFT JOIN Sales USING(product_id)\n",
    "        WHERE sale_date IS NULL \n",
    "        OR sale_date NOT BETWEEN '2019-01-01' AND '2019-03-31'\n",
    "    ) \n",
    "    \n",
    "status = success"
   ]
  },
  {
   "cell_type": "markdown",
   "id": "52dde419-8dc8-4d8e-85c2-9eb14b1dcc76",
   "metadata": {},
   "source": [
    "#### <u>solutions</u>"
   ]
  },
  {
   "cell_type": "markdown",
   "id": "24f5c54e-af59-4486-b0a9-46edabaee75f",
   "metadata": {},
   "source": [
    "from some leetcode solution. this solution uses a GROUP BY and HAVING conditions to exclude those products that are sold both inside and outside the range, and doesn't need to deal with the null values\n",
    "\n",
    "    SELECT s.product_id, product_name\n",
    "    FROM Sales s\n",
    "    LEFT JOIN Product p ON s.product_id = p.product_id\n",
    "    GROUP BY s.product_id\n",
    "    HAVING MIN(sale_date) >= '2019-01-01' AND MAX(sale_date) <= '2019-03-31'"
   ]
  },
  {
   "cell_type": "markdown",
   "id": "bda830da-b309-4531-bea7-6fc8a0b326c7",
   "metadata": {},
   "source": [
    "#### <u>notes</u>"
   ]
  },
  {
   "cell_type": "markdown",
   "id": "687e8f10-986b-47ef-8bfb-3c2c111696c2",
   "metadata": {},
   "source": [
    "the BETWEEN operator:\n",
    "* The BETWEEN operator selects values within a given range. The values can be numbers, text, or dates.\n",
    "* The BETWEEN operator is inclusive: begin and end values are included. \n",
    "* NOT can be included before to give the opposite result"
   ]
  },
  {
   "cell_type": "markdown",
   "id": "9788a4cf-bb2e-416e-aa0c-50596af18e1a",
   "metadata": {
    "jp-MarkdownHeadingCollapsed": true,
    "tags": []
   },
   "source": [
    "### 1141. User Activity for the Past 30 days I"
   ]
  },
  {
   "cell_type": "markdown",
   "id": "f24e368c-8168-4829-91e7-98364e0a720b",
   "metadata": {},
   "source": [
    "#### <u>description</u>"
   ]
  },
  {
   "cell_type": "markdown",
   "id": "4ace83f8-8a89-43d3-a30e-cc451a49611e",
   "metadata": {},
   "source": [
    "Table: Activity\n",
    "\n",
    "    +---------------+---------+\n",
    "    | Column Name   | Type    |\n",
    "    +---------------+---------+\n",
    "    | user_id       | int     |\n",
    "    | session_id    | int     |\n",
    "    | activity_date | date    |\n",
    "    | activity_type | enum    |\n",
    "    +---------------+---------+\n",
    "This table may have duplicate rows.\n",
    "The activity_type column is an ENUM (category) of type ('open_session', 'end_session', 'scroll_down', 'send_message').\n",
    "The table shows the user activities for a social media website. \n",
    "Note that each session belongs to exactly one user.\n",
    " \n",
    "\n",
    "Write a solution to find the daily active user count for a period of 30 days ending 2019-07-27 inclusively. A user was active on someday if they made at least one activity on that day.\n",
    "\n",
    "Return the result table in any order."
   ]
  },
  {
   "cell_type": "markdown",
   "id": "201bfff9-192f-4fed-84e9-bd35bfb6d747",
   "metadata": {},
   "source": [
    "#### <u>attempts</u>"
   ]
  },
  {
   "cell_type": "markdown",
   "id": "913b3ab8-f898-417f-ac1c-88ee808bf190",
   "metadata": {},
   "source": [
    "NOTE: does not pass all test cases, not sure why... looking at the expected output, my first date is 1 day earlier than the expected result's earliest date. inclusivity error?\n",
    "\n",
    "    SELECT activity_date AS day, COUNT(DISTINCT(user_id)) AS active_users\n",
    "    FROM Activity\n",
    "    WHERE activity_date BETWEEN DATE_SUB('2019-07-27', INTERVAL 30 DAY) AND '2019-07-27'\n",
    "    GROUP BY activity_date\n",
    "\n",
    "status = failure"
   ]
  },
  {
   "cell_type": "markdown",
   "id": "8d9ca1ab-0103-408c-95ba-1dea8062e6ba",
   "metadata": {},
   "source": [
    "NOTE: was just slightly off on my interval...\n",
    "\n",
    "    SELECT activity_date AS day, COUNT(DISTINCT(user_id)) AS active_users\n",
    "    FROM Activity\n",
    "    WHERE activity_date BETWEEN DATE_SUB('2019-07-27', INTERVAL 29 DAY) AND '2019-07-27'\n",
    "    GROUP BY activity_date\n",
    "    \n",
    "status = success"
   ]
  },
  {
   "cell_type": "markdown",
   "id": "8d284276-71f1-4163-a391-6505a248ed97",
   "metadata": {},
   "source": [
    "#### <u>solutions</u>"
   ]
  },
  {
   "cell_type": "markdown",
   "id": "c364ead7-b7e4-4505-8ca9-b4c078dd68d2",
   "metadata": {},
   "source": [
    "modified some leetcode solution. pretty similar to mine but uses HAVING instead of a WHERE clause\n",
    "\n",
    "    SELECT activity_date AS day, COUNT(DISTINCT user_id) AS active_users\n",
    "    FROM activity\n",
    "    GROUP BY activity_date\n",
    "    HAVING activity_date BETWEEN DATE_SUB('2019-07-27', INTERVAL 29 DAY) AND '2019-07-27'"
   ]
  },
  {
   "cell_type": "markdown",
   "id": "a9cd9759-7afb-4eb0-8003-2dfc5abf2262",
   "metadata": {},
   "source": [
    "#### <u>notes</u>"
   ]
  },
  {
   "cell_type": "markdown",
   "id": "4d887ab5-c131-45e6-b4bf-6a54257ca4e6",
   "metadata": {},
   "source": [
    "used DATE_SUB again, but below is a list of all the date functions (would be useful to get familiar with some of them: DATE_ADD, for example, does the opposite of DATE_SUB):\n",
    "\n",
    "https://dev.mysql.com/doc/refman/8.4/en/date-and-time-functions.html#function_date-add\n",
    "\n",
    "COUNT(DISTINCT(column_name)) is new to me. works pretty intuitively: the count only increments when a new user_id is encountered (in my solution). here's where it might be useful:\n",
    "* This helps you understand the diversity and uniqueness of data.\n",
    "* The COUNT(DISTINCT) identifies and eliminates duplicate values in your data. This is useful for data cleaning and ensuring data accuracy.\n",
    "* COUNT(DISTINCT) helps in getting this count or categorical data, you might want to know the number of unique categories or options available.\n",
    "* COUNT(DISTINCT) helps in generating the number of unique occurrences of certain attributes to get accurate and informative reports.\n",
    "* You can analyze membership in various groups or categories by counting the number of distinct members in each group.\n",
    "* COUNT(DISTINCT) provides unique value counts for analysis and decision-making"
   ]
  },
  {
   "cell_type": "markdown",
   "id": "71b0e735-1451-432b-a736-f5ef9be6671d",
   "metadata": {
    "jp-MarkdownHeadingCollapsed": true,
    "tags": []
   },
   "source": [
    "### 1148. Article Views I"
   ]
  },
  {
   "cell_type": "markdown",
   "id": "ad1c7d89-3085-4863-b652-9a052aea83f3",
   "metadata": {},
   "source": [
    "#### <u>description</u>"
   ]
  },
  {
   "cell_type": "markdown",
   "id": "6f0ba806-61dd-494d-8b9a-df5125363596",
   "metadata": {},
   "source": [
    "Table: Views\n",
    "\n",
    "    +---------------+---------+\n",
    "    | Column Name   | Type    |\n",
    "    +---------------+---------+\n",
    "    | article_id    | int     |\n",
    "    | author_id     | int     |\n",
    "    | viewer_id     | int     |\n",
    "    | view_date     | date    |\n",
    "    +---------------+---------+\n",
    "There is no primary key (column with unique values) for this table, the table may have duplicate rows.\n",
    "Each row of this table indicates that some viewer viewed an article (written by some author) on some date. \n",
    "Note that equal author_id and viewer_id indicate the same person.\n",
    " \n",
    "\n",
    "Write a solution to find all the authors that viewed at least one of their own articles.\n",
    "\n",
    "Return the result table sorted by id in ascending order."
   ]
  },
  {
   "cell_type": "markdown",
   "id": "3378e3b0-c15a-4857-a8ca-dfc716978b44",
   "metadata": {},
   "source": [
    "#### <u>attempts</u>"
   ]
  },
  {
   "cell_type": "markdown",
   "id": "38061a40-1a11-4539-93a2-0758d6e59c8e",
   "metadata": {},
   "source": [
    "    SELECT DISTINCT author_id as id \n",
    "    FROM Views\n",
    "    WHERE author_id = viewer_id\n",
    "    ORDER BY author_id\n",
    "\n",
    "status = success"
   ]
  },
  {
   "cell_type": "markdown",
   "id": "1ea32e0e-f0b7-4a9e-b36d-f45708331e26",
   "metadata": {},
   "source": [
    "#### <u>solutions</u>"
   ]
  },
  {
   "cell_type": "markdown",
   "id": "22d801ff-e5a1-4d8c-bb31-410f64ae6762",
   "metadata": {},
   "source": [
    "all the solutions are basically the same as mine"
   ]
  },
  {
   "cell_type": "markdown",
   "id": "494f192e-95e5-4ac1-bed5-7e06c3e0312c",
   "metadata": {},
   "source": [
    "#### <u>notes</u>"
   ]
  },
  {
   "cell_type": "markdown",
   "id": "0a1b1bb3-1817-4f65-8cb8-094a1678bead",
   "metadata": {},
   "source": [
    "nothing to add"
   ]
  },
  {
   "cell_type": "markdown",
   "id": "53c5f626-3c9a-4cfd-a56e-e7cdd489fd4c",
   "metadata": {
    "jp-MarkdownHeadingCollapsed": true,
    "tags": []
   },
   "source": [
    "### 1179. Reformat Department Table"
   ]
  },
  {
   "cell_type": "markdown",
   "id": "6685b04e-c5d7-4323-8064-011743f2f056",
   "metadata": {},
   "source": [
    "#### <u>description</u>"
   ]
  },
  {
   "cell_type": "markdown",
   "id": "b127179e-14e2-4a9b-94d0-1239b9ecd162",
   "metadata": {},
   "source": [
    "Table: Department\n",
    "\n",
    "    +-------------+---------+\n",
    "    | Column Name | Type    |\n",
    "    +-------------+---------+\n",
    "    | id          | int     |\n",
    "    | revenue     | int     |\n",
    "    | month       | varchar |\n",
    "    +-------------+---------+\n",
    "In SQL,(id, month) is the primary key of this table.\n",
    "The table has information about the revenue of each department per month.\n",
    "The month has values in [\"Jan\",\"Feb\",\"Mar\",\"Apr\",\"May\",\"Jun\",\"Jul\",\"Aug\",\"Sep\",\"Oct\",\"Nov\",\"Dec\"].\n",
    " \n",
    "\n",
    "Reformat the table such that there is a department id column and a revenue column for each month.\n",
    "\n",
    "Return the result table in any order."
   ]
  },
  {
   "cell_type": "markdown",
   "id": "f9fe4da5-a655-4ac3-8822-fe3d4336bd44",
   "metadata": {},
   "source": [
    "#### <u>attempts</u>"
   ]
  },
  {
   "cell_type": "markdown",
   "id": "4c96467b-f1d7-41d3-a31f-ac7791b946da",
   "metadata": {},
   "source": [
    "NOTE: first attempt i was just stumped... was looking into DECLARE to create some kind of date range and then looking into iterating through it while looking at the Department table to generate the columns, but then gave up on that when it looked like too much for an easy problem\n",
    "\n",
    "    DECLARE @StartDate date = \n",
    "\n",
    "    UPDATE Department\n",
    "    \n",
    "status = failure"
   ]
  },
  {
   "cell_type": "markdown",
   "id": "3560a816-1569-4c9c-9c94-206d4690632a",
   "metadata": {},
   "source": [
    "NOTE: foolishly tried to use a stackoverflow response that was for SQL server (our queries are meant to use MySQL). SQL server uses square brackets instead of backticks to delimit identifier, so i changed those, only to find out MySQL does not have a PIVOT keyword\n",
    "\n",
    "    SELECT id, `Jan`,`Feb`,`Mar`,`Apr`,`May`,`Jun`,`Jul`,`Aug`,`Sep`,`Oct`,`Nov`,`Dec`\n",
    "    FROM Department\n",
    "    PIVOT (revenue FOR month IN (`Jan`,`Feb`,`Mar`,`Apr`,`May`,`Jun`,`Jul`,`Aug`,`Sep`,`Oct`,`Nov`,`Dec`)\n",
    "    ) pvt\n",
    "\n",
    "status = failure\n",
    "\n",
    "this is the query i tried copying:\n",
    "\n",
    "    SELECT  Project, [Jan 2014], [Feb 2014], [Mar 2014], [April 2014]\n",
    "    FROM    T\n",
    "            PIVOT\n",
    "            (   SUM(MonthValues)\n",
    "                FOR Months IN ([Jan 2014], [Feb 2014], [Mar 2014], [April 2014])\n",
    "            ) pvt;"
   ]
  },
  {
   "cell_type": "markdown",
   "id": "e44017a3-c166-4096-9d4a-11f25aaaa5a9",
   "metadata": {},
   "source": [
    "NOTE: this works, but there HAS to be a smarter way (also doesn't matter if you use SUM or MAX)\n",
    "\n",
    "    SELECT id,\n",
    "    SUM(CASE WHEN month ='Jan' THEN revenue ELSE null END) AS Jan_Revenue,\n",
    "    SUM(CASE WHEN month ='Feb' THEN revenue ELSE null END) AS Feb_Revenue,\n",
    "    SUM(CASE WHEN month ='Mar' THEN revenue ELSE null END) AS Mar_Revenue,\n",
    "    SUM(CASE WHEN month ='Apr' THEN revenue ELSE null END) AS Apr_Revenue,\n",
    "    SUM(CASE WHEN month ='May' THEN revenue ELSE null END) AS May_Revenue,\n",
    "    SUM(CASE WHEN month ='Jun' THEN revenue ELSE null END) AS Jun_Revenue,\n",
    "    SUM(CASE WHEN month ='Jul' THEN revenue ELSE null END) AS Jul_Revenue,\n",
    "    SUM(CASE WHEN month ='Aug' THEN revenue ELSE null END) AS Aug_Revenue,\n",
    "    SUM(CASE WHEN month ='Sep' THEN revenue ELSE null END) AS Sep_Revenue,\n",
    "    SUM(CASE WHEN month ='Oct' THEN revenue ELSE null END) AS Oct_Revenue,\n",
    "    SUM(CASE WHEN month ='Nov' THEN revenue ELSE null END) AS Nov_Revenue,\n",
    "    SUM(CASE WHEN month ='Dec' THEN revenue ELSE null END) AS Dec_Revenue\n",
    "    FROM Department\n",
    "    GROUP BY id\n",
    "\n",
    "status = success"
   ]
  },
  {
   "cell_type": "markdown",
   "id": "0231b061-8821-43a1-996f-1c1f7e99813b",
   "metadata": {},
   "source": [
    "#### <u>solutions</u>"
   ]
  },
  {
   "cell_type": "markdown",
   "id": "518de4d3-63f3-4bd2-86ec-bcc15edbd2e2",
   "metadata": {},
   "source": [
    "from some leetcode solution\n",
    "\n",
    "    SELECT\n",
    "    Id,\n",
    "    SUM(IF(month = 'Jan', revenue, null)) AS Jan_Revenue,\n",
    "    SUM(IF(month = 'Feb', revenue, null)) AS Feb_Revenue,\n",
    "    SUM(IF(month = 'Mar', revenue, null)) AS Mar_Revenue,\n",
    "    SUM(IF(month = 'Apr', revenue, null)) AS Apr_Revenue,\n",
    "    SUM(IF(month = 'May', revenue, null)) AS May_Revenue,\n",
    "    SUM(IF(month = 'Jun', revenue, null)) AS Jun_Revenue,\n",
    "    SUM(IF(month = 'Jul', revenue, null)) AS Jul_Revenue,\n",
    "    SUM(IF(month = 'Aug', revenue, null)) AS Aug_Revenue,\n",
    "    SUM(IF(month = 'Sep', revenue, null)) AS Sep_Revenue,\n",
    "    SUM(IF(month = 'Oct', revenue, null)) AS Oct_Revenue,\n",
    "    SUM(IF(month = 'Nov', revenue, null)) AS Nov_Revenue,\n",
    "    SUM(IF(month = 'Dec', revenue, null)) AS Dec_Revenue\n",
    "    FROM Department\n",
    "    GROUP BY id;"
   ]
  },
  {
   "cell_type": "markdown",
   "id": "c006d00d-5fb5-4b2d-89f0-58937f1643aa",
   "metadata": {},
   "source": [
    "#### <u>notes</u>"
   ]
  },
  {
   "cell_type": "markdown",
   "id": "8b02097c-afdf-4ade-8642-ef1d4b1027d0",
   "metadata": {},
   "source": [
    "haven't found a non-verbose way of solving this problem. also looking at my solution and one of the leetcode solution i found, hard to tell if it's more appropriate to use CASE WHEN or IF, or what really is the difference between the two in this case"
   ]
  },
  {
   "cell_type": "markdown",
   "id": "6452ee84-ee4c-4906-a562-6acfc4268a0e",
   "metadata": {
    "jp-MarkdownHeadingCollapsed": true,
    "tags": []
   },
   "source": [
    "### 1211. Queries Quality and Percentage"
   ]
  },
  {
   "cell_type": "markdown",
   "id": "fa3dee0f-8f84-4703-ba81-4dd44aa0d17f",
   "metadata": {},
   "source": [
    "#### <u>description</u>"
   ]
  },
  {
   "cell_type": "markdown",
   "id": "d3822d2d-b1a8-4adb-836d-97f9074df9b7",
   "metadata": {},
   "source": [
    "Table: Queries\n",
    "\n",
    "    +-------------+---------+\n",
    "    | Column Name | Type    |\n",
    "    +-------------+---------+\n",
    "    | query_name  | varchar |\n",
    "    | result      | varchar |\n",
    "    | position    | int     |\n",
    "    | rating      | int     |\n",
    "    +-------------+---------+\n",
    "This table may have duplicate rows.\n",
    "This table contains information collected from some queries on a database.\n",
    "The position column has a value from 1 to 500.\n",
    "The rating column has a value from 1 to 5. Query with rating less than 3 is a poor query.\n",
    " \n",
    "\n",
    "We define query quality as:\n",
    "\n",
    "The average of the ratio between query rating and its position.\n",
    "\n",
    "We also define poor query percentage as:\n",
    "\n",
    "The percentage of all queries with rating less than 3.\n",
    "\n",
    "Write a solution to find each query_name, the quality and poor_query_percentage.\n",
    "\n",
    "Both quality and poor_query_percentage should be rounded to 2 decimal places.\n",
    "\n",
    "Return the result table in any order."
   ]
  },
  {
   "cell_type": "markdown",
   "id": "14a42536-6593-4c8c-b770-0f57efe3bd08",
   "metadata": {},
   "source": [
    "#### <u>attempts</u>"
   ]
  },
  {
   "cell_type": "markdown",
   "id": "1b6da36d-42c0-4409-86ae-724175b767d0",
   "metadata": {},
   "source": [
    "NOTE: can get the first two column but missing poor_query_percentage\n",
    "\n",
    "    SELECT query_name, ROUND(AVG(rating / position), 2) AS quality\n",
    "    FROM Queries\n",
    "    GROUP BY query_name"
   ]
  },
  {
   "cell_type": "markdown",
   "id": "1ce056f4-22bf-4699-a0ca-d82a1457ea34",
   "metadata": {},
   "source": [
    "    SELECT query_name, ROUND(AVG(rating / position), 2) AS quality, \n",
    "    ROUND(SUM(IF(rating < 3, 1 , 0))/COUNT(query_name)*100,2) AS poor_query_percentage\n",
    "    FROM Queries\n",
    "    WHERE query_name IS NOT null\n",
    "    GROUP BY query_name\n",
    "    \n",
    "status = success"
   ]
  },
  {
   "cell_type": "markdown",
   "id": "1ea5ca7b-a314-4822-be4f-61cfbb667844",
   "metadata": {},
   "source": [
    "#### <u>solutions</u>"
   ]
  },
  {
   "cell_type": "markdown",
   "id": "4cc280ec-b314-41c8-b3ae-a62d3479b7fc",
   "metadata": {},
   "source": [
    "from some leetcode solution. for the most part the approach is the same as mine but with slightly different operations\n",
    "\n",
    "    SELECT query_name, ROUND(AVG(CAST(rating AS decimal)/position), 2) AS quality,\n",
    "    ROUND(SUM(CASE WHEN rating < 3 THEN 1 ELSE 0 end) * 100 / count(*), 2) AS poor_query_percentage\n",
    "    FROM Queries\n",
    "    GROUP BY query_name\n",
    "    HAVING query_name IS NOT NULL"
   ]
  },
  {
   "cell_type": "markdown",
   "id": "b165d496-980f-4c2b-96a7-121ce06ffc47",
   "metadata": {},
   "source": [
    "#### <u>notes</u>"
   ]
  },
  {
   "cell_type": "markdown",
   "id": "6f752da5-1ddb-4000-96c9-2a2d89bd667b",
   "metadata": {},
   "source": [
    "for my solution, the part of the query that deals with poor_query_percentage is a bit confusing, here's my attempt to break it down:\n",
    "\n",
    "1. IF(rating < 3, 1, 0) -> first off we only want to consider the bad queries, those below a rating of 3\n",
    "2. SUM(IF(rating < 3, 1, 0)) -> then we want the sum of all those bad queries, essentially acting as a count of bad queries\n",
    "3. SUM(IF(rating < 3, 1, 0))/COUNT(query_name)*100 -> this now calculates the percentage of bad queries, using the count calculated in step 2. and the total count of queries (i believe all this works because of the GROUP BY)\n",
    "4. ROUND(SUM(IF(rating < 3, 1, 0))/COUNT(query_name)*100 , 2) AS poor_query_percentage -> last step just rounds to 2 decimal places as asked by the question\n",
    "\n",
    "once again, unsure what the difference is between CASE and IF, seem to be operating the same. same thing for WHERE and HAVING, also seems to behaved the same. need to look into subtle differences, if there are any\n",
    "\n",
    "CAST()\n",
    "* the CAST() function converts a value (of any type) into a specified datatype\n",
    "* syntax -> CAST(value AS datatype)"
   ]
  },
  {
   "cell_type": "markdown",
   "id": "c66a6196-cb0e-43b8-bc4e-1084cdc7805f",
   "metadata": {
    "jp-MarkdownHeadingCollapsed": true,
    "tags": []
   },
   "source": [
    "### 1251. Average Selling Price"
   ]
  },
  {
   "cell_type": "markdown",
   "id": "f4cecab5-b883-41fc-a2ae-ba6034cfb323",
   "metadata": {},
   "source": [
    "#### <u>description</u>"
   ]
  },
  {
   "cell_type": "markdown",
   "id": "50e47e74-acf8-4c3b-8119-bb9c7104ba5f",
   "metadata": {},
   "source": [
    "Table: Prices\n",
    "\n",
    "    +---------------+---------+\n",
    "    | Column Name   | Type    |\n",
    "    +---------------+---------+\n",
    "    | product_id    | int     |\n",
    "    | start_date    | date    |\n",
    "    | end_date      | date    |\n",
    "    | price         | int     |\n",
    "    +---------------+---------+\n",
    "(product_id, start_date, end_date) is the primary key (combination of columns with unique values) for this table.\n",
    "Each row of this table indicates the price of the product_id in the period from start_date to end_date.\n",
    "For each product_id there will be no two overlapping periods. That means there will be no two intersecting periods for the same product_id.\n",
    " \n",
    "\n",
    "Table: UnitsSold\n",
    "\n",
    "    +---------------+---------+\n",
    "    | Column Name   | Type    |\n",
    "    +---------------+---------+\n",
    "    | product_id    | int     |\n",
    "    | purchase_date | date    |\n",
    "    | units         | int     |\n",
    "    +---------------+---------+\n",
    "This table may contain duplicate rows.\n",
    "Each row of this table indicates the date, units, and product_id of each product sold. \n",
    " \n",
    "\n",
    "Write a solution to find the average selling price for each product. average_price should be rounded to 2 decimal places.\n",
    "\n",
    "Return the result table in any order.\n",
    "\n"
   ]
  },
  {
   "cell_type": "markdown",
   "id": "c3bbb8c6-21ba-4318-8f7a-8c005d25e83a",
   "metadata": {},
   "source": [
    "#### <u>attempts</u>"
   ]
  },
  {
   "cell_type": "markdown",
   "id": "0bc25c57-a487-47fe-84e7-284329ec351a",
   "metadata": {},
   "source": [
    "NOTE: very close to passing but misses an edge case where there is a product that exists in the Prices table but not in the UnitsSold table, in which case the average price should show up as 0 instead of not being there at all\n",
    " \n",
    "     SELECT product_id, ROUND(SUM(sales)/SUM(units), 2) AS average_price FROM (\n",
    "        SELECT u.product_id, (p.price * u.units) AS sales, u.units FROM Prices p\n",
    "        JOIN UnitsSold u ON p.product_id = u.product_id \n",
    "        WHERE u.purchase_date BETWEEN p.start_date AND p.end_date\n",
    "    ) s\n",
    "    GROUP BY product_id\n",
    "    \n",
    "status = failure"
   ]
  },
  {
   "cell_type": "markdown",
   "id": "db19fcac-c999-4bc8-8469-e5c1d3440eb7",
   "metadata": {},
   "source": [
    "    SELECT product_id, IF(units IS NOT NULL, ROUND(SUM(sales)/SUM(units), 2), 0) AS average_price FROM (\n",
    "        SELECT p.product_id, (p.price * u.units) AS sales, u.units FROM Prices p\n",
    "        LEFT JOIN UnitsSold u ON p.product_id = u.product_id \n",
    "        WHERE u.purchase_date BETWEEN p.start_date AND p.end_date OR u.units IS NULL\n",
    "    ) s\n",
    "    GROUP BY product_id\n",
    "    \n",
    "status = success"
   ]
  },
  {
   "cell_type": "markdown",
   "id": "6f0c5d6b-d726-4731-85e1-5cb2dce9b55f",
   "metadata": {},
   "source": [
    "#### <u>solutions</u>"
   ]
  },
  {
   "cell_type": "markdown",
   "id": "aae4827c-c2a2-482c-8bf9-8746fac24f4e",
   "metadata": {},
   "source": [
    "from a leetcode solution. seems to use the same idea as me but there is no subquery used because of two important things: 1. the sales are directly calculated in the average_price calculation 2. the join is made using product_id like i did but it uses an additional condition (which i didn't know you could use with ON) similar to my WHERE clause to preserve ranges that are logical.\n",
    "\n",
    "i am not sure how the IFNULL() works but this with the LEFT JOIN seem to have similar application as my solution with the u.units IS NULL + IF(units IS NOT NULL...) \n",
    "\n",
    "    SELECT p.product_id, IFNULL(ROUND(SUM(p.price*u.units)/SUM(u.units),2),0) AS average_price\n",
    "    FROM Prices p \n",
    "    LEFT JOIN UnitsSold u\n",
    "    ON p.product_id = u.product_id AND \n",
    "    u.purchase_date BETWEEN p.Start_date and p.end_date\n",
    "    GROUP BY p.product_id"
   ]
  },
  {
   "cell_type": "markdown",
   "id": "07af6a3e-a4ec-4a47-a0ca-0af57cdce7c3",
   "metadata": {},
   "source": [
    "#### <u>notes</u>"
   ]
  },
  {
   "cell_type": "markdown",
   "id": "08635d2c-cf27-4e0a-9f32-3a700edf9192",
   "metadata": {},
   "source": [
    "explanation for the query in my attempt that succeeded...\n",
    "\n",
    "1. the subquery. in the subquery, the goal is to get a table with the sales made by each product for a given range (mutiplying the price by the units sold) as well as getting the product_id and the units which will be important for the outer query. the ranges are preserved as they should be using the WHERE clause and the BETWEEN operator (the output table is nonsensical without, and it is likely this query can be improved). it is important to also include the case where the units would be null (in the case that the product exists in the Product table but not in the UnitsSold table) in order to cover the egde case. \n",
    "2. outer query. now that you have the product_id, sales, and units for each range you can now perform the necessary operation to get the average_price. here's a breakdown of how it is done:\n",
    "    * ROUND(SUM(sales)/SUM(units), 2) -> this line, leveraging the GROUP BY, calculates the sum of sales and divides it by the sum of units to find the average price for a given product. this works because neither sales or units were agreggated earlier, only the sales made for those units within a certain range was calculated. the answer is also rounded since the question asks for it\n",
    "    * IF(units IS NOT NULL, ROUND(SUM(sales)/SUM(units), 2) 0) -> the previous calculation is wrapped by an IF function. this is why it was important to include the OR statement in the WHERE clause in the subquery. if the units are not null, the operation is performed. otherwise, 0 is simply returned\n",
    "    * GROUP BY product_id -> this is included so that the aggregations are performed correctly and the proper average price per product can be returned"
   ]
  },
  {
   "cell_type": "markdown",
   "id": "bdf0fd1f-1eb6-4296-8e73-4a8964e8ef34",
   "metadata": {
    "jp-MarkdownHeadingCollapsed": true,
    "tags": []
   },
   "source": [
    "### 1280. Students and Examination*"
   ]
  },
  {
   "cell_type": "markdown",
   "id": "20bf93bd-b995-422d-82c6-b7d3fb5055cd",
   "metadata": {},
   "source": [
    "#### <u>description</u>"
   ]
  },
  {
   "cell_type": "markdown",
   "id": "32071de5-d227-418c-9131-877fdaec32b3",
   "metadata": {},
   "source": [
    "Table: Students\n",
    "\n",
    "    +---------------+---------+\n",
    "    | Column Name   | Type    |\n",
    "    +---------------+---------+\n",
    "    | student_id    | int     |\n",
    "    | student_name  | varchar |\n",
    "    +---------------+---------+\n",
    "student_id is the primary key (column with unique values) for this table.\n",
    "Each row of this table contains the ID and the name of one student in the school.\n",
    " \n",
    "\n",
    "Table: Subjects\n",
    "\n",
    "    +--------------+---------+\n",
    "    | Column Name  | Type    |\n",
    "    +--------------+---------+\n",
    "    | subject_name | varchar |\n",
    "    +--------------+---------+\n",
    "subject_name is the primary key (column with unique values) for this table.\n",
    "Each row of this table contains the name of one subject in the school.\n",
    " \n",
    "\n",
    "Table: Examinations\n",
    "\n",
    "    +--------------+---------+\n",
    "    | Column Name  | Type    |\n",
    "    +--------------+---------+\n",
    "    | student_id   | int     |\n",
    "    | subject_name | varchar |\n",
    "    +--------------+---------+\n",
    "There is no primary key (column with unique values) for this table. It may contain duplicates.\n",
    "Each student from the Students table takes every course from the Subjects table.\n",
    "Each row of this table indicates that a student with ID student_id attended the exam of subject_name.\n",
    " \n",
    "\n",
    "Write a solution to find the number of times each student attended each exam.\n",
    "\n",
    "Return the result table ordered by student_id and subject_name."
   ]
  },
  {
   "cell_type": "markdown",
   "id": "e5b285f1-d088-4b4e-b9d3-a6d4a9a0bcae",
   "metadata": {},
   "source": [
    "#### <u>attempts</u>"
   ]
  },
  {
   "cell_type": "markdown",
   "id": "9f7484e0-04f6-4ecc-9f10-416d135c89e4",
   "metadata": {},
   "source": [
    "NOTE: appears i was missing some tools to complete this problem - did not look really feasible without CROSS JOIN\n",
    "\n",
    "status = failure"
   ]
  },
  {
   "cell_type": "markdown",
   "id": "6c5c6ac3-444a-4bf6-ba35-797976ede5a8",
   "metadata": {},
   "source": [
    "#### <u>solutions</u>"
   ]
  },
  {
   "cell_type": "markdown",
   "id": "f1843c9c-6367-4a7d-94b4-68441d2da8f6",
   "metadata": {},
   "source": [
    "there is a lot of variation in the answers unlike other problems, but most makes use of the CROSS JOIN operator. from a leetcode solution. makes use of the CROSS JOIN operator which creates a cartesian product, a LEFT JOIN, and uses a variety of grouping...\n",
    "\n",
    "    SELECT stu.student_id, stu.student_name, sub.subject_name, COUNT(exam.subject_name) AS attended_exams\n",
    "    FROM Students AS stu\n",
    "    CROSS JOIN Subjects AS sub\n",
    "    LEFT JOIN Examinations AS exam\n",
    "    ON exam.student_id = stu.student_id AND sub.subject_name = exam.subject_name\n",
    "    GROUP BY\n",
    "    stu.student_id, stu.student_name, sub.subject_name\n",
    "    ORDER BY\n",
    "    stu.student_id, sub.subject_name;"
   ]
  },
  {
   "cell_type": "markdown",
   "id": "9b3723c4-e781-42c8-8ac3-c89b7d0a729c",
   "metadata": {},
   "source": [
    "#### <u>notes</u>"
   ]
  },
  {
   "cell_type": "markdown",
   "id": "0f998d9f-336b-44ae-b156-9564e6cdfa2b",
   "metadata": {},
   "source": [
    "explanation of the solution:\n",
    "\n",
    "* Cross Join: Combines every student with every subject, creating a list of all possible student-subject pairs.\n",
    "* Left Join: Connects this list with the Examinations table to find which students have taken exams in which subjects.\n",
    "* Grouping: Groups the results by student, subject, and counts the number of exams attended for each combination.\n",
    "* Ordering: Sorts the results by student_id and then by subject_name for better readability.\n",
    "\n",
    "REVIEW & REVISE THIS: from my understanding you need to start with the Students table to have all the names (Alex does not take any exam but still needs to show 0 participation in each subject), followed by the CROSS JOIN with the subjects to create the cartesian product table, lastly joining the Examinations table to get the count. at this time not entirely sure how/why the GROUP BY works here"
   ]
  },
  {
   "cell_type": "markdown",
   "id": "03e23658-e977-4758-9a5b-7252116d0bcf",
   "metadata": {
    "jp-MarkdownHeadingCollapsed": true,
    "tags": []
   },
   "source": [
    "### 1327. List the Products Ordered in a Period"
   ]
  },
  {
   "cell_type": "markdown",
   "id": "c726cdfa-4379-4f56-b2dc-764f478985da",
   "metadata": {},
   "source": [
    "#### <u>description</u>"
   ]
  },
  {
   "cell_type": "markdown",
   "id": "9dd8f1f1-0351-4851-ac1e-fcfa9162d40f",
   "metadata": {},
   "source": [
    "Table: Products\n",
    "\n",
    "    +------------------+---------+\n",
    "    | Column Name      | Type    |\n",
    "    +------------------+---------+\n",
    "    | product_id       | int     |\n",
    "    | product_name     | varchar |\n",
    "    | product_category | varchar |\n",
    "    +------------------+---------+\n",
    "product_id is the primary key (column with unique values) for this table.\n",
    "This table contains data about the company's products.\n",
    " \n",
    "\n",
    "Table: Orders\n",
    "\n",
    "    +---------------+---------+\n",
    "    | Column Name   | Type    |\n",
    "    +---------------+---------+\n",
    "    | product_id    | int     |\n",
    "    | order_date    | date    |\n",
    "    | unit          | int     |\n",
    "    +---------------+---------+\n",
    "This table may have duplicate rows.\n",
    "product_id is a foreign key (reference column) to the Products table.\n",
    "unit is the number of products ordered in order_date.\n",
    " \n",
    "\n",
    "Write a solution to get the names of products that have at least 100 units ordered in February 2020 and their amount.\n",
    "\n",
    "Return the result table in any order."
   ]
  },
  {
   "cell_type": "markdown",
   "id": "cb8ecafc-845e-4e64-997a-dabbb4538e0d",
   "metadata": {},
   "source": [
    "#### <u>attempts</u>"
   ]
  },
  {
   "cell_type": "markdown",
   "id": "d4b027c3-38bc-4533-89f7-84c698548f29",
   "metadata": {},
   "source": [
    "NOTE: a bit confusing how the SUM() alias is also named unit (as requested from the question), what does the HAVING clause look at later on? original unit from the table or the SUM(unit) AS unit defined earlier? likely the latter otherwise this wouldn't work. tested and it's definitely the latter, the original unit column is not even recognized if i changed the aggregation alias to units instead\n",
    "\n",
    "    SELECT product_name, SUM(unit) AS unit FROM Orders \n",
    "    JOIN Products USING(product_id)\n",
    "    WHERE MONTH(order_date) = 2 AND YEAR(order_date) = 2020 \n",
    "    GROUP BY product_id\n",
    "    HAVING unit >= 100\n",
    "    \n",
    "status = success"
   ]
  },
  {
   "cell_type": "markdown",
   "id": "30ccaebe-662a-47e4-99f5-e8f6eaaa5e50",
   "metadata": {},
   "source": [
    "#### <u>solutions</u>"
   ]
  },
  {
   "cell_type": "markdown",
   "id": "39f992a2-4c3e-4bc0-bf72-10c279ac572a",
   "metadata": {},
   "source": [
    "all the solutions appear very similar to mine"
   ]
  },
  {
   "cell_type": "markdown",
   "id": "b86097af-ebf0-46a5-b606-892045af35ed",
   "metadata": {},
   "source": [
    "#### <u>notes</u>"
   ]
  },
  {
   "cell_type": "markdown",
   "id": "4ff07d12-d9ab-4525-b3cc-dd7ee4bee5a1",
   "metadata": {},
   "source": [
    "* in my attempt, made use of new date functions. MONTH() which extracts the month from a date in numerical format, and YEAR() which does the same for the year\n",
    "* at this time, a little unsure why the HAVING unit >= 100 is necessary. originally added another condition in the WHERE clause of unit >= 100 but that didn't work. i believe that the WHERE conditions is applied before the aggregation and therefore for each row, which is why it didn't work and we need to use HAVING, which is applied after the aggregation"
   ]
  },
  {
   "cell_type": "markdown",
   "id": "dc284e5c-c222-4981-a191-2077e0452792",
   "metadata": {
    "jp-MarkdownHeadingCollapsed": true,
    "tags": []
   },
   "source": [
    "### 1378. Replace Employee ID with Unique the Identifier"
   ]
  },
  {
   "cell_type": "markdown",
   "id": "e554a4e8-aca8-4dde-afec-76195eb684c7",
   "metadata": {},
   "source": [
    "#### <u>description</u>"
   ]
  },
  {
   "cell_type": "markdown",
   "id": "04332cc5-e046-4bb6-afb9-bf2fa0c0be8a",
   "metadata": {},
   "source": [
    "Table: Employees\n",
    "\n",
    "    +---------------+---------+\n",
    "    | Column Name   | Type    |\n",
    "    +---------------+---------+\n",
    "    | id            | int     |\n",
    "    | name          | varchar |\n",
    "    +---------------+---------+\n",
    "id is the primary key (column with unique values) for this table.\n",
    "Each row of this table contains the id and the name of an employee in a company.\n",
    " \n",
    "\n",
    "Table: EmployeeUNI\n",
    "\n",
    "    +---------------+---------+\n",
    "    | Column Name   | Type    |\n",
    "    +---------------+---------+\n",
    "    | id            | int     |\n",
    "    | unique_id     | int     |\n",
    "    +---------------+---------+\n",
    "(id, unique_id) is the primary key (combination of columns with unique values) for this table.\n",
    "Each row of this table contains the id and the corresponding unique id of an employee in the company.\n",
    " \n",
    "\n",
    "Write a solution to show the unique ID of each user, If a user does not have a unique ID replace just show null.\n",
    "\n",
    "Return the result table in any order."
   ]
  },
  {
   "cell_type": "markdown",
   "id": "b911937d-85ab-4fa6-9ddb-738e566943da",
   "metadata": {},
   "source": [
    "#### <u>attempts</u>"
   ]
  },
  {
   "cell_type": "markdown",
   "id": "0e502b8d-0f47-48a9-bc8f-97f164c43219",
   "metadata": {},
   "source": [
    "    SELECT unique_id, name FROM Employees\n",
    "    LEFT JOIN EmployeeUNI USING(id)\n",
    "    \n",
    "status = success"
   ]
  },
  {
   "cell_type": "markdown",
   "id": "9dd185aa-27fb-4377-b961-cfdeb26ddfdf",
   "metadata": {},
   "source": [
    "#### <u>solutions</u>"
   ]
  },
  {
   "cell_type": "markdown",
   "id": "6302d2f9-f308-48bb-a9f7-12c9535d426b",
   "metadata": {},
   "source": [
    "all are fairly similar to my solution"
   ]
  },
  {
   "cell_type": "markdown",
   "id": "8c8495f7-7c30-4043-bf7b-a63222e5b21d",
   "metadata": {},
   "source": [
    "#### <u>notes</u>"
   ]
  },
  {
   "cell_type": "markdown",
   "id": "3d53b765-a808-40d2-8bae-84fa43b030bf",
   "metadata": {},
   "source": [
    "nothing to add - fairly straightforward problem"
   ]
  },
  {
   "cell_type": "markdown",
   "id": "28aedbbe-267b-4692-ae97-b1e7a4ceb1e6",
   "metadata": {
    "jp-MarkdownHeadingCollapsed": true,
    "tags": []
   },
   "source": [
    "### 1407. Top Travellers"
   ]
  },
  {
   "cell_type": "markdown",
   "id": "f115e6ba-7692-4a6c-8831-f0a56eef666e",
   "metadata": {},
   "source": [
    "#### <u>description</u>"
   ]
  },
  {
   "cell_type": "markdown",
   "id": "547d061b-2682-4c8f-805a-c3b5decb111e",
   "metadata": {},
   "source": [
    "Table: Users\n",
    "\n",
    "    +---------------+---------+\n",
    "    | Column Name   | Type    |\n",
    "    +---------------+---------+\n",
    "    | id            | int     |\n",
    "    | name          | varchar |\n",
    "    +---------------+---------+\n",
    "id is the column with unique values for this table.\n",
    "name is the name of the user.\n",
    " \n",
    "\n",
    "Table: Rides\n",
    "\n",
    "    +---------------+---------+\n",
    "    | Column Name   | Type    |\n",
    "    +---------------+---------+\n",
    "    | id            | int     |\n",
    "    | user_id       | int     |\n",
    "    | distance      | int     |\n",
    "    +---------------+---------+\n",
    "id is the column with unique values for this table.\n",
    "user_id is the id of the user who traveled the distance \"distance\".\n",
    " \n",
    "\n",
    "Write a solution to report the distance traveled by each user.\n",
    "\n",
    "Return the result table ordered by travelled_distance in descending order, if two or more users traveled the same distance, order them by their name in ascending order."
   ]
  },
  {
   "cell_type": "markdown",
   "id": "e1102eb0-7104-498b-adf3-aab35daad7e6",
   "metadata": {},
   "source": [
    "#### <u>attempts</u>"
   ]
  },
  {
   "cell_type": "markdown",
   "id": "43995378-ae30-41ea-8e84-d92263c0c9f4",
   "metadata": {},
   "source": [
    "    SELECT u.name, IFNULL(SUM(r.distance), 0) AS travelled_distance\n",
    "    FROM Users u\n",
    "    LEFT JOIN Rides r ON u.id = r.user_id\n",
    "    GROUP BY u.id\n",
    "    ORDER BY travelled_distance DESC, u.name\n",
    "    \n",
    "status = success"
   ]
  },
  {
   "cell_type": "markdown",
   "id": "aebd5cbb-ed27-47e4-9810-ca1998b1cde6",
   "metadata": {},
   "source": [
    "#### <u>solutions</u>"
   ]
  },
  {
   "cell_type": "markdown",
   "id": "2430de29-cfd8-4e0a-baf7-81154ebd41ff",
   "metadata": {},
   "source": [
    "a solution from leetcode. somewhat similar to mine but uses CASE WHEN and OVER(), which i have used before but am not 100% confident in using\n",
    "\n",
    "    SELECT DISTINCT u.name, \n",
    "    CASE WHEN r.distance IS NOT NULL THEN SUM(r.distance) OVER(PARTITION BY r.user_id ORDER BY r.user_id) \n",
    "    ELSE 0 END AS travelled_distance \n",
    "    FROM Users u \n",
    "    LEFT JOIN Rides r ON u.id=r.user_id \n",
    "    ORDER BY travelled_distance DESC, u.name"
   ]
  },
  {
   "cell_type": "markdown",
   "id": "4b77b50f-edae-4df8-8482-98b53452f685",
   "metadata": {},
   "source": [
    "#### <u>notes</u>"
   ]
  },
  {
   "cell_type": "markdown",
   "id": "677a54c5-72e3-424a-9c87-12efc904d958",
   "metadata": {},
   "source": [
    "in my attempt, important to GROUP BY u.id and not u.name, because if you have two users with the same name but different id you do not pass all the test cases. LEFT JOIN is also important because for some reason if you have a user with an id but no travel distance, it must display 0 travelled_distance in the output table (which is why I used the IFNULL() also)\n",
    "\n",
    "    new function: IFNULL()\n",
    "\n",
    "    description: Return the specified value IF the expression is NULL, otherwise return the expression\n",
    "\n",
    "    syntax: IFNULL(expression, alt_value)"
   ]
  },
  {
   "cell_type": "markdown",
   "id": "410a867f-e641-4ab6-b4a2-2f5454b0e1e1",
   "metadata": {
    "jp-MarkdownHeadingCollapsed": true,
    "tags": []
   },
   "source": [
    "### 1484. Group Sold Products by the Date"
   ]
  },
  {
   "cell_type": "markdown",
   "id": "c218d0f7-cd59-462b-a71f-4ed2565d7891",
   "metadata": {
    "tags": []
   },
   "source": [
    "#### <u>description</u>"
   ]
  },
  {
   "cell_type": "markdown",
   "id": "c697979f-6b86-4093-a6a5-74dc5390b0bc",
   "metadata": {},
   "source": [
    "Table Activities:\n",
    "\n",
    "    +-------------+---------+\n",
    "    | Column Name | Type    |\n",
    "    +-------------+---------+\n",
    "    | sell_date   | date    |\n",
    "    | product     | varchar |\n",
    "    +-------------+---------+\n",
    "There is no primary key (column with unique values) for this table. It may contain duplicates.\n",
    "Each row of this table contains the product name and the date it was sold in a market.\n",
    " \n",
    "\n",
    "Write a solution to find for each date the number of different products sold and their names.\n",
    "\n",
    "The sold products names for each date should be sorted lexicographically.\n",
    "\n",
    "Return the result table ordered by sell_date."
   ]
  },
  {
   "cell_type": "markdown",
   "id": "a6b47c43-d5f1-4ce6-a17d-cbf41410ec0c",
   "metadata": {},
   "source": [
    "#### <u>attempts</u>"
   ]
  },
  {
   "cell_type": "markdown",
   "id": "b61a3428-eb1a-43b1-b959-c7b640fd50aa",
   "metadata": {},
   "source": [
    "\n",
    "    SELECT sell_date, COUNT(DISTINCT(product)) AS num_sold, GROUP_CONCAT(DISTINCT(product) ORDER BY product) AS products\n",
    "    FROM Activities\n",
    "    GROUP BY sell_date\n",
    "    ORDER BY sell_date\n",
    "    \n",
    "status = success"
   ]
  },
  {
   "cell_type": "markdown",
   "id": "cfdc8959-8a17-40eb-afb3-c6095c705bc4",
   "metadata": {},
   "source": [
    "#### <u>solutions</u>"
   ]
  },
  {
   "cell_type": "markdown",
   "id": "12164a61-3cfd-4527-a943-b33adce51b98",
   "metadata": {},
   "source": [
    "most solutions are similar to mine, but they have an extra \"argument\" to their GROUP_CONCAT that allows for extra control of the output, which is the SEPERATOR argument\n",
    "\n",
    "\n",
    "    SELECT sell_date, COUNT(DISTINCT(product)) AS num_sold, GROUP_CONCAT(DISTINCT(product) ORDER BY product SEPARATOR ',') AS products\n",
    "    FROM Activities\n",
    "    GROUP BY sell_date\n",
    "    ORDER BY sell_date\n",
    "    "
   ]
  },
  {
   "cell_type": "markdown",
   "id": "3cac0564-8cf8-4f1c-9b9c-350d6632b198",
   "metadata": {},
   "source": [
    "#### <u>notes</u>"
   ]
  },
  {
   "cell_type": "markdown",
   "id": "2206fbe7-02f8-4af9-9e71-b61ea2ff6d9d",
   "metadata": {},
   "source": [
    "1. the secret sauce for this problem is GROUP_CONCAT which allows you to use a CONCAT() function with a GROUP BY, essentially. \n",
    "\n",
    "* syntax:\n",
    "\n",
    "        GROUP_CONCAT(expr \n",
    "                [ORDER BY {unsigned_integer | col_name | expr} ASC | DESC] \n",
    "                [SEPARATOR str_val])\n",
    "\n",
    "2. the only real hic up in this problem is that both the COUNT for the num_sold column and the GROUP_CONCAT for the products column need to grab distinct products (so you only want to know the number of different product solds, not the number of total product sold)"
   ]
  },
  {
   "cell_type": "markdown",
   "id": "a300135d-7f57-4044-82a2-818e1479f06a",
   "metadata": {
    "jp-MarkdownHeadingCollapsed": true,
    "tags": []
   },
   "source": [
    "### 1517. Find Users with Valid E-mails"
   ]
  },
  {
   "cell_type": "markdown",
   "id": "2c548a47-7a98-4b47-b2e0-549152571d47",
   "metadata": {},
   "source": [
    "#### <u>description</u>"
   ]
  },
  {
   "cell_type": "markdown",
   "id": "297fddff-a958-4ca0-a0d1-4b167ab6771f",
   "metadata": {},
   "source": [
    "Table: Users\n",
    "\n",
    "    +---------------+---------+\n",
    "    | Column Name   | Type    |\n",
    "    +---------------+---------+\n",
    "    | user_id       | int     |\n",
    "    | name          | varchar |\n",
    "    | mail          | varchar |\n",
    "    +---------------+---------+\n",
    "user_id is the primary key (column with unique values) for this table.\n",
    "This table contains information of the users signed up in a website. Some e-mails are invalid.\n",
    " \n",
    "\n",
    "Write a solution to find the users who have valid emails.\n",
    "\n",
    "A valid e-mail has a prefix name and a domain where:\n",
    "\n",
    "The prefix name is a string that may contain letters (upper or lower case), digits, underscore '_', period '.', and/or dash '-'. The prefix name must start with a letter.\n",
    "The domain is '@leetcode.com'.\n",
    "Return the result table in any order."
   ]
  },
  {
   "cell_type": "markdown",
   "id": "237faedd-920d-4942-bdce-104110aab150",
   "metadata": {},
   "source": [
    "#### <u>attempts</u>"
   ]
  },
  {
   "cell_type": "markdown",
   "id": "b3d50b6f-3312-4e25-9ae2-b9f4c22e76ab",
   "metadata": {},
   "source": [
    "NOTE: for some reason without the additional condition LOCATE('?', mail) = 0 a test case would fail where the domain is @leetcode?com -> is the ? and . considered the same in the regex?\n",
    "\n",
    "    SELECT user_id, name, mail\n",
    "    FROM Users\n",
    "    WHERE mail REGEXP '^[a-zA-Z][a-zA-Z0-9._-]*@leetcode\\.com$' AND LOCATE('?', mail) = 0\n",
    "    \n",
    "status = success"
   ]
  },
  {
   "cell_type": "markdown",
   "id": "e588ce69-c197-4fac-ae41-7ac90eb1273a",
   "metadata": {},
   "source": [
    "NOTE: the addition of another backslash in the domain part of the regex fixes the issue. i consider this the best answer\n",
    "    \n",
    "    SELECT user_id, name, mail\n",
    "    FROM Users\n",
    "    WHERE mail REGEXP '^[a-zA-Z][a-zA-Z0-9._-]*@leetcode\\\\.com$'\n",
    "    \n",
    "    \n",
    "status = success"
   ]
  },
  {
   "cell_type": "markdown",
   "id": "e29ba8a3-f0e1-4452-afe9-f459c7c8978d",
   "metadata": {},
   "source": [
    "#### <u>solutions</u>"
   ]
  },
  {
   "cell_type": "markdown",
   "id": "e7fa5e2b-4878-4338-89d0-3e34aeb3aaf1",
   "metadata": {},
   "source": [
    "this leetcode solution uses a different pattern. really confused as to why this one works because the (\\\\\\\\?com)?\\\\\\\\.com makes the ?com optional meaning you can match both @leetcode?com AND @leetcode.com \n",
    "\n",
    "    SELECT user_id, name, mail\n",
    "    FROM Users\n",
    "    WHERE mail REGEXP '^[A-Za-z][A-Za-z0-9_\\.\\-]*@leetcode(\\\\?com)?\\\\.com$'"
   ]
  },
  {
   "cell_type": "markdown",
   "id": "e1f9db1b-8f25-40cf-9956-9eefb6f1e272",
   "metadata": {
    "tags": []
   },
   "source": [
    "#### <u>notes</u>"
   ]
  },
  {
   "cell_type": "markdown",
   "id": "148d87ff-df0e-42d1-abac-c9021122e463",
   "metadata": {},
   "source": [
    "1. here is the explanation for the regex expression used in my attempt:\n",
    "\n",
    "* ^ - Ensures the match starts at the beginning of the string.\n",
    "* [a-zA-Z] - The string must start with an uppercase or lowercase letter.\n",
    "* [a-zA-Z0-9._-]* - Allows zero or more letters (uppercase or lowercase), digits, underscores, periods, or dashes.\n",
    "* @leetcode\\\\.com - Specifies that the string ends with @leetcode.com. (Note: . is escaped with \\ to match a literal period. Note2: an additonal backslash is accually required for MySQL, as seen in the second attempt)\n",
    "* $ - Ensures the match ends at the end of the string.\n",
    "\n",
    "2. new function: LOCATE()    <--- **also the way this is formatted should be the gold standard when introducing new functions**\n",
    "\n",
    "* definition:\n",
    "           \n",
    "        The LOCATE() function returns the position of the first occurrence of a substring in a string.\n",
    "\n",
    "        If the substring is not found within the original string, this function returns 0.\n",
    "\n",
    "        This function performs a case-insensitive search.\n",
    "\n",
    "        Note: This function is equal to the POSITION() function.\n",
    "        \n",
    "* syntax: \n",
    "        \n",
    "        LOCATE(substring, string, start)\n",
    "        \n",
    "* parameter values\n",
    "\n",
    "\n",
    "        substring  Required. The substring to search for in string\n",
    "        string     Required. The string that will be searched\n",
    "        start      Optional. The starting position for the search. Position 1 is default"
   ]
  },
  {
   "cell_type": "markdown",
   "id": "7d01b4a7-355f-4546-97b3-78fbdd7d2992",
   "metadata": {
    "jp-MarkdownHeadingCollapsed": true,
    "tags": []
   },
   "source": [
    "## Medium Problems"
   ]
  },
  {
   "cell_type": "markdown",
   "id": "3c8fd387-894e-4175-895d-c0e5b1c2abef",
   "metadata": {
    "jp-MarkdownHeadingCollapsed": true,
    "tags": []
   },
   "source": [
    "### 176. Second Highest Salary"
   ]
  },
  {
   "cell_type": "markdown",
   "id": "f9e52d50-6fc4-469a-a5ef-2ec840460173",
   "metadata": {},
   "source": [
    "#### <u>description</u>"
   ]
  },
  {
   "cell_type": "markdown",
   "id": "838bce31-27c9-409e-ba0e-fe16adf74cac",
   "metadata": {},
   "source": [
    "Table: Employee\n",
    "\n",
    "    +-------------+------+\n",
    "    | Column Name | Type |\n",
    "    +-------------+------+\n",
    "    | id          | int  |\n",
    "    | salary      | int  |\n",
    "    +-------------+------+\n",
    "id is the primary key (column with unique values) for this table.\n",
    "Each row of this table contains information about the salary of an employee.\n",
    " \n",
    "\n",
    "Write a solution to find the second highest salary from the Employee table. If there is no second highest salary, return null (return None in Pandas)."
   ]
  },
  {
   "cell_type": "markdown",
   "id": "f2126593-10ad-45b3-9531-a7513cc2e411",
   "metadata": {},
   "source": [
    "#### <u>attempts</u>"
   ]
  },
  {
   "cell_type": "markdown",
   "id": "72340153-c7f3-40e7-8810-1f829d29cb6e",
   "metadata": {},
   "source": [
    "NOTE: works only if there is a second highest. otherwise it's supposed to return null but doesn't\n",
    "\n",
    "    SELECT salary AS secondHighestSalary FROM Employee\n",
    "    ORDER BY salary DESC\n",
    "    LIMIT 1, 1\n",
    "    \n",
    "status = failure"
   ]
  },
  {
   "cell_type": "markdown",
   "id": "a7d770e9-5869-4538-bed9-f1abb4410a1b",
   "metadata": {},
   "source": [
    "NOTE: thought there might be some trick i don't know, so looked up the query on google to select second highest salary... solution is super simple\n",
    "\n",
    "    SELECT MAX(salary) as secondHighestSalary FROM Employee\n",
    "    WHERE salary NOT IN (\n",
    "        SELECT MAX(salary)\n",
    "        FROM Employee\n",
    "    )\n",
    "    \n",
    "status = success"
   ]
  },
  {
   "cell_type": "markdown",
   "id": "27f93bd6-2335-4291-a2f6-8747e222087b",
   "metadata": {},
   "source": [
    "#### <u>solutions</u>"
   ]
  },
  {
   "cell_type": "markdown",
   "id": "aee1c6b5-d4d2-4414-a4d1-9cf3a1fe30d3",
   "metadata": {},
   "source": [
    "from some leetcode solution. used the offset like in my initial attempt but added additional logic to satisfy the null condition\n",
    "\n",
    "    SELECT\n",
    "        (SELECT DISTINCT salary \n",
    "        FROM Employee \n",
    "        ORDER BY salary DESC \n",
    "        LIMIT 1 OFFSET 1) AS SecondHighestSalary;"
   ]
  },
  {
   "cell_type": "markdown",
   "id": "352c31c9-4f44-47b8-a162-72ab31717076",
   "metadata": {},
   "source": [
    "#### <u>notes</u>"
   ]
  },
  {
   "cell_type": "markdown",
   "id": "60664ad9-ede8-4b04-8a67-625b898d9887",
   "metadata": {},
   "source": [
    "first medium SQL problem. there were no new keywords, functions or tools here, just using a combination of things and getting creative. as seen by the attempts and the solutions, there's multiple ways of getting to the solution. gave up a little too quickly on this one, will need to develop my problem solving in SQL, even if initially my code is ugly or slow. also got intimidated by the fact that the problem only had a 40% acceptance rate, should ignore those numbers and just focus on solving the problem"
   ]
  },
  {
   "cell_type": "markdown",
   "id": "7cdc39f1-5217-433b-99f8-f3bfaebe4435",
   "metadata": {
    "jp-MarkdownHeadingCollapsed": true,
    "tags": []
   },
   "source": [
    "### 177. Nth Highest Salary@ <- uses custom SQL functions i haven't seen before; come back to it later"
   ]
  },
  {
   "cell_type": "markdown",
   "id": "45477ff6-50f6-42cd-999e-c6ef903420b2",
   "metadata": {},
   "source": [
    "#### <u>description</u>"
   ]
  },
  {
   "cell_type": "markdown",
   "id": "4c49d89d-464b-4a86-bda5-36924b41e280",
   "metadata": {},
   "source": [
    "Table: Employee\n",
    "\n",
    "    +-------------+------+\n",
    "    | Column Name | Type |\n",
    "    +-------------+------+\n",
    "    | id          | int  |\n",
    "    | salary      | int  |\n",
    "    +-------------+------+\n",
    "id is the primary key (column with unique values) for this table.\n",
    "Each row of this table contains information about the salary of an employee.\n",
    " \n",
    "\n",
    "Write a solution to find the nth highest salary from the Employee table. If there is no nth highest salary, return null."
   ]
  },
  {
   "cell_type": "markdown",
   "id": "897b5a3b-213c-4d06-afb8-9d1660214880",
   "metadata": {},
   "source": [
    "#### <u>attempts</u>"
   ]
  },
  {
   "cell_type": "markdown",
   "id": "d03a3902-2b8f-48df-adde-1dd14c41fcde",
   "metadata": {},
   "source": [
    "    -CREATE FUNCTION getNthHighestSalary(N INT) RETURNS INT\n",
    "    -BEGIN\n",
    "    -  RETURN (\n",
    "    -      # Write your MySQL query statement below.\n",
    "    -\n",
    "    -  );\n",
    "    -END"
   ]
  },
  {
   "cell_type": "markdown",
   "id": "fe0b6de3-5a13-409c-a811-115b7c11033a",
   "metadata": {},
   "source": [
    "#### <u>solutions</u>"
   ]
  },
  {
   "cell_type": "code",
   "execution_count": null,
   "id": "aeca8a99-2a24-47cd-83ae-5803e5acb64c",
   "metadata": {},
   "outputs": [],
   "source": []
  },
  {
   "cell_type": "markdown",
   "id": "0729f2ae-c84b-457a-8eb3-0dc6047a63eb",
   "metadata": {},
   "source": [
    "#### <u>notes</u>"
   ]
  },
  {
   "cell_type": "code",
   "execution_count": null,
   "id": "b31f5acf-151d-4cf3-889f-c21ae39ec6cb",
   "metadata": {},
   "outputs": [],
   "source": []
  },
  {
   "cell_type": "markdown",
   "id": "d7ed39e9-62c5-40e7-934a-94c7253fc6d0",
   "metadata": {
    "jp-MarkdownHeadingCollapsed": true,
    "tags": []
   },
   "source": [
    "### 178. Rank Scores"
   ]
  },
  {
   "cell_type": "markdown",
   "id": "514653ba-724d-4cca-9e0f-67b6c1319fcb",
   "metadata": {},
   "source": [
    "#### <u>description</u>"
   ]
  },
  {
   "cell_type": "markdown",
   "id": "3ad2e388-e355-4f15-a0a4-f8b03a118fa1",
   "metadata": {},
   "source": [
    "Table: Scores\n",
    "\n",
    "    +-------------+---------+\n",
    "    | Column Name | Type    |\n",
    "    +-------------+---------+\n",
    "    | id          | int     |\n",
    "    | score       | decimal |\n",
    "    +-------------+---------+\n",
    "id is the primary key (column with unique values) for this table.\n",
    "Each row of this table contains the score of a game. Score is a floating point value with two decimal places.\n",
    " \n",
    "\n",
    "Write a solution to find the rank of the scores. The ranking should be calculated according to the following rules:\n",
    "\n",
    "* The scores should be ranked from the highest to the lowest.\n",
    "* If there is a tie between two scores, both should have the same ranking.\n",
    "* After a tie, the next ranking number should be the next consecutive integer value. In other words, there should be no holes between ranks.\n",
    "\n",
    "Return the result table ordered by score in descending order."
   ]
  },
  {
   "cell_type": "markdown",
   "id": "cb63038f-5852-4661-a077-897cd9de8e3b",
   "metadata": {},
   "source": [
    "#### <u>attempts</u>"
   ]
  },
  {
   "cell_type": "markdown",
   "id": "0e80be41-43b1-4b8e-98e8-cfd545260c3b",
   "metadata": {},
   "source": [
    "NOTE: this fails because the RANK() function here will give the same rank value to tied score, but will increment either way. in other words, if the two top score are 4.0, they will both rank as 1, but if the next following top score is 3.85, it will rank as 3 (as opposed to 2 as specified by the question)\n",
    "\n",
    "    SELECT score, RANK() OVER(ORDER BY score DESC) AS 'rank'\n",
    "    FROM Scores\n",
    "    \n",
    "status = failure"
   ]
  },
  {
   "cell_type": "markdown",
   "id": "5df07975-57a4-480e-9ccf-5a02e9165c36",
   "metadata": {},
   "source": [
    "#### <u>solutions</u>"
   ]
  },
  {
   "cell_type": "markdown",
   "id": "8a1c225a-207c-4ab3-81c8-b8dfd65bf70e",
   "metadata": {},
   "source": [
    "NOTE: DENSE_RANK() fixes the issue by not allowing gaps between rankings\n",
    "\n",
    "    SELECT score, DENSE_RANK() OVER(ORDER BY score DESC) AS 'rank'\n",
    "    FROM Scores\n",
    "    \n",
    "status = success"
   ]
  },
  {
   "cell_type": "markdown",
   "id": "f30c2513-8d46-472a-8a2d-eb51a12adfa6",
   "metadata": {},
   "source": [
    "#### <u>notes</u>"
   ]
  },
  {
   "cell_type": "markdown",
   "id": "d00e5cea-edd4-4df4-9b83-5081975e12fe",
   "metadata": {},
   "source": [
    "this question was tricky because without knowledge of the RANK() & DENSE_RANK() functions, it wouldn't have been feasible to solve this\n",
    "\n",
    "there is an overview of SQL RANK functions here: https://www.sqlshack.com/overview-of-sql-rank-functions/\n",
    "\n",
    "it would be useful to understand better the OVER() function (how does it know what to go over without a partition?) as well as how to effectively use PARTITION for more complex problems"
   ]
  },
  {
   "cell_type": "markdown",
   "id": "a8f0f8d2-c759-4e0f-aa10-b0b167d11123",
   "metadata": {
    "jp-MarkdownHeadingCollapsed": true,
    "tags": []
   },
   "source": [
    "### 180. Consecutive Numbers@ <- explanation for various solutions incomplete"
   ]
  },
  {
   "cell_type": "markdown",
   "id": "519ec501-3e43-496e-b20a-cbe83823166a",
   "metadata": {},
   "source": [
    "#### <u>description</u>"
   ]
  },
  {
   "cell_type": "markdown",
   "id": "d57d8678-2dfa-47c0-a028-066de7abcb3b",
   "metadata": {},
   "source": [
    "Table: Logs\n",
    "\n",
    "    +-------------+---------+\n",
    "    | Column Name | Type    |\n",
    "    +-------------+---------+\n",
    "    | id          | int     |\n",
    "    | num         | varchar |\n",
    "    +-------------+---------+\n",
    "In SQL, id is the primary key for this table.\n",
    "id is an autoincrement column.\n",
    " \n",
    "\n",
    "Find all numbers that appear at least three times consecutively.\n",
    "\n",
    "Return the result table in any order."
   ]
  },
  {
   "cell_type": "markdown",
   "id": "8dead883-2a79-4cec-bc9d-bef7481c1539",
   "metadata": {},
   "source": [
    "#### <u>attempts</u>"
   ]
  },
  {
   "cell_type": "markdown",
   "id": "b2b526e9-b65d-4272-8da2-de90ab27a1f6",
   "metadata": {},
   "source": [
    "NOTE: honestly not entirely sure how my query works or why exactly it is failing...\n",
    "\n",
    "    SELECT DISTINCT num AS ConsecutiveNums FROM (\n",
    "        SELECT *, ROW_NUMBER() OVER(PARTITION BY num ORDER BY id) AS counter\n",
    "        FROM Logs\n",
    "    ) AS sub\n",
    "    WHERE counter >= 3\n",
    "    \n",
    "status = failure"
   ]
  },
  {
   "cell_type": "markdown",
   "id": "65804e3e-41ab-4590-b962-27b0f26d2bab",
   "metadata": {},
   "source": [
    "#### <u>solutions</u>\n",
    "there's tons of solutions, here's a few"
   ]
  },
  {
   "cell_type": "markdown",
   "id": "44cb8d4f-7ce3-481e-90a4-1722b66e7949",
   "metadata": {},
   "source": [
    "Approach 1 - using joins (very slow...)\n",
    "\n",
    "    SELECT DISTINCT l1.num AS ConsecutiveNums\n",
    "    FROM Logs l1\n",
    "    JOIN Logs l2 ON l1.id = l2.id - 1\n",
    "    JOIN Logs l3 ON l1.id = l3.id - 2\n",
    "    WHERE l1.num = l2.num AND l2.num = l3.num;"
   ]
  },
  {
   "cell_type": "markdown",
   "id": "eced3a9a-4c64-448a-903e-42bcd91e23b1",
   "metadata": {},
   "source": [
    "Approach 2 - using LEAD and LAG (pretty decent)\n",
    "\n",
    "    SELECT DISTINCT num AS ConsecutiveNums\n",
    "    FROM (\n",
    "        SELECT \n",
    "            LAG(id) OVER (ORDER BY id) AS prev_id,\n",
    "            id,\n",
    "            LEAD(id) OVER (ORDER BY id) AS next_id,\n",
    "            LAG(num) OVER (ORDER BY id) AS prev_num,\n",
    "            num,\n",
    "            LEAD(num) OVER (ORDER BY id) AS next_num\n",
    "        FROM logs\n",
    "    ) subquery\n",
    "    WHERE prev_num = num \n",
    "      AND num = next_num\n",
    "      AND next_id - id = 1 \n",
    "      AND id - prev_id = 1;"
   ]
  },
  {
   "cell_type": "markdown",
   "id": "f8fa2cc3-4fb2-4559-bfc7-647d16abdd66",
   "metadata": {},
   "source": [
    "Approach 3 - using EXISTS and SUBQUERY (also decent)\n",
    "\n",
    "    SELECT DISTINCT l1.num AS ConsecutiveNums\n",
    "    FROM Logs l1\n",
    "    WHERE EXISTS (\n",
    "        SELECT 1\n",
    "        FROM Logs l2\n",
    "        WHERE l2.id = l1.id + 1 AND l2.num = l1.num\n",
    "        AND EXISTS (\n",
    "            SELECT 1\n",
    "            FROM Logs l3\n",
    "            WHERE l3.id = l1.id + 2 AND l3.num = l1.num\n",
    "        )\n",
    "    );"
   ]
  },
  {
   "cell_type": "markdown",
   "id": "28b31ab2-41dc-4f0f-a57f-79b5f72bcff0",
   "metadata": {},
   "source": [
    "#### <u>notes</u>"
   ]
  },
  {
   "cell_type": "markdown",
   "id": "2c4a6d57-8fd0-41f6-9df2-3acd82c6be6c",
   "metadata": {},
   "source": [
    "this was the output of my subquery in my attempt:\n",
    "\n",
    "    | id | num | counter |\n",
    "    | -- | --- | ------- |\n",
    "    | 1  | 1   | 1       |\n",
    "    | 2  | 1   | 2       |\n",
    "    | 3  | 1   | 3       |\n",
    "    | 5  | 1   | 4       |\n",
    "    | 4  | 2   | 1       |\n",
    "    | 6  | 2   | 2       |\n",
    "    | 7  | 2   | 3       |\n",
    "    \n",
    "don't really understand how the ORDER BY here works considering it's not ordered by id. \n",
    "\n",
    "partitioning by id gave the following result, which makes even less sense to me:\n",
    "\n",
    "    | id | num | counter |\n",
    "    | -- | --- | ------- |\n",
    "    | 1  | 1   | 1       |\n",
    "    | 2  | 1   | 1       |\n",
    "    | 3  | 1   | 1       |\n",
    "    | 4  | 2   | 1       |\n",
    "    | 5  | 1   | 1       |\n",
    "    | 6  | 2   | 1       |\n",
    "    | 7  | 2   | 1       |\n",
    "    \n",
    "something i'm really not understanding about ROW_NUMBER()"
   ]
  },
  {
   "cell_type": "markdown",
   "id": "6d9e972d-2f83-4d32-87a4-8369e1121107",
   "metadata": {},
   "source": [
    "explanation for the solutions. there is tons to unpack here...\n",
    "\n",
    "* Approach 1.\n",
    "\n",
    "    [...]\n",
    "* Approach 2.\n",
    "\n",
    "    [...]\n",
    "* Approach 3.\n",
    "\n",
    "    [...[]"
   ]
  },
  {
   "cell_type": "markdown",
   "id": "d01b7845-8bf1-4e01-9964-c5cc40dd9c5f",
   "metadata": {
    "jp-MarkdownHeadingCollapsed": true,
    "tags": []
   },
   "source": [
    "## Hard Problems"
   ]
  },
  {
   "cell_type": "code",
   "execution_count": null,
   "id": "5b9541e7-24e7-4031-9eac-2374dcc6ad6d",
   "metadata": {},
   "outputs": [],
   "source": []
  }
 ],
 "metadata": {
  "kernelspec": {
   "display_name": "Python 3",
   "language": "python",
   "name": "python3"
  },
  "language_info": {
   "codemirror_mode": {
    "name": "ipython",
    "version": 3
   },
   "file_extension": ".py",
   "mimetype": "text/x-python",
   "name": "python",
   "nbconvert_exporter": "python",
   "pygments_lexer": "ipython3",
   "version": "3.8.5"
  }
 },
 "nbformat": 4,
 "nbformat_minor": 5
}
