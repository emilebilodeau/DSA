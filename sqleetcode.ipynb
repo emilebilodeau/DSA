{
 "cells": [
  {
   "cell_type": "markdown",
   "id": "73a0321c-edb6-4bd6-910e-27fe6f75b729",
   "metadata": {
    "tags": []
   },
   "source": [
    "# SQL Leetcode \n",
    "\n",
    "this notebook is intended to be used to practice SQL (MySQL) through individual questions, as well as gather notes on common topics, best practices, and any information that is new to me. studying SQL courses does not seem to be very effective for various reasons (slow, repetitive but information doesn't seem to stick, boring); trying this approach instead. will attempt to implement what is learned in projects further down the line. \n",
    "\n",
    "have not currently found a way to format this notebook nicely, so mostly only using markdown cells. doesn't look great but will do for now"
   ]
  },
  {
   "cell_type": "markdown",
   "id": "fc3b43ab-ebc7-4515-a103-913ec9f1284c",
   "metadata": {
    "tags": []
   },
   "source": [
    "## Easy Problems"
   ]
  },
  {
   "cell_type": "markdown",
   "id": "fd6d3bed-a20a-4eba-bca6-41af6d5b606e",
   "metadata": {
    "jp-MarkdownHeadingCollapsed": true,
    "tags": []
   },
   "source": [
    "### 175. Combine Two Tables"
   ]
  },
  {
   "cell_type": "markdown",
   "id": "e4e1a673-abf6-4b9a-89d0-918432cd77db",
   "metadata": {
    "tags": []
   },
   "source": [
    "#### <u>description</u>"
   ]
  },
  {
   "cell_type": "markdown",
   "id": "8ab537fc-cc64-4ae5-940a-3b0a8865b8e1",
   "metadata": {
    "tags": []
   },
   "source": [
    "Table: Person\n",
    "\n",
    "    +-------------+---------+\n",
    "    | Column Name | Type    |\n",
    "    +-------------+---------+\n",
    "    | personId    | int     |\n",
    "    | lastName    | varchar |\n",
    "    | firstName   | varchar |\n",
    "    +-------------+---------+\n",
    "\n",
    "personId is the primary key (column with unique values) for this table.\n",
    "This table contains information about the ID of some persons and their first and last names.\n",
    "\n",
    "Table: Address\n",
    "\n",
    "    +-------------+---------+\n",
    "    | Column Name | Type    |\n",
    "    +-------------+---------+\n",
    "    | addressId   | int     |\n",
    "    | personId    | int     |\n",
    "    | city        | varchar |\n",
    "    | state       | varchar |\n",
    "    +-------------+---------+\n",
    "\n",
    "addressId is the primary key (column with unique values) for this table.\n",
    "Each row of this table contains information about the city and state of one person with ID = PersonId.\n",
    "\n",
    "Write a solution to report the first name, last name, city, and state of each person in the Person table. If the address of a personId is not present in the Address table, report null instead.\n",
    "\n",
    "Return the result table in any order."
   ]
  },
  {
   "cell_type": "markdown",
   "id": "8410e138-ef08-407d-ab62-d486e8030695",
   "metadata": {
    "tags": []
   },
   "source": [
    "#### <u>attempts</u>"
   ]
  },
  {
   "cell_type": "markdown",
   "id": "2024f15c-1622-4de1-b137-4b973f82d9c0",
   "metadata": {
    "tags": []
   },
   "source": [
    "NOTE: need a left join\n",
    "\n",
    "    SELECT person.firstName, person.LastName, address.city, address.state\n",
    "    FROM Person person\n",
    "    LEFT JOIN Address address ON person.personId = address.personId \n",
    "    \n",
    "status = success"
   ]
  },
  {
   "cell_type": "markdown",
   "id": "b5440ae1-b28c-4810-921b-788beaf5c0c7",
   "metadata": {},
   "source": [
    "#### <u>solutions</u>"
   ]
  },
  {
   "cell_type": "markdown",
   "id": "cd1d0b65-0b92-42ab-88cc-d7e19b36e855",
   "metadata": {},
   "source": [
    "from someone on leetcode, haven't seen this before\n",
    "\n",
    "    SELECT firstname, lastname, city, state FROM person\n",
    "    LEFT JOIN address USING(personid)"
   ]
  },
  {
   "cell_type": "markdown",
   "id": "4db2cc9d-6d6b-4c68-8cd5-42d6453f637e",
   "metadata": {
    "tags": []
   },
   "source": [
    "#### <u>notes</u>"
   ]
  },
  {
   "cell_type": "markdown",
   "id": "63bbb820-f59c-4118-9d9d-e45ffa1fdb74",
   "metadata": {
    "jp-MarkdownHeadingCollapsed": true,
    "tags": []
   },
   "source": [
    "on joins: To combine two SQL tables based on a common ID, you typically use a JOIN operation. The most common types of joins are INNER JOIN, LEFT JOIN (or LEFT OUTER JOIN), RIGHT JOIN (or RIGHT OUTER JOIN), and FULL JOIN (or FULL OUTER JOIN). Here's a brief explanation of each:\n",
    "\n",
    "1. INNER JOIN: Combines rows from both tables only when there is a match on the specified column (common ID). Rows without matching values in either table are excluded.\n",
    "\n",
    "2. LEFT JOIN (LEFT OUTER JOIN): Combines all rows from the left table and the matched rows from the right table. If there is no match, NULL values are returned for columns from the right table.\n",
    "\n",
    "3. RIGHT JOIN (RIGHT OUTER JOIN): Combines all rows from the right table and the matched rows from the left table. If there is no match, NULL values are returned for columns from the left table.\n",
    "\n",
    "4. FULL JOIN (FULL OUTER JOIN): Combines rows when there is a match in one of the tables. Rows without matching values in either table will also be included, with NULL values for columns from the table that lacks a match.\n",
    "\n",
    "Example of LEFT JOIN:\n",
    "\n",
    "    SELECT a.id, a.column1, a.column2, b.column3, b.column4\n",
    "    FROM table1 a\n",
    "    LEFT JOIN table2 b ON a.id = b.id;\n",
    "    \n",
    "In this query:\n",
    "\n",
    "* table1 and table2 are the tables you want to combine.\n",
    "* a and b are aliases for table1 and table2, respectively.\n",
    "* id is the common column in both tables.\n",
    "\n",
    "Example of FULL JOIN:\n",
    "\n",
    "Some databases like MySQL do not support FULL JOIN. You might need to use a combination of LEFT JOIN and RIGHT JOIN with a UNION in such cases. If you need to ensure compatibility across different SQL databases, you can use a UNION to simulate a FULL JOIN:\n",
    "\n",
    "    SELECT a.id, a.column1, a.column2, b.column3, b.column4\n",
    "    FROM table1 a\n",
    "    LEFT JOIN table2 b ON a.id = b.id\n",
    "    UNION\n",
    "    SELECT a.id, a.column1, a.column2, b.column3, b.column4\n",
    "    FROM table1 a\n",
    "    RIGHT JOIN table2 b ON a.id = b.id;\n",
    "   \n",
    "**the above code on the FULL JOIN is from GPT and has not been tested... take with a grain of salt**"
   ]
  },
  {
   "cell_type": "markdown",
   "id": "f84c539e-2eae-49aa-9ad0-b3bf5c7cc43d",
   "metadata": {
    "jp-MarkdownHeadingCollapsed": true,
    "tags": []
   },
   "source": [
    "### 181. Employees Earning More Than Their Managers"
   ]
  },
  {
   "cell_type": "markdown",
   "id": "f2dc2c3a-ce29-423a-a7ca-cfcc648dbd6f",
   "metadata": {},
   "source": [
    "#### <u>description</u>"
   ]
  },
  {
   "cell_type": "markdown",
   "id": "85fb0468-738a-4107-aa66-dcd17265667b",
   "metadata": {},
   "source": [
    "Table: Employee\n",
    "\n",
    "    +-------------+---------+\n",
    "    | Column Name | Type    |\n",
    "    +-------------+---------+\n",
    "    | id          | int     |\n",
    "    | name        | varchar |\n",
    "    | salary      | int     |\n",
    "    | managerId   | int     |\n",
    "    +-------------+---------+\n",
    "\n",
    "id is the primary key (column with unique values) for this table.\n",
    "Each row of this table indicates the ID of an employee, their name, salary, and the ID of their manager.\n",
    " \n",
    "\n",
    "Write a solution to find the employees who earn more than their managers.\n",
    "\n",
    "Return the result table in any order"
   ]
  },
  {
   "cell_type": "markdown",
   "id": "0749e073-6ed5-45d9-8195-385d2844fc43",
   "metadata": {},
   "source": [
    "#### <u>attempts</u>"
   ]
  },
  {
   "cell_type": "markdown",
   "id": "c14546d8-14dc-4153-ba2e-1139e3b7e827",
   "metadata": {},
   "source": [
    "NOTE: aliases didn't seem necessary in problem 175, but this problem seems to highlight their importance\n",
    "\n",
    "    SELECT \n",
    "        e1.name AS Employee\n",
    "    FROM \n",
    "        Employee e1\n",
    "    JOIN \n",
    "        Employee e2 ON e1.managerId = e2.id\n",
    "    WHERE \n",
    "        e1.salary > e2.salary;\n",
    "        \n",
    "status = success"
   ]
  },
  {
   "cell_type": "markdown",
   "id": "0bba314f-bd9b-4f99-bdcc-9e12f6e95183",
   "metadata": {},
   "source": [
    "#### <u>solutions</u>"
   ]
  },
  {
   "cell_type": "markdown",
   "id": "56a52eac-f55a-4de2-a1ee-c666e4e82d78",
   "metadata": {},
   "source": [
    "from leetcode, slightly different approach - no joins seem necessary\n",
    "\n",
    "    SELECT e1.name AS Employee\n",
    "    FROM Employee e1, Employee e2\n",
    "    WHERE e1.managerId = e2.id AND e1.salary > e2.salary;"
   ]
  },
  {
   "cell_type": "markdown",
   "id": "48a48067-81a6-442c-8a51-f31676589cd3",
   "metadata": {},
   "source": [
    "#### <u>notes</u>"
   ]
  },
  {
   "cell_type": "markdown",
   "id": "f111cf49-0a43-4d09-b7c8-94131a87a8b2",
   "metadata": {},
   "source": [
    "explanation of the attempt: To solve this problem, you can use a self-join on the Employee table to compare each employee's salary with their manager's salary.\n",
    "\n",
    "* Employee e1 is an alias for the employee table to represent the employees.\n",
    "* Employee e2 is an alias for the employee table to represent the managers.\n",
    "* The JOIN clause matches each employee (e1) with their manager (e2) by comparing e1.managerId with e2.id.\n",
    "* The WHERE clause filters the results to include only those employees whose salary (e1.salary) is greater than their manager's salary (e2.salary).\n",
    "* The SELECT clause returns the names of the employees who meet the condition.\n",
    "\n",
    "This query will return the employees who earn more than their managers, as specified in the problem statement"
   ]
  },
  {
   "cell_type": "markdown",
   "id": "9e092163-a06c-435e-9dc8-46d4867b9225",
   "metadata": {
    "jp-MarkdownHeadingCollapsed": true,
    "tags": []
   },
   "source": [
    "### 182. Duplicate Emails"
   ]
  },
  {
   "cell_type": "markdown",
   "id": "af1977fd-36dd-4157-ad2b-2462853b2627",
   "metadata": {},
   "source": [
    "#### <u>description</u>"
   ]
  },
  {
   "cell_type": "markdown",
   "id": "d3bc0d16-d954-49b3-bbcf-11673b168913",
   "metadata": {},
   "source": [
    "Table: Person\n",
    "\n",
    "    +-------------+---------+\n",
    "    | Column Name | Type    |\n",
    "    +-------------+---------+\n",
    "    | id          | int     |\n",
    "    | email       | varchar |\n",
    "    +-------------+---------+\n",
    "\n",
    "id is the primary key (column with unique values) for this table.\n",
    "Each row of this table contains an email. The emails will not contain uppercase letters.\n",
    " \n",
    "\n",
    "Write a solution to report all the duplicate emails. Note that it's guaranteed that the email field is not NULL.\n",
    "\n"
   ]
  },
  {
   "cell_type": "markdown",
   "id": "e94a6afe-205d-43de-bba7-79ebe0ffa5aa",
   "metadata": {},
   "source": [
    "#### <u>attempts</u>"
   ]
  },
  {
   "cell_type": "markdown",
   "id": "fed2055e-0a3e-4ff4-bb34-771df231af21",
   "metadata": {},
   "source": [
    "NOTE: haven't used the HAVING keyword before\n",
    "\n",
    "    SELECT email FROM Person\n",
    "    GROUP BY email\n",
    "    HAVING COUNT(email) > 1\n",
    "    \n",
    "status = success"
   ]
  },
  {
   "cell_type": "markdown",
   "id": "81dc610a-3e94-4a3e-b65d-a062ffa2749f",
   "metadata": {},
   "source": [
    "#### <u>solutions</u>"
   ]
  },
  {
   "cell_type": "markdown",
   "id": "074dc97b-9857-4fd3-886c-ca5aef148cb8",
   "metadata": {},
   "source": [
    "this seemed like another popular solution, but doesn't make a whole lot of sense to me...\n",
    "\n",
    "    SELECT DISTINCT P1.Email FROM Person P1,Person P2 \n",
    "    WHERE P1.id <> P2.id AND P1.Email=P2.Email\n",
    "    \n",
    "here's a breakdown:\n",
    "1. FROM Person P1, Person P2:\n",
    "\n",
    "    * This creates two references to the Person table, named P1 and P2. This technique is known as a self-join, where the table is joined with itself.\n",
    "\n",
    "2. WHERE P1.id <> P2.id:\n",
    "\n",
    "    * This condition ensures that the join is not comparing the same row with itself by checking that the id of P1 is different from the id of P2.\n",
    "\n",
    "3. AND P1.Email = P2.Email:\n",
    "\n",
    "    * This condition ensures that the email addresses in the two rows being compared are the same. This means we are finding pairs of rows where the email is the same but the IDs are different.\n",
    "\n",
    "4. SELECT DISTINCT P1.Email:\n",
    "\n",
    "    * SELECT DISTINCT is used to ensure that the result contains unique email addresses. Even if an email appears multiple times as a duplicate in different pairs, it will only be listed once in the result."
   ]
  },
  {
   "cell_type": "markdown",
   "id": "46b85d52-bbbd-44a6-93d6-4b692d1ff352",
   "metadata": {},
   "source": [
    "#### <u>notes</u>"
   ]
  },
  {
   "cell_type": "markdown",
   "id": "fc416d3c-5054-4d17-a116-0b367dccae26",
   "metadata": {},
   "source": [
    "difference between HAVING and WHERE: The HAVING and WHERE clauses in SQL are both used to filter data, but they are used in different contexts and for different purposes. Here are the key differences:\n",
    "\n",
    "1. Usage Context:\n",
    "\n",
    "    * WHERE Clause: The WHERE clause is used to filter rows before any grouping operations are performed. It is applied to individual rows in a table.\n",
    "    * HAVING Clause: The HAVING clause is used to filter groups after the GROUP BY operation has been performed. It is applied to aggregated data.\n",
    "    \n",
    "2. Filtering Rows vs. Filtering Groups\n",
    "     * WHERE Clause: Filters individual rows based on specified conditions. It cannot be used with aggregate functions (like COUNT, SUM, AVG, etc.) directly. But a WHERE clause can be used before a GROUP BY \n",
    "     * HAVING Clause: Filters groups of rows created by the GROUP BY clause based on aggregate function conditions.\n",
    "     \n",
    "3. Execution Order:\n",
    "\n",
    "    * WHERE Clause: Applied early in the execution process, right after the FROM clause.\n",
    "    * HAVING Clause: Applied later in the execution process, after the GROUP BY clause and any aggregate functions.\n",
    "    \n",
    "example\n",
    "\n",
    "-- Using WHERE clause to filter rows\n",
    "\n",
    "    SELECT product, amount\n",
    "    FROM Sales\n",
    "    WHERE amount > 100;\n",
    "\n",
    "-- Using HAVING clause to filter groups\n",
    "\n",
    "    SELECT region, SUM(amount) AS total_sales\n",
    "    FROM Sales\n",
    "    GROUP BY region\n",
    "    HAVING total_sales > 500;\n",
    "\n",
    "* The first query uses the WHERE clause to filter individual sales records where the amount is greater than 100.\n",
    "* The second query uses the HAVING clause to filter regions where the total sales (SUM(amount)) exceed 500."
   ]
  },
  {
   "cell_type": "markdown",
   "id": "23891029-ea98-4160-b40d-2bece22ed4f3",
   "metadata": {
    "jp-MarkdownHeadingCollapsed": true,
    "tags": []
   },
   "source": [
    "### 183. Customers Who Never Order"
   ]
  },
  {
   "cell_type": "markdown",
   "id": "e25bfc6e-7c2d-4828-aaae-41141def3895",
   "metadata": {},
   "source": [
    "#### <u>descriptions</u> "
   ]
  },
  {
   "cell_type": "markdown",
   "id": "602ad271-e65a-461f-bf56-6b9ac2a88889",
   "metadata": {},
   "source": [
    "Table: Customers\n",
    "\n",
    "    +-------------+---------+\n",
    "    | Column Name | Type    |\n",
    "    +-------------+---------+\n",
    "    | id          | int     |\n",
    "    | name        | varchar |\n",
    "    +-------------+---------+\n",
    "    \n",
    "id is the primary key (column with unique values) for this table.\n",
    "Each row of this table indicates the ID and name of a customer.\n",
    " \n",
    "\n",
    "Table: Orders\n",
    "\n",
    "    +-------------+------+\n",
    "    | Column Name | Type |\n",
    "    +-------------+------+\n",
    "    | id          | int  |\n",
    "    | customerId  | int  |\n",
    "    +-------------+------+\n",
    "    \n",
    "id is the primary key (column with unique values) for this table.\n",
    "customerId is a foreign key (reference columns) of the ID from the Customers table.\n",
    "Each row of this table indicates the ID of an order and the ID of the customer who ordered it.\n",
    " \n",
    "\n",
    "Write a solution to find all customers who never order anything.\n",
    "\n",
    "Return the result table in any order."
   ]
  },
  {
   "cell_type": "markdown",
   "id": "9a047729-192f-445d-be50-34fc788bd9ae",
   "metadata": {},
   "source": [
    "#### <u>attempts</u>"
   ]
  },
  {
   "cell_type": "markdown",
   "id": "3dfa84de-26e2-40f6-b4b1-120c9aa94578",
   "metadata": {},
   "source": [
    "NOTE: did a right join initially but that didn't make sense because that causes me to lose the names, so have to do left join again\n",
    "\n",
    "    SELECT name AS Customers\n",
    "    FROM Customers table1\n",
    "    LEFT JOIN Orders table2 ON table1.id = table2.customerId\n",
    "    WHERE table2.id IS NULL\n",
    "    \n",
    "status = success"
   ]
  },
  {
   "cell_type": "markdown",
   "id": "cded4a74-4887-4c0d-ab3c-bd6a1bc6dbd5",
   "metadata": {},
   "source": [
    "#### <u>solutions</u>"
   ]
  },
  {
   "cell_type": "markdown",
   "id": "115a63a4-5eca-42ed-99f9-6bcfce9fbb07",
   "metadata": {},
   "source": [
    "from someone on leetcode, more concise and even eaiser to read\n",
    "\n",
    "    SELECT name as Customers FROM Customers\n",
    "    WHERE id NOT IN (SELECT customerid FROM orders)"
   ]
  },
  {
   "cell_type": "markdown",
   "id": "34afcef8-089b-4bc4-ac4e-e5f9440172dd",
   "metadata": {},
   "source": [
    "#### <u>notes</u>"
   ]
  },
  {
   "cell_type": "markdown",
   "id": "834c5f8a-6151-40bb-869c-69f449328504",
   "metadata": {},
   "source": [
    "no notes as this time - this problem is fairly straightforward"
   ]
  },
  {
   "cell_type": "markdown",
   "id": "7d01b4a7-355f-4546-97b3-78fbdd7d2992",
   "metadata": {
    "jp-MarkdownHeadingCollapsed": true,
    "tags": []
   },
   "source": [
    "## Medium Problems"
   ]
  },
  {
   "cell_type": "code",
   "execution_count": null,
   "id": "31951f16-3c0d-4273-a11f-a399021234da",
   "metadata": {},
   "outputs": [],
   "source": []
  },
  {
   "cell_type": "markdown",
   "id": "d01b7845-8bf1-4e01-9964-c5cc40dd9c5f",
   "metadata": {
    "jp-MarkdownHeadingCollapsed": true,
    "tags": []
   },
   "source": [
    "## Hard Problems"
   ]
  },
  {
   "cell_type": "code",
   "execution_count": null,
   "id": "5b9541e7-24e7-4031-9eac-2374dcc6ad6d",
   "metadata": {},
   "outputs": [],
   "source": []
  }
 ],
 "metadata": {
  "kernelspec": {
   "display_name": "Python 3",
   "language": "python",
   "name": "python3"
  },
  "language_info": {
   "codemirror_mode": {
    "name": "ipython",
    "version": 3
   },
   "file_extension": ".py",
   "mimetype": "text/x-python",
   "name": "python",
   "nbconvert_exporter": "python",
   "pygments_lexer": "ipython3",
   "version": "3.8.5"
  }
 },
 "nbformat": 4,
 "nbformat_minor": 5
}
