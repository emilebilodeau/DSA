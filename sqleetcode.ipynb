{
 "cells": [
  {
   "cell_type": "markdown",
   "id": "73a0321c-edb6-4bd6-910e-27fe6f75b729",
   "metadata": {
    "tags": []
   },
   "source": [
    "# SQL Leetcode \n",
    "\n",
    "this notebook is intended to be used to practice SQL through individual questions, as well as gather notes on common topics, best practices, and any information that is new to me. studying SQL courses does not seem to be very effective for various reasons (slow, repetitive but information doesn't seem to stick, boring); trying this approach instead. will attempt to implement what is learned in projects further down the line. \n",
    "\n",
    "have not currently found a way to format this notebook nicely, so mostly only using markdown cells. doesn't look great but will do for now"
   ]
  },
  {
   "cell_type": "markdown",
   "id": "fc3b43ab-ebc7-4515-a103-913ec9f1284c",
   "metadata": {
    "tags": []
   },
   "source": [
    "## Easy Problems"
   ]
  },
  {
   "cell_type": "markdown",
   "id": "fd6d3bed-a20a-4eba-bca6-41af6d5b606e",
   "metadata": {
    "tags": []
   },
   "source": [
    "### 175. Combine Two Tables"
   ]
  },
  {
   "cell_type": "markdown",
   "id": "e4e1a673-abf6-4b9a-89d0-918432cd77db",
   "metadata": {
    "tags": []
   },
   "source": [
    "#### <u>description</u>"
   ]
  },
  {
   "cell_type": "markdown",
   "id": "8ab537fc-cc64-4ae5-940a-3b0a8865b8e1",
   "metadata": {
    "tags": []
   },
   "source": [
    "Table: Person\n",
    "\n",
    "    +-------------+---------+\n",
    "    | Column Name | Type    |\n",
    "    +-------------+---------+\n",
    "    | personId    | int     |\n",
    "    | lastName    | varchar |\n",
    "    | firstName   | varchar |\n",
    "    +-------------+---------+\n",
    "\n",
    "personId is the primary key (column with unique values) for this table.\n",
    "This table contains information about the ID of some persons and their first and last names.\n",
    "\n",
    "Table: Address\n",
    "\n",
    "    +-------------+---------+\n",
    "    | Column Name | Type    |\n",
    "    +-------------+---------+\n",
    "    | addressId   | int     |\n",
    "    | personId    | int     |\n",
    "    | city        | varchar |\n",
    "    | state       | varchar |\n",
    "    +-------------+---------+\n",
    "\n",
    "addressId is the primary key (column with unique values) for this table.\n",
    "Each row of this table contains information about the city and state of one person with ID = PersonId.\n",
    "\n",
    "Write a solution to report the first name, last name, city, and state of each person in the Person table. If the address of a personId is not present in the Address table, report null instead.\n",
    "\n",
    "Return the result table in any order."
   ]
  },
  {
   "cell_type": "markdown",
   "id": "8410e138-ef08-407d-ab62-d486e8030695",
   "metadata": {
    "tags": []
   },
   "source": [
    "#### <u>attempt</u>"
   ]
  },
  {
   "cell_type": "markdown",
   "id": "2024f15c-1622-4de1-b137-4b973f82d9c0",
   "metadata": {
    "tags": []
   },
   "source": [
    "want a left join\n",
    "\n",
    "    SELECT person.firstName, person.LastName, address.city, address.state\n",
    "    FROM Person person\n",
    "    LEFT JOIN Address address ON person.personId = address.personId "
   ]
  },
  {
   "cell_type": "markdown",
   "id": "4db2cc9d-6d6b-4c68-8cd5-42d6453f637e",
   "metadata": {
    "tags": []
   },
   "source": [
    "#### <u>notes</u>"
   ]
  },
  {
   "cell_type": "markdown",
   "id": "63bbb820-f59c-4118-9d9d-e45ffa1fdb74",
   "metadata": {
    "jp-MarkdownHeadingCollapsed": true,
    "tags": []
   },
   "source": [
    "on joins: To combine two SQL tables based on a common ID, you typically use a JOIN operation. The most common types of joins are INNER JOIN, LEFT JOIN (or LEFT OUTER JOIN), RIGHT JOIN (or RIGHT OUTER JOIN), and FULL JOIN (or FULL OUTER JOIN). Here's a brief explanation of each:\n",
    "\n",
    "1. INNER JOIN: Combines rows from both tables only when there is a match on the specified column (common ID). Rows without matching values in either table are excluded.\n",
    "\n",
    "2. LEFT JOIN (LEFT OUTER JOIN): Combines all rows from the left table and the matched rows from the right table. If there is no match, NULL values are returned for columns from the right table.\n",
    "\n",
    "3. RIGHT JOIN (RIGHT OUTER JOIN): Combines all rows from the right table and the matched rows from the left table. If there is no match, NULL values are returned for columns from the left table.\n",
    "\n",
    "4. FULL JOIN (FULL OUTER JOIN): Combines rows when there is a match in one of the tables. Rows without matching values in either table will also be included, with NULL values for columns from the table that lacks a match.\n",
    "\n",
    "Example of LEFT JOIN:\n",
    "\n",
    "    SELECT a.id, a.column1, a.column2, b.column3, b.column4\n",
    "    FROM table1 a\n",
    "    LEFT JOIN table2 b ON a.id = b.id;\n",
    "    \n",
    "In this query:\n",
    "\n",
    "* table1 and table2 are the tables you want to combine.\n",
    "* a and b are aliases for table1 and table2, respectively.\n",
    "* id is the common column in both tables.\n",
    "\n",
    "Example of FULL JOIN:\n",
    "\n",
    "Some databases like MySQL do not support FULL JOIN. You might need to use a combination of LEFT JOIN and RIGHT JOIN with a UNION in such cases. If you need to ensure compatibility across different SQL databases, you can use a UNION to simulate a FULL JOIN:\n",
    "\n",
    "    SELECT a.id, a.column1, a.column2, b.column3, b.column4\n",
    "    FROM table1 a\n",
    "    LEFT JOIN table2 b ON a.id = b.id\n",
    "    UNION\n",
    "    SELECT a.id, a.column1, a.column2, b.column3, b.column4\n",
    "    FROM table1 a\n",
    "    RIGHT JOIN table2 b ON a.id = b.id;\n",
    "   \n",
    "**the above code on the FULL JOIN is from GPT and has not been tested... take with a grain of salt**"
   ]
  },
  {
   "cell_type": "markdown",
   "id": "7d01b4a7-355f-4546-97b3-78fbdd7d2992",
   "metadata": {
    "jp-MarkdownHeadingCollapsed": true,
    "tags": []
   },
   "source": [
    "## Medium Problems"
   ]
  },
  {
   "cell_type": "code",
   "execution_count": null,
   "id": "31951f16-3c0d-4273-a11f-a399021234da",
   "metadata": {},
   "outputs": [],
   "source": []
  },
  {
   "cell_type": "markdown",
   "id": "d01b7845-8bf1-4e01-9964-c5cc40dd9c5f",
   "metadata": {
    "jp-MarkdownHeadingCollapsed": true,
    "tags": []
   },
   "source": [
    "## Hard Problems"
   ]
  },
  {
   "cell_type": "code",
   "execution_count": null,
   "id": "5b9541e7-24e7-4031-9eac-2374dcc6ad6d",
   "metadata": {},
   "outputs": [],
   "source": []
  }
 ],
 "metadata": {
  "kernelspec": {
   "display_name": "Python 3",
   "language": "python",
   "name": "python3"
  },
  "language_info": {
   "codemirror_mode": {
    "name": "ipython",
    "version": 3
   },
   "file_extension": ".py",
   "mimetype": "text/x-python",
   "name": "python",
   "nbconvert_exporter": "python",
   "pygments_lexer": "ipython3",
   "version": "3.8.5"
  }
 },
 "nbformat": 4,
 "nbformat_minor": 5
}
