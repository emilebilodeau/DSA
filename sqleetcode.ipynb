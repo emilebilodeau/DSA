{
 "cells": [
  {
   "cell_type": "markdown",
   "id": "791c1366-c5d5-428a-9709-b212203a6ecb",
   "metadata": {
    "tags": []
   },
   "source": [
    "# NOTES"
   ]
  },
  {
   "cell_type": "markdown",
   "id": "d1651f93-4f43-474c-8cf6-9068966077f1",
   "metadata": {
    "tags": []
   },
   "source": [
    "### general notes\n",
    "\n",
    "this notebook is intended to be used to practice SQL (MySQL) through individual questions, as well as gather notes on common topics, best practices, and any information that is new to me. studying SQL courses does not seem to be very effective for various reasons (slow, repetitive but information doesn't seem to stick, boring); trying this approach instead. will attempt to implement what is learned in projects further down the line. \n",
    "\n",
    "have not currently found a way to format this notebook nicely, so mostly only using markdown cells. doesn't look great but will do for now\n",
    "\n",
    "1. problems denoted by * proved to be quite challenging for me upon first attempt\n",
    "2. problems denoted by ** are exceedingly challenging and will require a lot of revision\n",
    "3. problems denoted by @ remain incomplete\n",
    "4. in leetcode, problems with notes in green are first attempts/solutions or reworks after failure. those with notes in blue are review\n",
    "\n",
    "### study notes\n",
    "\n",
    "1. study in more depth aggregations functions (COUNT(), MAX(), AVG(), etc.) and their impact on GROUP BY and ORDER BY clauses\n",
    "2. might be worth just looking into GROUP BY by itself, to really understand what it does to the data"
   ]
  },
  {
   "cell_type": "markdown",
   "id": "fc3b43ab-ebc7-4515-a103-913ec9f1284c",
   "metadata": {
    "tags": []
   },
   "source": [
    "## Easy Problems"
   ]
  },
  {
   "cell_type": "markdown",
   "id": "fd6d3bed-a20a-4eba-bca6-41af6d5b606e",
   "metadata": {
    "jp-MarkdownHeadingCollapsed": true,
    "tags": []
   },
   "source": [
    "### 175. Combine Two Tables"
   ]
  },
  {
   "cell_type": "markdown",
   "id": "e4e1a673-abf6-4b9a-89d0-918432cd77db",
   "metadata": {
    "tags": []
   },
   "source": [
    "#### <u>description</u>"
   ]
  },
  {
   "cell_type": "markdown",
   "id": "8ab537fc-cc64-4ae5-940a-3b0a8865b8e1",
   "metadata": {
    "tags": []
   },
   "source": [
    "Table: Person\n",
    "\n",
    "    +-------------+---------+\n",
    "    | Column Name | Type    |\n",
    "    +-------------+---------+\n",
    "    | personId    | int     |\n",
    "    | lastName    | varchar |\n",
    "    | firstName   | varchar |\n",
    "    +-------------+---------+\n",
    "\n",
    "personId is the primary key (column with unique values) for this table.\n",
    "This table contains information about the ID of some persons and their first and last names.\n",
    "\n",
    "Table: Address\n",
    "\n",
    "    +-------------+---------+\n",
    "    | Column Name | Type    |\n",
    "    +-------------+---------+\n",
    "    | addressId   | int     |\n",
    "    | personId    | int     |\n",
    "    | city        | varchar |\n",
    "    | state       | varchar |\n",
    "    +-------------+---------+\n",
    "\n",
    "addressId is the primary key (column with unique values) for this table.\n",
    "Each row of this table contains information about the city and state of one person with ID = PersonId.\n",
    "\n",
    "Write a solution to report the first name, last name, city, and state of each person in the Person table. If the address of a personId is not present in the Address table, report null instead.\n",
    "\n",
    "Return the result table in any order."
   ]
  },
  {
   "cell_type": "markdown",
   "id": "8410e138-ef08-407d-ab62-d486e8030695",
   "metadata": {
    "tags": []
   },
   "source": [
    "#### <u>attempts</u>"
   ]
  },
  {
   "cell_type": "markdown",
   "id": "2024f15c-1622-4de1-b137-4b973f82d9c0",
   "metadata": {
    "tags": []
   },
   "source": [
    "NOTE: need a left join\n",
    "\n",
    "    SELECT person.firstName, person.LastName, address.city, address.state\n",
    "    FROM Person person\n",
    "    LEFT JOIN Address address ON person.personId = address.personId \n",
    "    \n",
    "status = success"
   ]
  },
  {
   "cell_type": "markdown",
   "id": "b5440ae1-b28c-4810-921b-788beaf5c0c7",
   "metadata": {},
   "source": [
    "#### <u>solutions</u>"
   ]
  },
  {
   "cell_type": "markdown",
   "id": "cd1d0b65-0b92-42ab-88cc-d7e19b36e855",
   "metadata": {},
   "source": [
    "from someone on leetcode, haven't seen this before\n",
    "\n",
    "    SELECT firstname, lastname, city, state FROM person\n",
    "    LEFT JOIN address USING(personid)"
   ]
  },
  {
   "cell_type": "markdown",
   "id": "4db2cc9d-6d6b-4c68-8cd5-42d6453f637e",
   "metadata": {
    "tags": []
   },
   "source": [
    "#### <u>notes</u>"
   ]
  },
  {
   "cell_type": "markdown",
   "id": "63bbb820-f59c-4118-9d9d-e45ffa1fdb74",
   "metadata": {
    "jp-MarkdownHeadingCollapsed": true,
    "tags": []
   },
   "source": [
    "on joins: To combine two SQL tables based on a common ID, you typically use a JOIN operation. The most common types of joins are INNER JOIN, LEFT JOIN (or LEFT OUTER JOIN), RIGHT JOIN (or RIGHT OUTER JOIN), and FULL JOIN (or FULL OUTER JOIN). Here's a brief explanation of each:\n",
    "\n",
    "1. INNER JOIN: Combines rows from both tables only when there is a match on the specified column (common ID). Rows without matching values in either table are excluded.\n",
    "\n",
    "2. LEFT JOIN (LEFT OUTER JOIN): Combines all rows from the left table and the matched rows from the right table. If there is no match, NULL values are returned for columns from the right table.\n",
    "\n",
    "3. RIGHT JOIN (RIGHT OUTER JOIN): Combines all rows from the right table and the matched rows from the left table. If there is no match, NULL values are returned for columns from the left table.\n",
    "\n",
    "4. FULL JOIN (FULL OUTER JOIN): Combines rows when there is a match in one of the tables. Rows without matching values in either table will also be included, with NULL values for columns from the table that lacks a match.\n",
    "\n",
    "Example of LEFT JOIN:\n",
    "\n",
    "    SELECT a.id, a.column1, a.column2, b.column3, b.column4\n",
    "    FROM table1 a\n",
    "    LEFT JOIN table2 b ON a.id = b.id;\n",
    "    \n",
    "In this query:\n",
    "\n",
    "* table1 and table2 are the tables you want to combine.\n",
    "* a and b are aliases for table1 and table2, respectively.\n",
    "* id is the common column in both tables.\n",
    "\n",
    "Example of FULL JOIN:\n",
    "\n",
    "Some databases like MySQL do not support FULL JOIN. You might need to use a combination of LEFT JOIN and RIGHT JOIN with a UNION in such cases. If you need to ensure compatibility across different SQL databases, you can use a UNION to simulate a FULL JOIN:\n",
    "\n",
    "    SELECT a.id, a.column1, a.column2, b.column3, b.column4\n",
    "    FROM table1 a\n",
    "    LEFT JOIN table2 b ON a.id = b.id\n",
    "    UNION\n",
    "    SELECT a.id, a.column1, a.column2, b.column3, b.column4\n",
    "    FROM table1 a\n",
    "    RIGHT JOIN table2 b ON a.id = b.id;\n",
    "   \n",
    "**the above code on the FULL JOIN is from GPT and has not been tested... take with a grain of salt**"
   ]
  },
  {
   "cell_type": "markdown",
   "id": "f84c539e-2eae-49aa-9ad0-b3bf5c7cc43d",
   "metadata": {
    "jp-MarkdownHeadingCollapsed": true,
    "tags": []
   },
   "source": [
    "### 181. Employees Earning More Than Their Managers"
   ]
  },
  {
   "cell_type": "markdown",
   "id": "f2dc2c3a-ce29-423a-a7ca-cfcc648dbd6f",
   "metadata": {},
   "source": [
    "#### <u>description</u>"
   ]
  },
  {
   "cell_type": "markdown",
   "id": "85fb0468-738a-4107-aa66-dcd17265667b",
   "metadata": {},
   "source": [
    "Table: Employee\n",
    "\n",
    "    +-------------+---------+\n",
    "    | Column Name | Type    |\n",
    "    +-------------+---------+\n",
    "    | id          | int     |\n",
    "    | name        | varchar |\n",
    "    | salary      | int     |\n",
    "    | managerId   | int     |\n",
    "    +-------------+---------+\n",
    "\n",
    "id is the primary key (column with unique values) for this table.\n",
    "Each row of this table indicates the ID of an employee, their name, salary, and the ID of their manager.\n",
    " \n",
    "\n",
    "Write a solution to find the employees who earn more than their managers.\n",
    "\n",
    "Return the result table in any order"
   ]
  },
  {
   "cell_type": "markdown",
   "id": "0749e073-6ed5-45d9-8195-385d2844fc43",
   "metadata": {},
   "source": [
    "#### <u>attempts</u>"
   ]
  },
  {
   "cell_type": "markdown",
   "id": "c14546d8-14dc-4153-ba2e-1139e3b7e827",
   "metadata": {},
   "source": [
    "NOTE: aliases didn't seem necessary in problem 175, but this problem seems to highlight their importance\n",
    "\n",
    "    SELECT \n",
    "        e1.name AS Employee\n",
    "    FROM \n",
    "        Employee e1\n",
    "    JOIN \n",
    "        Employee e2 ON e1.managerId = e2.id\n",
    "    WHERE \n",
    "        e1.salary > e2.salary;\n",
    "        \n",
    "status = success"
   ]
  },
  {
   "cell_type": "markdown",
   "id": "0bba314f-bd9b-4f99-bdcc-9e12f6e95183",
   "metadata": {},
   "source": [
    "#### <u>solutions</u>"
   ]
  },
  {
   "cell_type": "markdown",
   "id": "56a52eac-f55a-4de2-a1ee-c666e4e82d78",
   "metadata": {},
   "source": [
    "from leetcode, slightly different approach - no joins seem necessary\n",
    "\n",
    "    SELECT e1.name AS Employee\n",
    "    FROM Employee e1, Employee e2\n",
    "    WHERE e1.managerId = e2.id AND e1.salary > e2.salary;"
   ]
  },
  {
   "cell_type": "markdown",
   "id": "48a48067-81a6-442c-8a51-f31676589cd3",
   "metadata": {},
   "source": [
    "#### <u>notes</u>"
   ]
  },
  {
   "cell_type": "markdown",
   "id": "f111cf49-0a43-4d09-b7c8-94131a87a8b2",
   "metadata": {},
   "source": [
    "explanation of the attempt: To solve this problem, you can use a self-join on the Employee table to compare each employee's salary with their manager's salary.\n",
    "\n",
    "* Employee e1 is an alias for the employee table to represent the employees.\n",
    "* Employee e2 is an alias for the employee table to represent the managers.\n",
    "* The JOIN clause matches each employee (e1) with their manager (e2) by comparing e1.managerId with e2.id.\n",
    "* The WHERE clause filters the results to include only those employees whose salary (e1.salary) is greater than their manager's salary (e2.salary).\n",
    "* The SELECT clause returns the names of the employees who meet the condition.\n",
    "\n",
    "This query will return the employees who earn more than their managers, as specified in the problem statement"
   ]
  },
  {
   "cell_type": "markdown",
   "id": "9e092163-a06c-435e-9dc8-46d4867b9225",
   "metadata": {
    "jp-MarkdownHeadingCollapsed": true,
    "tags": []
   },
   "source": [
    "### 182. Duplicate Emails"
   ]
  },
  {
   "cell_type": "markdown",
   "id": "af1977fd-36dd-4157-ad2b-2462853b2627",
   "metadata": {},
   "source": [
    "#### <u>description</u>"
   ]
  },
  {
   "cell_type": "markdown",
   "id": "d3bc0d16-d954-49b3-bbcf-11673b168913",
   "metadata": {},
   "source": [
    "Table: Person\n",
    "\n",
    "    +-------------+---------+\n",
    "    | Column Name | Type    |\n",
    "    +-------------+---------+\n",
    "    | id          | int     |\n",
    "    | email       | varchar |\n",
    "    +-------------+---------+\n",
    "\n",
    "id is the primary key (column with unique values) for this table.\n",
    "Each row of this table contains an email. The emails will not contain uppercase letters.\n",
    " \n",
    "\n",
    "Write a solution to report all the duplicate emails. Note that it's guaranteed that the email field is not NULL.\n",
    "\n"
   ]
  },
  {
   "cell_type": "markdown",
   "id": "e94a6afe-205d-43de-bba7-79ebe0ffa5aa",
   "metadata": {},
   "source": [
    "#### <u>attempts</u>"
   ]
  },
  {
   "cell_type": "markdown",
   "id": "fed2055e-0a3e-4ff4-bb34-771df231af21",
   "metadata": {},
   "source": [
    "NOTE: haven't used the HAVING keyword before\n",
    "\n",
    "    SELECT email FROM Person\n",
    "    GROUP BY email\n",
    "    HAVING COUNT(email) > 1\n",
    "    \n",
    "status = success"
   ]
  },
  {
   "cell_type": "markdown",
   "id": "81dc610a-3e94-4a3e-b65d-a062ffa2749f",
   "metadata": {},
   "source": [
    "#### <u>solutions</u>"
   ]
  },
  {
   "cell_type": "markdown",
   "id": "074dc97b-9857-4fd3-886c-ca5aef148cb8",
   "metadata": {},
   "source": [
    "this seemed like another popular solution, but doesn't make a whole lot of sense to me...\n",
    "\n",
    "    SELECT DISTINCT P1.Email FROM Person P1,Person P2 \n",
    "    WHERE P1.id <> P2.id AND P1.Email=P2.Email\n",
    "    \n",
    "here's a breakdown:\n",
    "1. FROM Person P1, Person P2:\n",
    "\n",
    "    * This creates two references to the Person table, named P1 and P2. This technique is known as a self-join, where the table is joined with itself.\n",
    "\n",
    "2. WHERE P1.id <> P2.id:\n",
    "\n",
    "    * This condition ensures that the join is not comparing the same row with itself by checking that the id of P1 is different from the id of P2.\n",
    "\n",
    "3. AND P1.Email = P2.Email:\n",
    "\n",
    "    * This condition ensures that the email addresses in the two rows being compared are the same. This means we are finding pairs of rows where the email is the same but the IDs are different.\n",
    "\n",
    "4. SELECT DISTINCT P1.Email:\n",
    "\n",
    "    * SELECT DISTINCT is used to ensure that the result contains unique email addresses. Even if an email appears multiple times as a duplicate in different pairs, it will only be listed once in the result."
   ]
  },
  {
   "cell_type": "markdown",
   "id": "46b85d52-bbbd-44a6-93d6-4b692d1ff352",
   "metadata": {},
   "source": [
    "#### <u>notes</u>"
   ]
  },
  {
   "cell_type": "markdown",
   "id": "fc416d3c-5054-4d17-a116-0b367dccae26",
   "metadata": {},
   "source": [
    "difference between HAVING and WHERE: The HAVING and WHERE clauses in SQL are both used to filter data, but they are used in different contexts and for different purposes. Here are the key differences:\n",
    "\n",
    "1. Usage Context:\n",
    "\n",
    "    * WHERE Clause: The WHERE clause is used to filter rows before any grouping operations are performed. It is applied to individual rows in a table.\n",
    "    * HAVING Clause: The HAVING clause is used to filter groups after the GROUP BY operation has been performed. It is applied to aggregated data.\n",
    "    \n",
    "2. Filtering Rows vs. Filtering Groups\n",
    "     * WHERE Clause: Filters individual rows based on specified conditions. It cannot be used with aggregate functions (like COUNT, SUM, AVG, etc.) directly. But a WHERE clause can be used before a GROUP BY \n",
    "     * HAVING Clause: Filters groups of rows created by the GROUP BY clause based on aggregate function conditions.\n",
    "     \n",
    "3. Execution Order:\n",
    "\n",
    "    * WHERE Clause: Applied early in the execution process, right after the FROM clause.\n",
    "    * HAVING Clause: Applied later in the execution process, after the GROUP BY clause and any aggregate functions.\n",
    "    \n",
    "example\n",
    "\n",
    "-- Using WHERE clause to filter rows\n",
    "\n",
    "    SELECT product, amount\n",
    "    FROM Sales\n",
    "    WHERE amount > 100;\n",
    "\n",
    "-- Using HAVING clause to filter groups\n",
    "\n",
    "    SELECT region, SUM(amount) AS total_sales\n",
    "    FROM Sales\n",
    "    GROUP BY region\n",
    "    HAVING total_sales > 500;\n",
    "\n",
    "* The first query uses the WHERE clause to filter individual sales records where the amount is greater than 100.\n",
    "* The second query uses the HAVING clause to filter regions where the total sales (SUM(amount)) exceed 500."
   ]
  },
  {
   "cell_type": "markdown",
   "id": "23891029-ea98-4160-b40d-2bece22ed4f3",
   "metadata": {
    "jp-MarkdownHeadingCollapsed": true,
    "tags": []
   },
   "source": [
    "### 183. Customers Who Never Order"
   ]
  },
  {
   "cell_type": "markdown",
   "id": "e25bfc6e-7c2d-4828-aaae-41141def3895",
   "metadata": {},
   "source": [
    "#### <u>descriptions</u> "
   ]
  },
  {
   "cell_type": "markdown",
   "id": "602ad271-e65a-461f-bf56-6b9ac2a88889",
   "metadata": {},
   "source": [
    "Table: Customers\n",
    "\n",
    "    +-------------+---------+\n",
    "    | Column Name | Type    |\n",
    "    +-------------+---------+\n",
    "    | id          | int     |\n",
    "    | name        | varchar |\n",
    "    +-------------+---------+\n",
    "    \n",
    "id is the primary key (column with unique values) for this table.\n",
    "Each row of this table indicates the ID and name of a customer.\n",
    " \n",
    "\n",
    "Table: Orders\n",
    "\n",
    "    +-------------+------+\n",
    "    | Column Name | Type |\n",
    "    +-------------+------+\n",
    "    | id          | int  |\n",
    "    | customerId  | int  |\n",
    "    +-------------+------+\n",
    "    \n",
    "id is the primary key (column with unique values) for this table.\n",
    "customerId is a foreign key (reference columns) of the ID from the Customers table.\n",
    "Each row of this table indicates the ID of an order and the ID of the customer who ordered it.\n",
    " \n",
    "\n",
    "Write a solution to find all customers who never order anything.\n",
    "\n",
    "Return the result table in any order."
   ]
  },
  {
   "cell_type": "markdown",
   "id": "9a047729-192f-445d-be50-34fc788bd9ae",
   "metadata": {},
   "source": [
    "#### <u>attempts</u>"
   ]
  },
  {
   "cell_type": "markdown",
   "id": "3dfa84de-26e2-40f6-b4b1-120c9aa94578",
   "metadata": {},
   "source": [
    "NOTE: did a right join initially but that didn't make sense because that causes me to lose the names, so have to do left join again\n",
    "\n",
    "    SELECT name AS Customers\n",
    "    FROM Customers table1\n",
    "    LEFT JOIN Orders table2 ON table1.id = table2.customerId\n",
    "    WHERE table2.id IS NULL\n",
    "    \n",
    "status = success"
   ]
  },
  {
   "cell_type": "markdown",
   "id": "cded4a74-4887-4c0d-ab3c-bd6a1bc6dbd5",
   "metadata": {},
   "source": [
    "#### <u>solutions</u>"
   ]
  },
  {
   "cell_type": "markdown",
   "id": "115a63a4-5eca-42ed-99f9-6bcfce9fbb07",
   "metadata": {},
   "source": [
    "from someone on leetcode, more concise and even eaiser to read\n",
    "\n",
    "    SELECT name as Customers FROM Customers\n",
    "    WHERE id NOT IN (SELECT customerid FROM orders)"
   ]
  },
  {
   "cell_type": "markdown",
   "id": "34afcef8-089b-4bc4-ac4e-e5f9440172dd",
   "metadata": {},
   "source": [
    "#### <u>notes</u>"
   ]
  },
  {
   "cell_type": "markdown",
   "id": "834c5f8a-6151-40bb-869c-69f449328504",
   "metadata": {},
   "source": [
    "no notes as this time - this problem is fairly straightforward"
   ]
  },
  {
   "cell_type": "markdown",
   "id": "81b1c505-d82a-4d21-857d-73a33e95428c",
   "metadata": {
    "jp-MarkdownHeadingCollapsed": true,
    "tags": []
   },
   "source": [
    "### 196. Delete Duplicate Emails"
   ]
  },
  {
   "cell_type": "markdown",
   "id": "24a9e1ab-23d4-4bf5-b5f5-62d1a4260888",
   "metadata": {},
   "source": [
    "#### <u>description</u>"
   ]
  },
  {
   "cell_type": "markdown",
   "id": "6ffb3e2f-6482-4e0e-b2de-3bc0fdb2f010",
   "metadata": {},
   "source": [
    "Table: Person\n",
    "\n",
    "    +-------------+---------+\n",
    "    | Column Name | Type    |\n",
    "    +-------------+---------+\n",
    "    | id          | int     |\n",
    "    | email       | varchar |\n",
    "    +-------------+---------+\n",
    "    \n",
    "id is the primary key (column with unique values) for this table.\n",
    "Each row of this table contains an email. The emails will not contain uppercase letters.\n",
    " \n",
    "\n",
    "Write a solution to delete all duplicate emails, keeping only one unique email with the smallest id.\n",
    "\n",
    "For SQL users, please note that you are supposed to write a DELETE statement and not a SELECT one.\n",
    "\n",
    "For Pandas users, please note that you are supposed to modify Person in place.\n",
    "\n",
    "After running your script, the answer shown is the Person table. The driver will first compile and run your piece of code and then show the Person table. The final order of the Person table does not matter."
   ]
  },
  {
   "cell_type": "markdown",
   "id": "791c46b4-eca1-4682-aab1-4d210c1d369f",
   "metadata": {},
   "source": [
    "#### <u>attempts</u>"
   ]
  },
  {
   "cell_type": "markdown",
   "id": "f0b5861e-24a3-4aee-8042-91698b104aa8",
   "metadata": {},
   "source": [
    "NOTE: a bit confused about the WHERE statement; was sure that the condition was t1.id < t2.id since you want to keep the smallest id. same logic for id in the solutions... there's something about the table layout that i don't get from the join\n",
    "\n",
    "    DELETE t1 FROM Person t1 \n",
    "    INNER JOIN Person t2 \n",
    "    WHERE t1.id > t2.id AND t1.email = t2.email\n",
    "    \n",
    "status = success"
   ]
  },
  {
   "cell_type": "markdown",
   "id": "c218816d-92a3-4290-8e31-e4450e6961f5",
   "metadata": {},
   "source": [
    "#### <u>solutions</u>"
   ]
  },
  {
   "cell_type": "markdown",
   "id": "2469fc5c-5898-412c-8874-275e709003cd",
   "metadata": {},
   "source": [
    "tried to write this but kept failing; need to review syntax\n",
    "\n",
    "    DELETE p1 FROM Person p1,Person p2 \n",
    "    WHERE p1.email=p2.email AND p1.id>p2.id"
   ]
  },
  {
   "cell_type": "markdown",
   "id": "ac5a192f-284c-437b-99fb-090b4df217a2",
   "metadata": {},
   "source": [
    "#### <u>notes</u>"
   ]
  },
  {
   "cell_type": "markdown",
   "id": "b2b072d6-0d68-4c31-95b9-05d0bc5e500c",
   "metadata": {},
   "source": [
    "would be useful to have a visual view of the table after the inner join so i can understand why that where clause work. explanation:\n",
    "\n",
    "\n",
    "**Why t1.id > t2.id?**\n",
    "\n",
    "When there are duplicate rows in the table, we need to choose one of the duplicates to delete. The WHERE t1.id > t2.id condition is used to ensure that we always delete the record with the higher id value and keep the record with the lower id value. This is a consistent and deterministic way to remove duplicates because:\n",
    "\n",
    "1. Consistency: By always deleting the record with the higher id, we ensure that only one of the duplicates remains. If we used t1.id < t2.id, it would still remove duplicates, but the specific record being deleted would be different (it would be the one with the lower id), which is less intuitive in terms of preserving the original order of insertion.\n",
    "\n",
    "2. Efficiency: Deleting the record with the higher id can be seen as preserving the \"first\" instance of each duplicate (assuming id is an auto-incrementing primary key). This is often desirable because it maintains the earliest inserted record.\n",
    "\n"
   ]
  },
  {
   "cell_type": "markdown",
   "id": "e74e2b84-4c5e-40a9-a1b4-8cadcbe3d6fb",
   "metadata": {
    "jp-MarkdownHeadingCollapsed": true,
    "tags": []
   },
   "source": [
    "### 197. Rising Temperature"
   ]
  },
  {
   "cell_type": "markdown",
   "id": "bd0fb48b-1bb5-4bc6-bc36-aa161aaa9fa1",
   "metadata": {},
   "source": [
    "#### <u>description</u>"
   ]
  },
  {
   "cell_type": "markdown",
   "id": "52440e87-cad3-466b-8201-cdbb22352504",
   "metadata": {},
   "source": [
    "Table: Weather\n",
    "\n",
    "    +---------------+---------+\n",
    "    | Column Name   | Type    |\n",
    "    +---------------+---------+\n",
    "    | id            | int     |\n",
    "    | recordDate    | date    |\n",
    "    | temperature   | int     |\n",
    "    +---------------+---------+\n",
    "    \n",
    "id is the column with unique values for this table.\n",
    "There are no different rows with the same recordDate.\n",
    "This table contains information about the temperature on a certain day.\n",
    " \n",
    "\n",
    "Write a solution to find all dates' Id with higher temperatures compared to its previous dates (yesterday).\n",
    "\n",
    "Return the result table in any order."
   ]
  },
  {
   "cell_type": "markdown",
   "id": "699296d2-4bc1-427c-a48b-5e80a8662b82",
   "metadata": {},
   "source": [
    "#### <u>attempts</u>"
   ]
  },
  {
   "cell_type": "markdown",
   "id": "0319499e-43cc-47fe-a75e-3d356fccba19",
   "metadata": {},
   "source": [
    "NOTE: this almost works, but fails if there are gaps between dates...\n",
    "\n",
    "    SELECT t2.id FROM (\n",
    "        SELECT *,\n",
    "        LAG (temperature, 1)\n",
    "        OVER (ORDER BY recordDate ASC) AS previous_temp\n",
    "        FROM Weather\n",
    "    ) AS t2\n",
    "    WHERE temperature > previous_temp\n",
    "    \n",
    "status = failure"
   ]
  },
  {
   "cell_type": "markdown",
   "id": "aacbd4e4-938e-4150-97a2-a0c2e024855c",
   "metadata": {},
   "source": [
    "NOTE: the idea here was create 2 lagged columns, one for temperature and one for recordDate. in order for an id to be selected, the current temperature had to be greater than the previous one, and the interval between the current day and the previous day had to be exactly 1 day (to ensure the previous record was indeed yesterday). also beats 99.50% of users apparently\n",
    "\n",
    "    SELECT t2.id FROM (\n",
    "        SELECT *,\n",
    "        LAG (temperature, 1)\n",
    "        OVER (ORDER BY recordDate ASC) AS previous_temp,\n",
    "        LAG (recordDate, 1)\n",
    "        OVER (ORDER BY recordDate ASC) AS previous_date\n",
    "        FROM Weather\n",
    "    ) AS t2\n",
    "    WHERE temperature > previous_temp AND DATE_SUB(recordDate, INTERVAL 1 DAY) = previous_date\n",
    "\n",
    "status = success"
   ]
  },
  {
   "cell_type": "markdown",
   "id": "723653de-f47b-413b-af6f-458e6533ee5f",
   "metadata": {},
   "source": [
    "#### <u>solutions</u>"
   ]
  },
  {
   "cell_type": "markdown",
   "id": "4b70e6ea-92b3-4311-8bef-f3a58c5a8d6c",
   "metadata": {},
   "source": [
    "solution from someone on leetcode, a lot more straightforward, but not as fast as mine apparently\n",
    "\n",
    "    SELECT w1.id\n",
    "    FROM Weather w1, Weather w2\n",
    "    WHERE DATEDIFF(w1.recordDate, w2.recordDate) = 1 AND w1.temperature > w2.temperature;"
   ]
  },
  {
   "cell_type": "markdown",
   "id": "fdde4e91-e889-4348-be3e-37141cf6725a",
   "metadata": {},
   "source": [
    "#### <u>notes</u>"
   ]
  },
  {
   "cell_type": "markdown",
   "id": "572e7716-2144-42eb-8181-b5cc1f1b1d34",
   "metadata": {},
   "source": [
    "using 2 new functions in my successful attempt: LAG() and DATE_SUB()\n",
    "\n",
    "LAG():\n",
    "\n",
    "The LAG() window function facilitates access to previous rows based on the offset argument. It can be particularly useful when a comparison of a previous value is necessary without the use of a self join. There is a similarity to the LEAD() function with the difference being the accessible rows. LEAD() accesses subsequent rows while LAG() accesses previous rows.\n",
    "\n",
    "    LAG (expression [, offset] [, default])\n",
    "    OVER ( [ partition_by ] order_by )\n",
    "\n",
    "    1. expression - The column value which will be referenced.\n",
    "    2. offset - A positive numeric indicator of the previous row to access that is relative to the current row. If not specified the default is 1.\n",
    "    3. default - The value that will be returned if the offset is out of range. This is an optional argument, if not specified NULL will be returned.\n",
    "\n",
    "    1. partition_by - Allows the result set to be grouped based on a column. This is an optional argument, if not specified the result set will be treated as a single group.\n",
    "    2. order_by - Determines the order of the result set. If partition_by is specified, it will order the grouped data instead.\n",
    "    \n",
    "DATE_SUB():\n",
    "\n",
    "The DATE_SUB() function subtracts a time/date interval from a date and then returns the date.\n",
    "\n",
    "    DATE_SUB(date, INTERVAL value interval)\n",
    "     \n",
    "    1. date - Required. The date to be modified\n",
    "    2. value - Required. The value of the time/date interval to subtract. Both positive and negative values are allowed\n",
    "    3. interval - Required. The type of interval to subtract. Can be one of the following values"
   ]
  },
  {
   "cell_type": "markdown",
   "id": "8c3499e7-86d5-44df-be75-11be65ef1b1b",
   "metadata": {
    "jp-MarkdownHeadingCollapsed": true,
    "tags": []
   },
   "source": [
    "### 511. Game Play Analysis I"
   ]
  },
  {
   "cell_type": "markdown",
   "id": "18b767f8-ea4d-4fcb-a0ad-4096d8f89e84",
   "metadata": {},
   "source": [
    "#### <u>description</u>"
   ]
  },
  {
   "cell_type": "markdown",
   "id": "2a617c43-bc19-4d31-9717-314359fc9171",
   "metadata": {},
   "source": [
    "Table: Activity\n",
    "\n",
    "    +--------------+---------+\n",
    "    | Column Name  | Type    |\n",
    "    +--------------+---------+\n",
    "    | player_id    | int     |\n",
    "    | device_id    | int     |\n",
    "    | event_date   | date    |\n",
    "    | games_played | int     |\n",
    "    +--------------+---------+\n",
    "\n",
    "(player_id, event_date) is the primary key (combination of columns with unique values) of this table.\n",
    "This table shows the activity of players of some games.\n",
    "Each row is a record of a player who logged in and played a number of games (possibly 0) before logging out on someday using some device.\n",
    " \n",
    "\n",
    "Write a solution to find the first login date for each player.\n",
    "\n",
    "Return the result table in any order."
   ]
  },
  {
   "cell_type": "markdown",
   "id": "8f260d8a-0502-4c1a-b97f-322504c10c41",
   "metadata": {},
   "source": [
    "#### <u>attempts</u>"
   ]
  },
  {
   "cell_type": "markdown",
   "id": "b8ba046d-a0e7-493d-92ec-c44fbac76685",
   "metadata": {},
   "source": [
    "NOTE: not entirely sure why this works. without the GROUP BY, it only returns a single row which contains the minimum date from the event_date column. possible i fail to really understand what a group by actually does at this stage\n",
    "\n",
    "    SELECT player_id, MIN(event_date) as first_login\n",
    "    FROM Activity\n",
    "    GROUP BY player_id\n",
    "\n",
    "status = success"
   ]
  },
  {
   "cell_type": "markdown",
   "id": "1c5735f5-929d-482b-a1a4-818ebb2f2129",
   "metadata": {},
   "source": [
    "#### <u>solutions</u>"
   ]
  },
  {
   "cell_type": "markdown",
   "id": "a2b9f061-88b6-40c7-b3af-fcc995520895",
   "metadata": {},
   "source": [
    "there doesn't seem to be much else to this problem. simple problem but worth keeping in mind"
   ]
  },
  {
   "cell_type": "markdown",
   "id": "29ad7011-5c8f-45ea-ac12-67fa3bcd3b80",
   "metadata": {},
   "source": [
    "#### <u>notes</u>"
   ]
  },
  {
   "cell_type": "markdown",
   "id": "02b7d6b0-07dd-45af-aeab-7d95ad3a22a7",
   "metadata": {},
   "source": [
    "this is the explanation from GPT concerning the GROUP BY: \n",
    "* GROUP BY player_id: This groups the result by player_id, ensuring that the MIN(event_date) is calculated for each player individually."
   ]
  },
  {
   "cell_type": "markdown",
   "id": "f611a81c-210a-4626-bbb6-c544fbf9afde",
   "metadata": {
    "jp-MarkdownHeadingCollapsed": true,
    "tags": []
   },
   "source": [
    "### 577. Employee Bonus"
   ]
  },
  {
   "cell_type": "markdown",
   "id": "4e3b7f2c-b571-4062-bd0a-ef0f37c7467b",
   "metadata": {},
   "source": [
    "#### <u>description</u>"
   ]
  },
  {
   "cell_type": "markdown",
   "id": "be586db4-4c16-4e82-bc5f-83fed00e1309",
   "metadata": {},
   "source": [
    "Table: Employee\n",
    "\n",
    "    +-------------+---------+\n",
    "    | Column Name | Type    |\n",
    "    +-------------+---------+\n",
    "    | empId       | int     |\n",
    "    | name        | varchar |\n",
    "    | supervisor  | int     |\n",
    "    | salary      | int     |\n",
    "    +-------------+---------+\n",
    "\n",
    "empId is the column with unique values for this table.\n",
    "Each row of this table indicates the name and the ID of an employee in addition to their salary and the id of their manager.\n",
    " \n",
    "\n",
    "Table: Bonus\n",
    "\n",
    "    +-------------+------+\n",
    "    | Column Name | Type |\n",
    "    +-------------+------+\n",
    "    | empId       | int  |\n",
    "    | bonus       | int  |\n",
    "    +-------------+------+\n",
    "\n",
    "empId is the column of unique values for this table.\n",
    "empId is a foreign key (reference column) to empId from the Employee table.\n",
    "Each row of this table contains the id of an employee and their respective bonus.\n",
    " \n",
    "\n",
    "Write a solution to report the name and bonus amount of each employee with a bonus less than 1000."
   ]
  },
  {
   "cell_type": "markdown",
   "id": "598f8047-47ae-4bbc-a40b-e0136e50045c",
   "metadata": {},
   "source": [
    "#### <u>attempts</u>"
   ]
  },
  {
   "cell_type": "markdown",
   "id": "6a8ce347-ccf7-4694-b528-9af802ba0645",
   "metadata": {},
   "source": [
    "NOTE: didn't feel like i learned much from this one\n",
    "\n",
    "    SELECT t1.name, t2.bonus\n",
    "    FROM Employee t1\n",
    "    LEFT JOIN Bonus t2 ON t1.empId = t2.empId\n",
    "    WHERE t2.bonus < 1000 OR t2.bonus IS NULL\n",
    "\n",
    "status = success"
   ]
  },
  {
   "cell_type": "markdown",
   "id": "870981db-7482-43e0-8ac0-0eeeea4ce865",
   "metadata": {},
   "source": [
    "#### <u>solution</u>"
   ]
  },
  {
   "cell_type": "markdown",
   "id": "c0b64877-07aa-43c2-8ca2-600b12913233",
   "metadata": {},
   "source": [
    "a solution from leetcode\n",
    "\n",
    "    SELECT name, bonus FROM employee\n",
    "    LEFT JOIN bonus USING(empid)\n",
    "    WHERE bonus <1000 OR bonus IS NULL"
   ]
  },
  {
   "cell_type": "markdown",
   "id": "dc9da5b6-7bc1-4486-9f59-043d93a3c94e",
   "metadata": {},
   "source": [
    "#### <u>notes</u>"
   ]
  },
  {
   "cell_type": "markdown",
   "id": "d27e9943-829b-4e3f-95b2-0c5e7c78129d",
   "metadata": {},
   "source": [
    "difference between ON and USING when joining tables:\n",
    "\n",
    "1. ON Clause\n",
    "\n",
    "The ON clause is used to specify the condition on which two tables should be joined. It is flexible and allows you to join tables on columns that have different names, or even use more complex expressions.\n",
    "    \n",
    "syntax:\n",
    "\n",
    "    SELECT columns\n",
    "    FROM table1\n",
    "    JOIN table2\n",
    "    ON table1.column = table2.column;\n",
    "    \n",
    "2. USING Clause\n",
    "\n",
    "The USING clause is used when the columns that are being joined have the same name in both tables. It is a simpler syntax for this specific case.\n",
    "\n",
    "syntax:\n",
    "\n",
    "    SELECT columns\n",
    "    FROM table1\n",
    "    JOIN table2\n",
    "    USING (column_name);\n",
    "    \n",
    "Key Differences:\n",
    "1. Column Names:\n",
    "\n",
    "    * ON can join columns with different names or use more complex conditions.\n",
    "    * USING requires that the columns being joined have the same name in both tables.\n",
    "2. Flexibility:\n",
    "\n",
    "    * ON is more flexible and can handle complex join conditions, including multiple conditions.\n",
    "    * USING is simpler but limited to cases where the column names are identical. \n",
    "3. Resulting Column Names:\n",
    "\n",
    "    * When using ON, both joined columns will appear in the result set, typically qualified with their table names.\n",
    "    * When using USING, the resulting table will only include one instance of the joined column, eliminating redundancy."
   ]
  },
  {
   "cell_type": "markdown",
   "id": "a5a588ca-93fa-4880-9b89-2a9ec1023594",
   "metadata": {
    "jp-MarkdownHeadingCollapsed": true,
    "tags": []
   },
   "source": [
    "### 584. Find Customer Referee"
   ]
  },
  {
   "cell_type": "markdown",
   "id": "8b24c955-1bc9-4a79-b06b-63ca60f2de9b",
   "metadata": {},
   "source": [
    "#### <u>description</u>"
   ]
  },
  {
   "cell_type": "markdown",
   "id": "6f44b7d2-2932-4db6-8856-3458861c0fa9",
   "metadata": {},
   "source": [
    "Table: Customer\n",
    "\n",
    "    +-------------+---------+\n",
    "    | Column Name | Type    |\n",
    "    +-------------+---------+\n",
    "    | id          | int     |\n",
    "    | name        | varchar |\n",
    "    | referee_id  | int     |\n",
    "    +-------------+---------+\n",
    "In SQL, id is the primary key column for this table.\n",
    "Each row of this table indicates the id of a customer, their name, and the id of the customer who referred them.\n",
    " \n",
    "\n",
    "Find the names of the customer that are not referred by the customer with id = 2.\n",
    "\n",
    "Return the result table in any order."
   ]
  },
  {
   "cell_type": "markdown",
   "id": "30199579-1fe2-4305-81dd-33a03199aa46",
   "metadata": {},
   "source": [
    "#### <u>attempts</u>"
   ]
  },
  {
   "cell_type": "markdown",
   "id": "0b2144f8-3649-4f78-adff-c52046a54898",
   "metadata": {},
   "source": [
    "    SELECT name FROM Customer\n",
    "    WHERE referee_id <> 2 OR referee_id IS NULL\n",
    "\n",
    "status = success"
   ]
  },
  {
   "cell_type": "markdown",
   "id": "8d0a9f86-46c8-41de-af15-415f37f64a11",
   "metadata": {},
   "source": [
    "#### <u>solutions</u>"
   ]
  },
  {
   "cell_type": "markdown",
   "id": "4d768f89-d10a-42b2-ac56-f156054bde37",
   "metadata": {},
   "source": [
    "a solution from leetcode\n",
    "\n",
    "    SELECT name\n",
    "    FROM Customer\n",
    "    WHERE COALESCE(referee_id,0) <> 2;"
   ]
  },
  {
   "cell_type": "markdown",
   "id": "ad30f26e-fbc5-4dbb-9cd2-2c4ba4ffc64f",
   "metadata": {},
   "source": [
    "#### <u>notes</u>"
   ]
  },
  {
   "cell_type": "markdown",
   "id": "08b61d2e-6df9-4486-bd6a-c031c3919a97",
   "metadata": {},
   "source": [
    "1. Not Equal Operators\n",
    "\n",
    "!= and <> can both act as a \"not equal\" operator\n",
    "\n",
    "2. COALESCE\n",
    "\n",
    "The COALESCE function in MySQL is used to get the first non-null value from a list of expressions.\n",
    "\n",
    "If all the values in the list are evaluated to NULL, then the COALESCE() function returns NULL. The COALESCE() function accepts one parameter, which is the list, which can contain various values\n",
    "\n",
    "syntax:\n",
    "\n",
    "    COALESCE(value_1, value_2, …., value_n)\n",
    "    \n",
    "* COALESCE() can be used to substitute NULL values in table columns with a default value or an expression.\n",
    "* COALESCE() is more flexible than IFNULL() as it can handle any number of arguments, while IFNULL() only takes two arguments."
   ]
  },
  {
   "cell_type": "markdown",
   "id": "d663c8a6-b97a-4d90-940e-9d18a8b2eef7",
   "metadata": {
    "jp-MarkdownHeadingCollapsed": true,
    "tags": []
   },
   "source": [
    "### 586. Customer Placing the Largest Number of Orders"
   ]
  },
  {
   "cell_type": "markdown",
   "id": "f1ce6033-1ce2-4f72-a047-cd080b5f5c31",
   "metadata": {},
   "source": [
    "#### <u>description</u>"
   ]
  },
  {
   "cell_type": "markdown",
   "id": "f69ac9aa-6d9d-49d8-a06e-0e405d4dccfc",
   "metadata": {},
   "source": [
    "Table: Orders\n",
    "\n",
    "    +-----------------+----------+\n",
    "    | Column Name     | Type     |\n",
    "    +-----------------+----------+\n",
    "    | order_number    | int      |\n",
    "    | customer_number | int      |\n",
    "    +-----------------+----------+\n",
    "order_number is the primary key (column with unique values) for this table.\n",
    "This table contains information about the order ID and the customer ID.\n",
    " \n",
    "\n",
    "Write a solution to find the customer_number for the customer who has placed the largest number of orders.\n",
    "\n",
    "The test cases are generated so that exactly one customer will have placed more orders than any other customer."
   ]
  },
  {
   "cell_type": "markdown",
   "id": "072fb5dd-8168-4894-bfa2-549683726232",
   "metadata": {},
   "source": [
    "#### <u>attempts</u>"
   ]
  },
  {
   "cell_type": "markdown",
   "id": "318f5e6b-ab7b-43f5-b3ab-d4350a20a9b6",
   "metadata": {},
   "source": [
    "NOTE: this query gives the right customer_number but comes with an additional unwanted column \"c\", however i can visualize what's happening\n",
    "\n",
    "    SELECT customer_number, COUNT(order_number) as c\n",
    "    FROM Orders\n",
    "    GROUP BY customer_number\n",
    "    ORDER BY c DESC LIMIT 1\n",
    "\n",
    "status = failure"
   ]
  },
  {
   "cell_type": "markdown",
   "id": "2574f586-b796-4308-b72e-39f91e88341e",
   "metadata": {},
   "source": [
    "NOTE: really not entirely sure why this works i.e hard time visualizing what the GROUP BY and ORDER BY does (also didn't know i could use COUNT with the ORDER BY clause). it's also really efficient apparently\n",
    "\n",
    "    SELECT customer_number\n",
    "    FROM Orders\n",
    "    GROUP BY customer_number\n",
    "    ORDER BY COUNT(customer_number) DESC LIMIT 1\n",
    "\n",
    "status = success"
   ]
  },
  {
   "cell_type": "markdown",
   "id": "bc77437b-b751-40a6-924e-412bdb00e40a",
   "metadata": {},
   "source": [
    "#### <u>solutions</u>"
   ]
  },
  {
   "cell_type": "markdown",
   "id": "22517d61-26f6-4236-93f7-912ce2c2b937",
   "metadata": {},
   "source": [
    "from some leetcode solution; almost identical to mine bu the COUNT() is different\n",
    "\n",
    "    SELECT customer_number\n",
    "    FROM orders\n",
    "    GROUP BY customer_number\n",
    "    ORDER BY COUNT(*) DESC\n",
    "    LIMIT 1;"
   ]
  },
  {
   "cell_type": "markdown",
   "id": "20ba889c-97d2-4d58-aa4f-94cb77773b5c",
   "metadata": {},
   "source": [
    "#### <u>notes</u>"
   ]
  },
  {
   "cell_type": "markdown",
   "id": "606a2d45-6dfb-4acb-a765-3831f8fd78c0",
   "metadata": {},
   "source": [
    "most solutions has the same answer as me, this is the explanation from one of the solution:\n",
    "\n",
    "1. Grouping the orders by customer_number.\n",
    "2. Counting the number of orders for each customer_number.\n",
    "3. Ordering the results by the count of orders in descending order.\n",
    "4. Limiting the output to only the first row, which will contain the customer_number with the highest count of orders."
   ]
  },
  {
   "cell_type": "markdown",
   "id": "66218c08-424c-4f58-92af-243a229e6432",
   "metadata": {
    "jp-MarkdownHeadingCollapsed": true,
    "tags": []
   },
   "source": [
    "### 595. Big Countries"
   ]
  },
  {
   "cell_type": "markdown",
   "id": "523f3f6d-c265-4b87-a262-055427e854f7",
   "metadata": {},
   "source": [
    "#### <u>description</u>"
   ]
  },
  {
   "cell_type": "markdown",
   "id": "2703a537-1b10-491c-83ef-ea9f0ed0f82b",
   "metadata": {},
   "source": [
    "Table: World\n",
    "\n",
    "    +-------------+---------+\n",
    "    | Column Name | Type    |\n",
    "    +-------------+---------+\n",
    "    | name        | varchar |\n",
    "    | continent   | varchar |\n",
    "    | area        | int     |\n",
    "    | population  | int     |\n",
    "    | gdp         | bigint  |\n",
    "    +-------------+---------+\n",
    "    \n",
    "name is the primary key (column with unique values) for this table.\n",
    "Each row of this table gives information about the name of a country, the continent to which it belongs, its area, the population, and its GDP value.\n",
    " \n",
    "\n",
    "A country is big if:\n",
    "\n",
    "it has an area of at least three million (i.e., 3000000 km2), or\n",
    "it has a population of at least twenty-five million (i.e., 25000000).\n",
    "Write a solution to find the name, population, and area of the big countries.\n",
    "\n",
    "Return the result table in any order."
   ]
  },
  {
   "cell_type": "markdown",
   "id": "64dd11ae-0376-427b-a6a9-c0bf7351b036",
   "metadata": {},
   "source": [
    "#### <u>attempts</u>"
   ]
  },
  {
   "cell_type": "markdown",
   "id": "5687ec42-fbc5-406d-999b-eed6e8327fa8",
   "metadata": {},
   "source": [
    "    SELECT name, population, area FROM World\n",
    "    WHERE area >= 3000000 OR population >=  25000000\n",
    "\n",
    "status = success"
   ]
  },
  {
   "cell_type": "markdown",
   "id": "860c48d9-442d-40a4-929f-58e6158eeafc",
   "metadata": {},
   "source": [
    "#### <u>solutions</u>"
   ]
  },
  {
   "cell_type": "code",
   "execution_count": null,
   "id": "2b9830d7-1542-4c51-8192-ae6daf34864f",
   "metadata": {},
   "outputs": [],
   "source": []
  },
  {
   "cell_type": "markdown",
   "id": "88cc7b4a-228b-4e82-8c61-987c25dee8b9",
   "metadata": {},
   "source": [
    "#### <u>notes</u>"
   ]
  },
  {
   "cell_type": "markdown",
   "id": "5bf3c37b-5d2b-4934-9039-6f39ffa1916f",
   "metadata": {},
   "source": [
    "this problem is extremely straightforward"
   ]
  },
  {
   "cell_type": "markdown",
   "id": "ab88eafa-7374-4adb-9777-2bc5d8db205e",
   "metadata": {
    "jp-MarkdownHeadingCollapsed": true,
    "tags": []
   },
   "source": [
    "### 596. Classes More than 5 Students"
   ]
  },
  {
   "cell_type": "markdown",
   "id": "d85c5170-c4f6-448b-96c4-8bff281be20a",
   "metadata": {},
   "source": [
    "#### <u>description</u>"
   ]
  },
  {
   "cell_type": "markdown",
   "id": "09675afb-ee67-4d0a-92ef-65d16d7f35d5",
   "metadata": {},
   "source": [
    "Table: Courses\n",
    "\n",
    "    +-------------+---------+\n",
    "    | Column Name | Type    |\n",
    "    +-------------+---------+\n",
    "    | student     | varchar |\n",
    "    | class       | varchar |\n",
    "    +-------------+---------+\n",
    "(student, class) is the primary key (combination of columns with unique values) for this table.\n",
    "Each row of this table indicates the name of a student and the class in which they are enrolled.\n",
    " \n",
    "\n",
    "Write a solution to find all the classes that have at least five students.\n",
    "\n",
    "Return the result table in any order."
   ]
  },
  {
   "cell_type": "markdown",
   "id": "e94555e3-92ab-4487-9c01-7dd793dc2380",
   "metadata": {},
   "source": [
    "#### <u>attempts</u>"
   ]
  },
  {
   "cell_type": "markdown",
   "id": "c5992028-fc4b-4fce-bec6-2527c2028457",
   "metadata": {},
   "source": [
    "    SELECT class FROM Courses\n",
    "    GROUP BY class\n",
    "    HAVING COUNT(class) >= 5\n",
    "\n",
    "status = success"
   ]
  },
  {
   "cell_type": "markdown",
   "id": "80e58b46-e876-4eaa-9da3-9ba018fe82fa",
   "metadata": {},
   "source": [
    "#### <u>solutions</u>"
   ]
  },
  {
   "cell_type": "markdown",
   "id": "506f4b97-c8fa-4b9c-8089-db385289a82e",
   "metadata": {},
   "source": [
    "this also works, perhaps a bit more intuitive\n",
    "\n",
    "    SELECT class FROM Courses\n",
    "    GROUP BY class\n",
    "    HAVING COUNT(student) >= 5"
   ]
  },
  {
   "cell_type": "markdown",
   "id": "46afb362-653d-4ac2-9a1b-17222b82084a",
   "metadata": {},
   "source": [
    "#### <u>notes</u>"
   ]
  },
  {
   "cell_type": "markdown",
   "id": "9cdd2332-49d3-4954-a4cb-b8bcd8de9685",
   "metadata": {},
   "source": [
    "another extremely straightforward problem"
   ]
  },
  {
   "cell_type": "markdown",
   "id": "0a10aca5-05a2-4ed7-9e8d-46e040c9994a",
   "metadata": {
    "jp-MarkdownHeadingCollapsed": true,
    "tags": []
   },
   "source": [
    "### 607. Sales Person"
   ]
  },
  {
   "cell_type": "markdown",
   "id": "9689be42-1ff5-4699-b437-28fb20c51000",
   "metadata": {},
   "source": [
    "#### <u>description</u>"
   ]
  },
  {
   "cell_type": "markdown",
   "id": "fab142d7-86e3-4f40-b9d1-cf558cfbd9d7",
   "metadata": {},
   "source": [
    "Table: SalesPerson\n",
    "\n",
    "    +-----------------+---------+\n",
    "    | Column Name     | Type    |\n",
    "    +-----------------+---------+\n",
    "    | sales_id        | int     |\n",
    "    | name            | varchar |\n",
    "    | salary          | int     |\n",
    "    | commission_rate | int     |\n",
    "    | hire_date       | date    |\n",
    "    +-----------------+---------+\n",
    "sales_id is the primary key (column with unique values) for this table.\n",
    "Each row of this table indicates the name and the ID of a salesperson alongside their salary, commission rate, and hire date.\n",
    " \n",
    "\n",
    "Table: Company\n",
    "\n",
    "    +-------------+---------+\n",
    "    | Column Name | Type    |\n",
    "    +-------------+---------+\n",
    "    | com_id      | int     |\n",
    "    | name        | varchar |\n",
    "    | city        | varchar |\n",
    "    +-------------+---------+\n",
    "com_id is the primary key (column with unique values) for this table.\n",
    "Each row of this table indicates the name and the ID of a company and the city in which the company is located.\n",
    " \n",
    "\n",
    "Table: Orders\n",
    "\n",
    "    +-------------+------+\n",
    "    | Column Name | Type |\n",
    "    +-------------+------+\n",
    "    | order_id    | int  |\n",
    "    | order_date  | date |\n",
    "    | com_id      | int  |\n",
    "    | sales_id    | int  |\n",
    "    | amount      | int  |\n",
    "    +-------------+------+\n",
    "order_id is the primary key (column with unique values) for this table.\n",
    "com_id is a foreign key (reference column) to com_id from the Company table.\n",
    "sales_id is a foreign key (reference column) to sales_id from the SalesPerson table.\n",
    "Each row of this table contains information about one order. This includes the ID of the company, the ID of the salesperson, the date of the order, and the amount paid.\n",
    " \n",
    "\n",
    "Write a solution to find the names of all the salespersons who did not have any orders related to the company with the name \"RED\".\n",
    "\n",
    "Return the result table in any order."
   ]
  },
  {
   "cell_type": "markdown",
   "id": "afa01ed5-cddd-4a0a-8deb-84dfe0cf7a88",
   "metadata": {},
   "source": [
    "#### <u>attempts</u>"
   ]
  },
  {
   "cell_type": "markdown",
   "id": "e56b705f-e935-4e40-8fee-a93d42bb5d5a",
   "metadata": {},
   "source": [
    "NOTE: this really feels like it should work but the output is plain wrong\n",
    "\n",
    "    SELECT sales.name FROM SalesPerson sales\n",
    "    JOIN Orders orders ON orders.sales_id = sales.sales_id\n",
    "    JOIN Company company ON orders.com_id = company.com_id\n",
    "    WHERE company.name <> \"RED\"\n",
    "    \n",
    "status = failure"
   ]
  },
  {
   "cell_type": "markdown",
   "id": "3607b685-66d5-4bcf-abd6-8f12cbeec5cd",
   "metadata": {},
   "source": [
    "NOTE: above was definitely incorrect, below works\n",
    "\n",
    "    SELECT name FROM SalesPerson\n",
    "    WHERE sales_id NOT IN (\n",
    "        SELECT sales.sales_id FROM Orders orders\n",
    "        JOIN Company company ON orders.com_id = company.com_id\n",
    "        JOIN SalesPerson sales ON orders.sales_id = sales.sales_id\n",
    "        WHERE company.name = \"RED\"\n",
    "    )\n",
    "\n",
    "status = success"
   ]
  },
  {
   "cell_type": "markdown",
   "id": "433671fb-f03f-4e37-b47a-e67d3e977990",
   "metadata": {},
   "source": [
    "#### <u>solutions</u>"
   ]
  },
  {
   "cell_type": "code",
   "execution_count": null,
   "id": "e98b2673-c8f0-4513-b5b4-972d2f73c3a8",
   "metadata": {},
   "outputs": [],
   "source": []
  },
  {
   "cell_type": "markdown",
   "id": "3a409461-380d-4df5-954a-15689bd929e1",
   "metadata": {},
   "source": [
    "#### <u>notes</u>"
   ]
  },
  {
   "cell_type": "markdown",
   "id": "fa5d865c-37df-47a0-ba9d-5eafffc21798",
   "metadata": {},
   "source": [
    "the solutions are all some variation of what i wrote, so nothing new to add. however i struggled a bit with this problem; i still seem to have a hard time visualizing the output tables after performing operations on them"
   ]
  },
  {
   "cell_type": "markdown",
   "id": "7fe6b26b-5cc6-4235-952d-ce17311b807e",
   "metadata": {
    "jp-MarkdownHeadingCollapsed": true,
    "tags": []
   },
   "source": [
    "### 610. Triangle Judgement"
   ]
  },
  {
   "cell_type": "markdown",
   "id": "3c7550ac-34ce-4712-8033-cb03b7b77150",
   "metadata": {},
   "source": [
    "#### <u>description</u>"
   ]
  },
  {
   "cell_type": "markdown",
   "id": "0421b7f1-f346-44ff-b76e-763ee2ea1b6b",
   "metadata": {},
   "source": [
    "    +-------------+------+\n",
    "    | Column Name | Type |\n",
    "    +-------------+------+\n",
    "    | x           | int  |\n",
    "    | y           | int  |\n",
    "    | z           | int  |\n",
    "    +-------------+------+\n",
    "In SQL, (x, y, z) is the primary key column for this table.\n",
    "Each row of this table contains the lengths of three line segments.\n",
    "\n",
    "Report for every three line segments whether they can form a triangle.\n",
    "\n",
    "Return the result table in any order."
   ]
  },
  {
   "cell_type": "markdown",
   "id": "e490da1c-c300-4556-91f5-cc3ae3e67c99",
   "metadata": {},
   "source": [
    "#### <u>attempts</u>"
   ]
  },
  {
   "cell_type": "markdown",
   "id": "6db25b40-2151-4efa-a059-c1f1d432e940",
   "metadata": {},
   "source": [
    "didn't really bother with this one, didn't seem so much to be about SQL but rather geometry..."
   ]
  },
  {
   "cell_type": "markdown",
   "id": "03deec92-a28d-4f26-a9f0-caf92aa57dcf",
   "metadata": {},
   "source": [
    "#### <u>solutions</u>"
   ]
  },
  {
   "cell_type": "markdown",
   "id": "c4ff13af-aae2-41de-866d-a939757aba78",
   "metadata": {},
   "source": [
    "from some leetcode solution\n",
    "\n",
    "    SELECT *, IF(x+y>z AND y+z>x AND z+x>y, \"Yes\", \"No\") as triangle\n",
    "    FROM Triangle"
   ]
  },
  {
   "cell_type": "markdown",
   "id": "84d19b40-9c1d-4ec1-878c-0d3dea68aed9",
   "metadata": {},
   "source": [
    "#### <u>notes</u>"
   ]
  },
  {
   "cell_type": "markdown",
   "id": "df8128db-7083-48dc-a29c-3197e35f8174",
   "metadata": {},
   "source": [
    "new function used here, IF()\n",
    "\n",
    "1. IF\n",
    "\n",
    "The IF() function returns a value if a condition is TRUE, or another value if a condition is FALSE.\n",
    "\n",
    "syntax:\n",
    "\n",
    "    IF(condition, value_if_true, value_if_false)"
   ]
  },
  {
   "cell_type": "markdown",
   "id": "89c46bd8-d84a-4885-bf02-3a30c05faa44",
   "metadata": {
    "tags": []
   },
   "source": [
    "### 619. Biggest Single Number"
   ]
  },
  {
   "cell_type": "markdown",
   "id": "7746e787-86d1-4ab7-a58a-a290cba8a798",
   "metadata": {},
   "source": [
    "#### <u>description</u>"
   ]
  },
  {
   "cell_type": "markdown",
   "id": "4992749c-345b-4091-96b5-e6ecbdc0ca66",
   "metadata": {},
   "source": [
    "Table: MyNumbers\n",
    "\n",
    "    +-------------+------+\n",
    "    | Column Name | Type |\n",
    "    +-------------+------+\n",
    "    | num         | int  |\n",
    "    +-------------+------+\n",
    "This table may contain duplicates (In other words, there is no primary key for this table in SQL).\n",
    "Each row of this table contains an integer.\n",
    " \n",
    "\n",
    "A single number is a number that appeared only once in the MyNumbers table.\n",
    "\n",
    "Find the largest single number. If there is no single number, report null."
   ]
  },
  {
   "cell_type": "markdown",
   "id": "08f1ef02-d329-4340-a932-f9120909fb3e",
   "metadata": {},
   "source": [
    "#### <u>attempts</u>"
   ]
  },
  {
   "cell_type": "markdown",
   "id": "519f7624-5409-43ab-8c59-73ef8a5899bf",
   "metadata": {},
   "source": [
    "    SELECT MAX(num) AS num FROM (\n",
    "        SELECT * FROM MyNumbers\n",
    "        GROUP BY num\n",
    "        HAVING COUNT(num) = 1\n",
    "    ) AS sub\n",
    "\n",
    "status = success"
   ]
  },
  {
   "cell_type": "markdown",
   "id": "06515bb2-0784-4ec1-a99f-30aeec1f824c",
   "metadata": {},
   "source": [
    "#### <u>solutions</u>"
   ]
  },
  {
   "cell_type": "markdown",
   "id": "d4d10617-54e8-4b85-a580-1258fa9f73cb",
   "metadata": {},
   "source": [
    "solution from a leetcode thread, uses sorting instead of subquery\n",
    "\n",
    "    SELECT IF(COUNT(num) =1, num, null) AS num          # if the number appears exactly once, it is returned, otherwise null is returned\n",
    "    FROM MyNumbers \n",
    "    GROUP BY num                                        # groups the rows by the 'num' column. each group contains all rows with the same 'num' value\n",
    "    ORDER BY COUNT(num), num DESC                       # this clause sorts results first by the count of each 'num' in asc order, then by 'num in desc order\n",
    "                                                        # ensures that 1. numbers that appear once are at the top, 2. among those, the largest numbers appears first\n",
    "    LIMIT 1;                                            # picks the top number \n",
    "    \n",
    "NOTE: not as fast apparently. also a bit confusing since the original column and the new one are both named num, i assume the group and order is done on the new column. also not entirely sure if GPT's explanation is correct or if there is something about sql's order of operation i still don't fundamentally understand...\n",
    "\n",
    "explanation: The query groups the table by each number, counts the occurrences, and uses the IF function to either select the number (if it appears exactly once) or null. It then sorts the results such that numbers that appear exactly once are prioritized and, among those, the largest number comes first. Finally, it selects the top result."
   ]
  },
  {
   "cell_type": "markdown",
   "id": "c30bb0fd-c6f5-4c61-afdc-69ea1b36af73",
   "metadata": {},
   "source": [
    "#### <u>notes</u>"
   ]
  },
  {
   "cell_type": "markdown",
   "id": "69c57358-e25b-4376-9fa7-b4b4e0e56c00",
   "metadata": {},
   "source": [
    "initially wrote \n",
    "\n",
    "    SELECT MAX(num) AS num FROM (\n",
    "        SELECT * FROM MyNumbers\n",
    "        GROUP BY num\n",
    "        HAVING COUNT(num) = 1\n",
    "    )\n",
    "\n",
    "but this query failed. the subquery (derived table) in this case must have a name, hence the AS sub (simply putting sub next to the ending paranthesis also works)\n",
    "\n",
    "i also initialy though that my corrected query wouldn't work, that i had to write a condition in the event that there were no single numbers but that is not the case. SELECT will return null if the subquery is empty due to there being no single numbers"
   ]
  },
  {
   "cell_type": "markdown",
   "id": "e7429022-34b6-4de2-8e34-87b8030ae805",
   "metadata": {},
   "source": [
    "### 620. Not Boring Movies"
   ]
  },
  {
   "cell_type": "markdown",
   "id": "8bdb70bf-6934-40cc-8ce7-c77afdae14f2",
   "metadata": {},
   "source": [
    "#### <u>description</u>"
   ]
  },
  {
   "cell_type": "markdown",
   "id": "77c33d19-bf33-4555-bc65-7c3e1dedfe1c",
   "metadata": {},
   "source": [
    "Table: Cinema\n",
    "\n",
    "    +----------------+----------+\n",
    "    | Column Name    | Type     |\n",
    "    +----------------+----------+\n",
    "    | id             | int      |\n",
    "    | movie          | varchar  |\n",
    "    | description    | varchar  |\n",
    "    | rating         | float    |\n",
    "    +----------------+----------+\n",
    "id is the primary key (column with unique values) for this table.\n",
    "Each row contains information about the name of a movie, its genre, and its rating.\n",
    "rating is a 2 decimal places float in the range [0, 10]\n",
    " \n",
    "\n",
    "Write a solution to report the movies with an odd-numbered ID and a description that is not \"boring\".\n",
    "\n",
    "Return the result table ordered by rating in descending order."
   ]
  },
  {
   "cell_type": "markdown",
   "id": "f3b785ed-4988-4715-a46f-451bb28f40f1",
   "metadata": {},
   "source": [
    "#### <u>attempts</u>"
   ]
  },
  {
   "cell_type": "markdown",
   "id": "577973aa-421f-41eb-a5c1-7f346fcd5db9",
   "metadata": {},
   "source": [
    "    SELECT * FROM Cinema\n",
    "    WHERE MOD(id,2)=1 AND description <> 'boring'\n",
    "    ORDER BY rating DESC\n",
    "\n",
    "status = success"
   ]
  },
  {
   "cell_type": "markdown",
   "id": "a3004329-0256-4cc1-af05-4ed546e84918",
   "metadata": {},
   "source": [
    "#### <u>solutions</u>"
   ]
  },
  {
   "cell_type": "markdown",
   "id": "ed0ebbae-68fd-46e5-a893-e5e96c8e5ae8",
   "metadata": {},
   "source": [
    "just about every top solutions are the exact same as my query"
   ]
  },
  {
   "cell_type": "markdown",
   "id": "89820766-a305-4362-aded-f07592850fcf",
   "metadata": {},
   "source": [
    "#### <u>notes</u>"
   ]
  },
  {
   "cell_type": "markdown",
   "id": "bfc0a33c-c59a-4244-9872-aa6a03e6321e",
   "metadata": {},
   "source": [
    "in the WHERE clause in my attempt, it is possible to use the modulus operator instead of the function as well. so writing this also works:\n",
    "\n",
    "    WHERE id % 2 = 1 AND description <> 'boring'"
   ]
  },
  {
   "cell_type": "markdown",
   "id": "7d01b4a7-355f-4546-97b3-78fbdd7d2992",
   "metadata": {
    "jp-MarkdownHeadingCollapsed": true,
    "tags": []
   },
   "source": [
    "## Medium Problems"
   ]
  },
  {
   "cell_type": "code",
   "execution_count": null,
   "id": "31951f16-3c0d-4273-a11f-a399021234da",
   "metadata": {},
   "outputs": [],
   "source": []
  },
  {
   "cell_type": "markdown",
   "id": "d01b7845-8bf1-4e01-9964-c5cc40dd9c5f",
   "metadata": {
    "jp-MarkdownHeadingCollapsed": true,
    "tags": []
   },
   "source": [
    "## Hard Problems"
   ]
  },
  {
   "cell_type": "code",
   "execution_count": null,
   "id": "5b9541e7-24e7-4031-9eac-2374dcc6ad6d",
   "metadata": {},
   "outputs": [],
   "source": []
  }
 ],
 "metadata": {
  "kernelspec": {
   "display_name": "Python 3",
   "language": "python",
   "name": "python3"
  },
  "language_info": {
   "codemirror_mode": {
    "name": "ipython",
    "version": 3
   },
   "file_extension": ".py",
   "mimetype": "text/x-python",
   "name": "python",
   "nbconvert_exporter": "python",
   "pygments_lexer": "ipython3",
   "version": "3.8.5"
  }
 },
 "nbformat": 4,
 "nbformat_minor": 5
}
