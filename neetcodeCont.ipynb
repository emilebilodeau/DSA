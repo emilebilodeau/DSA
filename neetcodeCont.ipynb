{
 "cells": [
  {
   "cell_type": "code",
   "execution_count": 1,
   "id": "aecabd0f-d8b3-4155-922d-0b828a23be7b",
   "metadata": {},
   "outputs": [],
   "source": [
    "import collections"
   ]
  },
  {
   "cell_type": "markdown",
   "id": "b01544fd-36d2-42e0-8386-524093e0e2f6",
   "metadata": {},
   "source": [
    "# NOTES"
   ]
  },
  {
   "cell_type": "markdown",
   "id": "45314515-d067-4c4f-be64-f9eeb72eb73e",
   "metadata": {},
   "source": [
    "### general notes\n",
    "1. problems denoted by * proved to be quite challenging for me upon first attempt\n",
    "2. problems denoted by ** are exceedingly challenging and will require a lot of revision\n",
    "3. problems denoted by @ remain incomplete\n",
    "4. in leetcode, problems with notes in green are first attempts/solutions or reworks after failure. those with notes in blue are review\n",
    "\n",
    "### study notes"
   ]
  },
  {
   "cell_type": "markdown",
   "id": "97c03178-63bc-42fc-9b20-d0f20d006c70",
   "metadata": {},
   "source": [
    "# 5b. Backtracking"
   ]
  },
  {
   "cell_type": "code",
   "execution_count": null,
   "id": "9d3ea6b8-01f7-42b2-9b04-9705ed305b0c",
   "metadata": {},
   "outputs": [],
   "source": []
  },
  {
   "cell_type": "markdown",
   "id": "78243158-3989-4ba7-ac21-16716c08f6d1",
   "metadata": {},
   "source": [
    "# 6a. Heap / Priority Queue"
   ]
  },
  {
   "cell_type": "code",
   "execution_count": null,
   "id": "29b76e34-e3d4-48d8-8f52-a8cc96bebde7",
   "metadata": {},
   "outputs": [],
   "source": []
  },
  {
   "cell_type": "markdown",
   "id": "6fd66526-f785-4ecb-a83b-ebde544902fb",
   "metadata": {},
   "source": [
    "# 6c. 1-D Dynamic Programming"
   ]
  },
  {
   "cell_type": "code",
   "execution_count": null,
   "id": "38fa0674-4287-485d-b567-ebe517c59a03",
   "metadata": {},
   "outputs": [],
   "source": []
  }
 ],
 "metadata": {
  "kernelspec": {
   "display_name": "Python 3",
   "language": "python",
   "name": "python3"
  },
  "language_info": {
   "codemirror_mode": {
    "name": "ipython",
    "version": 3
   },
   "file_extension": ".py",
   "mimetype": "text/x-python",
   "name": "python",
   "nbconvert_exporter": "python",
   "pygments_lexer": "ipython3",
   "version": "3.8.5"
  }
 },
 "nbformat": 4,
 "nbformat_minor": 5
}
